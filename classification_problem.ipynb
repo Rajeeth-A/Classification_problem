{
 "cells": [
  {
   "cell_type": "markdown",
   "id": "85a88ab1",
   "metadata": {},
   "source": [
    "# Classification ignition point "
   ]
  },
  {
   "cell_type": "markdown",
   "id": "924476b3",
   "metadata": {},
   "source": [
    "# Structure \n",
    "\n",
    "| Column name | Definition | Unit |\n",
    "|--------|-----------|--------|\n",
    "| `ignition`   | Target column| Boolean: {1,0} |\n",
    "| `distance_{feature}` | Distance to nearest feature  |  Meters (m) |\n",
    "| vegetation class: from `cropland` to `wetland`  |  Ratio of each of the vegetation classes  under which the ignition or non-ignition point lies    |  No unit (between 0 and 1)  |\n",
    "| `aspect`  |  Orientation of the slope    |  Degrees (°)  |\n",
    "| `elevation`  |  elevation value    |  Meters  |\n",
    "| `slope`  |  Slope value    |  Degrees (°)  |\n",
    "| `pop_dens`  |  Population density value    |  Persons per km2  |\n",
    "| `max_temp`  |  Maximum temperature of the day    |  Degrees celsius (°C)  |\n",
    "| `avg_temp`  |  Average temperature of the day   |  Degrees celsius (°C)  |\n",
    "| `max_wind_vel`  |  Maximum wind velocity of the day    |  Meters per second (m/s)  |\n",
    "| `avg_wind_angle`  |  Average angle of the vector wind over the day    |  Degrees (°)  |\n",
    "| `avg_rel_hum`  |  Average relative humidity over the day    |  %  |\n",
    "| `avg_soil`  |  Average soil moisture of the day    |  m3/m3  |\n",
    "| `sum_prec`  |  Cumulative rainfall precipitation of the day    |  Millimeters (mm)  |\n",
    "| `yearly_avg_temp`  |  Average temperature over the year    |  Degrees celsius (°C)  |\n",
    "| `anom_{feature}`  |  Standardized anomaly of weather for the given day over the last 30 years. When the anomaly is positive, it means that the feature value is greater that the 30-year average    |  No unity |\n",
    "| `forest`  |  Sum of all the columns where the names start with `forest`   |  No unit  |\n",
    "| `vegetation_class`  |  Vegetation with the max occurrence in the vicinity of the ignition/non-ignition point    |  Without unit  |\n",
    "| `Year`  |  Year of ignition    |  Without unit  |\n",
    "| `max_max_temp`  |  Missing information    |  Missing information  |\n",
    "\n"
   ]
  },
  {
   "cell_type": "markdown",
   "id": "fb08f2a5",
   "metadata": {},
   "source": [
    "# Task"
   ]
  },
  {
   "cell_type": "markdown",
   "id": "346567fc",
   "metadata": {},
   "source": [
    "### Libraries"
   ]
  },
  {
   "cell_type": "code",
   "execution_count": 1,
   "id": "65b961f8",
   "metadata": {},
   "outputs": [],
   "source": [
    "# Importation des librairies\n",
    "import os\n",
    "import time\n",
    "import warnings\n",
    "import numpy as np\n",
    "import pandas as pd\n",
    "import matplotlib.pyplot as plt\n",
    "import seaborn as sns\n",
    "\n",
    "from itertools import product\n",
    "import random\n",
    "from random import seed as random_seed\n",
    "\n",
    "from tqdm import tqdm\n",
    "import plotly.graph_objects as go\n",
    "\n",
    "import tensorflow as tf\n",
    "from tensorflow.keras import Sequential\n",
    "from tensorflow.keras.layers import Dense, InputLayer\n",
    "from tensorflow.random import set_seed as tf_set_seed\n",
    "\n",
    "from sklearn.preprocessing import StandardScaler\n",
    "from sklearn.model_selection import StratifiedKFold\n",
    "from sklearn.metrics import accuracy_score, f1_score, confusion_matrix\n",
    "from sklearn.exceptions import ConvergenceWarning\n",
    "from sklearn.ensemble import RandomForestClassifier\n",
    "from sklearn.ensemble import GradientBoostingClassifier\n",
    "\n",
    "# Configuration pour éviter les avertissements\n",
    "os.environ['TF_ENABLE_ONEDNN_OPTS'] = '0'\n",
    "warnings.filterwarnings(\"ignore\", category=DeprecationWarning)\n",
    "warnings.filterwarnings(\"ignore\", category=ConvergenceWarning)"
   ]
  },
  {
   "cell_type": "markdown",
   "id": "b3c54a4a",
   "metadata": {},
   "source": [
    "### Exploration des données"
   ]
  },
  {
   "cell_type": "code",
   "execution_count": 7,
   "id": "bdffcb0b",
   "metadata": {},
   "outputs": [
    {
     "name": "stdout",
     "output_type": "stream",
     "text": [
      "<class 'pandas.core.frame.DataFrame'>\n",
      "Index: 22035 entries, 0 to 22034\n",
      "Data columns (total 42 columns):\n",
      " #   Column                   Non-Null Count  Dtype  \n",
      "---  ------                   --------------  -----  \n",
      " 0   Date                     22035 non-null  object \n",
      " 1   distance_fire_stations   22030 non-null  float64\n",
      " 2   distance_rivers          22030 non-null  float64\n",
      " 3   distance_roads           22030 non-null  float64\n",
      " 4   distance_powerlines      22030 non-null  float64\n",
      " 5   cropland                 22030 non-null  float64\n",
      " 6   forest_deciduous_broad   22030 non-null  float64\n",
      " 7   forest_deciduous_needle  22030 non-null  float64\n",
      " 8   forest_evergreen_broad   22030 non-null  float64\n",
      " 9   forest_evergreen_needle  22030 non-null  float64\n",
      " 10  forest_mixed             22030 non-null  float64\n",
      " 11  forest_unknown           22030 non-null  float64\n",
      " 12  herbaceous_vegetation    22030 non-null  float64\n",
      " 13  moss_lichen              22030 non-null  float64\n",
      " 14  shrubland                22030 non-null  float64\n",
      " 15  sprarse_vegetation       22030 non-null  float64\n",
      " 16  urban                    22030 non-null  float64\n",
      " 17  water                    22030 non-null  float64\n",
      " 18  wetland                  22030 non-null  float64\n",
      " 19  aspect                   22035 non-null  float64\n",
      " 20  elevation                22035 non-null  float64\n",
      " 21  pop_dens                 22035 non-null  float64\n",
      " 22  slope                    22035 non-null  float64\n",
      " 23  anom_max_temp            22035 non-null  float64\n",
      " 24  anom_max_wind_vel        22035 non-null  float64\n",
      " 25  anom_avg_temp            22035 non-null  float64\n",
      " 26  anom_avg_rel_hum         22035 non-null  float64\n",
      " 27  anom_avg_soil            22035 non-null  float64\n",
      " 28  anom_sum_prec            22035 non-null  float64\n",
      " 29  max_temp                 22035 non-null  float64\n",
      " 30  max_wind_vel             22035 non-null  float64\n",
      " 31  avg_temp                 22035 non-null  float64\n",
      " 32  avg_wind_angle           22035 non-null  float64\n",
      " 33  avg_rel_hum              22035 non-null  float64\n",
      " 34  avg_soil                 22035 non-null  float64\n",
      " 35  sum_prec                 22035 non-null  float64\n",
      " 36  forest                   22035 non-null  float64\n",
      " 37  vegetation_class         22003 non-null  object \n",
      " 38  Year                     22035 non-null  int64  \n",
      " 39  max_max_temp             22035 non-null  float64\n",
      " 40  yearly_avg_temp          15204 non-null  float64\n",
      " 41  ignition                 22035 non-null  int64  \n",
      "dtypes: float64(38), int64(2), object(2)\n",
      "memory usage: 7.2+ MB\n"
     ]
    }
   ],
   "source": [
    "df.info()"
   ]
  },
  {
   "cell_type": "code",
   "execution_count": 8,
   "id": "b5167156",
   "metadata": {},
   "outputs": [],
   "source": [
    "df[\"Date\"] = pd.to_datetime(df[\"Date\"])"
   ]
  },
  {
   "cell_type": "code",
   "execution_count": 9,
   "id": "22aca1fb",
   "metadata": {},
   "outputs": [
    {
     "data": {
      "text/html": [
       "<div>\n",
       "<style scoped>\n",
       "    .dataframe tbody tr th:only-of-type {\n",
       "        vertical-align: middle;\n",
       "    }\n",
       "\n",
       "    .dataframe tbody tr th {\n",
       "        vertical-align: top;\n",
       "    }\n",
       "\n",
       "    .dataframe thead th {\n",
       "        text-align: right;\n",
       "    }\n",
       "</style>\n",
       "<table border=\"1\" class=\"dataframe\">\n",
       "  <thead>\n",
       "    <tr style=\"text-align: right;\">\n",
       "      <th></th>\n",
       "      <th>count</th>\n",
       "      <th>mean</th>\n",
       "      <th>min</th>\n",
       "      <th>25%</th>\n",
       "      <th>50%</th>\n",
       "      <th>75%</th>\n",
       "      <th>max</th>\n",
       "      <th>std</th>\n",
       "    </tr>\n",
       "  </thead>\n",
       "  <tbody>\n",
       "    <tr>\n",
       "      <th>Date</th>\n",
       "      <td>22035</td>\n",
       "      <td>2011-10-10 20:17:32.797821696</td>\n",
       "      <td>2001-07-01 00:00:00</td>\n",
       "      <td>2006-11-02 12:00:00</td>\n",
       "      <td>2012-02-14 00:00:00</td>\n",
       "      <td>2016-08-26 00:00:00</td>\n",
       "      <td>2021-06-28 00:00:00</td>\n",
       "      <td>NaN</td>\n",
       "    </tr>\n",
       "    <tr>\n",
       "      <th>distance_fire_stations</th>\n",
       "      <td>22030.0</td>\n",
       "      <td>23646.387792</td>\n",
       "      <td>0.0</td>\n",
       "      <td>9568.829605</td>\n",
       "      <td>18494.931738</td>\n",
       "      <td>32310.988843</td>\n",
       "      <td>110474.261708</td>\n",
       "      <td>19248.657525</td>\n",
       "    </tr>\n",
       "    <tr>\n",
       "      <th>distance_rivers</th>\n",
       "      <td>22030.0</td>\n",
       "      <td>5966.777537</td>\n",
       "      <td>0.0</td>\n",
       "      <td>707.106781</td>\n",
       "      <td>2610.076627</td>\n",
       "      <td>8384.323013</td>\n",
       "      <td>43784.986011</td>\n",
       "      <td>7515.660146</td>\n",
       "    </tr>\n",
       "    <tr>\n",
       "      <th>distance_roads</th>\n",
       "      <td>22030.0</td>\n",
       "      <td>5152.597702</td>\n",
       "      <td>0.0</td>\n",
       "      <td>250.0</td>\n",
       "      <td>1581.13883</td>\n",
       "      <td>7941.190087</td>\n",
       "      <td>40094.419811</td>\n",
       "      <td>6924.754655</td>\n",
       "    </tr>\n",
       "    <tr>\n",
       "      <th>distance_powerlines</th>\n",
       "      <td>22030.0</td>\n",
       "      <td>30127.951951</td>\n",
       "      <td>0.0</td>\n",
       "      <td>8265.137627</td>\n",
       "      <td>20846.161854</td>\n",
       "      <td>41340.053217</td>\n",
       "      <td>159274.919557</td>\n",
       "      <td>30099.446768</td>\n",
       "    </tr>\n",
       "    <tr>\n",
       "      <th>cropland</th>\n",
       "      <td>22030.0</td>\n",
       "      <td>0.006415</td>\n",
       "      <td>0.0</td>\n",
       "      <td>0.0</td>\n",
       "      <td>0.0</td>\n",
       "      <td>0.0</td>\n",
       "      <td>1.0</td>\n",
       "      <td>0.057848</td>\n",
       "    </tr>\n",
       "    <tr>\n",
       "      <th>forest_deciduous_broad</th>\n",
       "      <td>22030.0</td>\n",
       "      <td>0.013557</td>\n",
       "      <td>0.0</td>\n",
       "      <td>0.0</td>\n",
       "      <td>0.0</td>\n",
       "      <td>0.0</td>\n",
       "      <td>1.0</td>\n",
       "      <td>0.088239</td>\n",
       "    </tr>\n",
       "    <tr>\n",
       "      <th>forest_deciduous_needle</th>\n",
       "      <td>22030.0</td>\n",
       "      <td>0.0</td>\n",
       "      <td>0.0</td>\n",
       "      <td>0.0</td>\n",
       "      <td>0.0</td>\n",
       "      <td>0.0</td>\n",
       "      <td>0.0</td>\n",
       "      <td>0.0</td>\n",
       "    </tr>\n",
       "    <tr>\n",
       "      <th>forest_evergreen_broad</th>\n",
       "      <td>22030.0</td>\n",
       "      <td>0.326108</td>\n",
       "      <td>0.0</td>\n",
       "      <td>0.0</td>\n",
       "      <td>0.0</td>\n",
       "      <td>0.916667</td>\n",
       "      <td>1.0</td>\n",
       "      <td>0.43312</td>\n",
       "    </tr>\n",
       "    <tr>\n",
       "      <th>forest_evergreen_needle</th>\n",
       "      <td>22030.0</td>\n",
       "      <td>-4584.657286</td>\n",
       "      <td>-100000.0</td>\n",
       "      <td>0.0</td>\n",
       "      <td>0.0</td>\n",
       "      <td>0.0</td>\n",
       "      <td>0.0</td>\n",
       "      <td>20915.699938</td>\n",
       "    </tr>\n",
       "    <tr>\n",
       "      <th>forest_mixed</th>\n",
       "      <td>22030.0</td>\n",
       "      <td>0.0</td>\n",
       "      <td>0.0</td>\n",
       "      <td>0.0</td>\n",
       "      <td>0.0</td>\n",
       "      <td>0.0</td>\n",
       "      <td>0.0</td>\n",
       "      <td>0.0</td>\n",
       "    </tr>\n",
       "    <tr>\n",
       "      <th>forest_unknown</th>\n",
       "      <td>22030.0</td>\n",
       "      <td>0.086666</td>\n",
       "      <td>0.0</td>\n",
       "      <td>0.0</td>\n",
       "      <td>0.0</td>\n",
       "      <td>0.083333</td>\n",
       "      <td>1.0</td>\n",
       "      <td>0.190443</td>\n",
       "    </tr>\n",
       "    <tr>\n",
       "      <th>herbaceous_vegetation</th>\n",
       "      <td>22030.0</td>\n",
       "      <td>0.175242</td>\n",
       "      <td>0.0</td>\n",
       "      <td>0.0</td>\n",
       "      <td>0.0</td>\n",
       "      <td>0.166667</td>\n",
       "      <td>1.0</td>\n",
       "      <td>0.326063</td>\n",
       "    </tr>\n",
       "    <tr>\n",
       "      <th>moss_lichen</th>\n",
       "      <td>22030.0</td>\n",
       "      <td>0.0</td>\n",
       "      <td>0.0</td>\n",
       "      <td>0.0</td>\n",
       "      <td>0.0</td>\n",
       "      <td>0.0</td>\n",
       "      <td>0.0</td>\n",
       "      <td>0.0</td>\n",
       "    </tr>\n",
       "    <tr>\n",
       "      <th>shrubland</th>\n",
       "      <td>22030.0</td>\n",
       "      <td>0.006487</td>\n",
       "      <td>0.0</td>\n",
       "      <td>0.0</td>\n",
       "      <td>0.0</td>\n",
       "      <td>0.0</td>\n",
       "      <td>0.833333</td>\n",
       "      <td>0.04462</td>\n",
       "    </tr>\n",
       "    <tr>\n",
       "      <th>sprarse_vegetation</th>\n",
       "      <td>22030.0</td>\n",
       "      <td>0.000113</td>\n",
       "      <td>0.0</td>\n",
       "      <td>0.0</td>\n",
       "      <td>0.0</td>\n",
       "      <td>0.0</td>\n",
       "      <td>0.833333</td>\n",
       "      <td>0.007233</td>\n",
       "    </tr>\n",
       "    <tr>\n",
       "      <th>urban</th>\n",
       "      <td>22030.0</td>\n",
       "      <td>0.004558</td>\n",
       "      <td>0.0</td>\n",
       "      <td>0.0</td>\n",
       "      <td>0.0</td>\n",
       "      <td>0.0</td>\n",
       "      <td>1.0</td>\n",
       "      <td>0.050796</td>\n",
       "    </tr>\n",
       "    <tr>\n",
       "      <th>water</th>\n",
       "      <td>22030.0</td>\n",
       "      <td>0.366614</td>\n",
       "      <td>0.0</td>\n",
       "      <td>0.0</td>\n",
       "      <td>0.0</td>\n",
       "      <td>1.0</td>\n",
       "      <td>1.0</td>\n",
       "      <td>0.475032</td>\n",
       "    </tr>\n",
       "    <tr>\n",
       "      <th>wetland</th>\n",
       "      <td>22030.0</td>\n",
       "      <td>0.014238</td>\n",
       "      <td>0.0</td>\n",
       "      <td>0.0</td>\n",
       "      <td>0.0</td>\n",
       "      <td>0.0</td>\n",
       "      <td>1.0</td>\n",
       "      <td>0.087077</td>\n",
       "    </tr>\n",
       "    <tr>\n",
       "      <th>aspect</th>\n",
       "      <td>22035.0</td>\n",
       "      <td>177.44476</td>\n",
       "      <td>0.0</td>\n",
       "      <td>132.75171</td>\n",
       "      <td>180.0</td>\n",
       "      <td>216.083446</td>\n",
       "      <td>359.951071</td>\n",
       "      <td>85.610114</td>\n",
       "    </tr>\n",
       "    <tr>\n",
       "      <th>elevation</th>\n",
       "      <td>22035.0</td>\n",
       "      <td>189.545768</td>\n",
       "      <td>-100.0</td>\n",
       "      <td>-100.0</td>\n",
       "      <td>97.0</td>\n",
       "      <td>356.0</td>\n",
       "      <td>1490.0</td>\n",
       "      <td>319.669314</td>\n",
       "    </tr>\n",
       "    <tr>\n",
       "      <th>pop_dens</th>\n",
       "      <td>22035.0</td>\n",
       "      <td>12.623212</td>\n",
       "      <td>0.0</td>\n",
       "      <td>0.0</td>\n",
       "      <td>0.018564</td>\n",
       "      <td>0.684358</td>\n",
       "      <td>2219.102051</td>\n",
       "      <td>106.875597</td>\n",
       "    </tr>\n",
       "    <tr>\n",
       "      <th>slope</th>\n",
       "      <td>22035.0</td>\n",
       "      <td>5.46582</td>\n",
       "      <td>0.0</td>\n",
       "      <td>0.0</td>\n",
       "      <td>2.46576</td>\n",
       "      <td>8.087883</td>\n",
       "      <td>64.479202</td>\n",
       "      <td>7.590783</td>\n",
       "    </tr>\n",
       "    <tr>\n",
       "      <th>anom_max_temp</th>\n",
       "      <td>22035.0</td>\n",
       "      <td>2.044202</td>\n",
       "      <td>-7.159943</td>\n",
       "      <td>-0.09809</td>\n",
       "      <td>1.768574</td>\n",
       "      <td>3.918903</td>\n",
       "      <td>16.340687</td>\n",
       "      <td>3.026061</td>\n",
       "    </tr>\n",
       "    <tr>\n",
       "      <th>anom_max_wind_vel</th>\n",
       "      <td>22035.0</td>\n",
       "      <td>2.202667</td>\n",
       "      <td>-7.363498</td>\n",
       "      <td>-0.172485</td>\n",
       "      <td>1.964479</td>\n",
       "      <td>4.269049</td>\n",
       "      <td>22.360945</td>\n",
       "      <td>3.320765</td>\n",
       "    </tr>\n",
       "    <tr>\n",
       "      <th>anom_avg_temp</th>\n",
       "      <td>22035.0</td>\n",
       "      <td>1.941795</td>\n",
       "      <td>-9.482144</td>\n",
       "      <td>0.202694</td>\n",
       "      <td>1.928117</td>\n",
       "      <td>3.628255</td>\n",
       "      <td>13.051181</td>\n",
       "      <td>2.559182</td>\n",
       "    </tr>\n",
       "    <tr>\n",
       "      <th>anom_avg_rel_hum</th>\n",
       "      <td>22035.0</td>\n",
       "      <td>2.231864</td>\n",
       "      <td>-9.155835</td>\n",
       "      <td>0.29364</td>\n",
       "      <td>2.066875</td>\n",
       "      <td>4.100976</td>\n",
       "      <td>15.005052</td>\n",
       "      <td>2.796936</td>\n",
       "    </tr>\n",
       "    <tr>\n",
       "      <th>anom_avg_soil</th>\n",
       "      <td>22035.0</td>\n",
       "      <td>0.458071</td>\n",
       "      <td>-6.903322</td>\n",
       "      <td>-0.727537</td>\n",
       "      <td>0.439721</td>\n",
       "      <td>1.647857</td>\n",
       "      <td>8.484861</td>\n",
       "      <td>1.651015</td>\n",
       "    </tr>\n",
       "    <tr>\n",
       "      <th>anom_sum_prec</th>\n",
       "      <td>22035.0</td>\n",
       "      <td>0.040211</td>\n",
       "      <td>-3.103708</td>\n",
       "      <td>-0.710898</td>\n",
       "      <td>-0.090009</td>\n",
       "      <td>0.691713</td>\n",
       "      <td>4.699601</td>\n",
       "      <td>1.042084</td>\n",
       "    </tr>\n",
       "    <tr>\n",
       "      <th>max_temp</th>\n",
       "      <td>22035.0</td>\n",
       "      <td>15.128294</td>\n",
       "      <td>1.171763</td>\n",
       "      <td>11.911636</td>\n",
       "      <td>14.78595</td>\n",
       "      <td>18.254815</td>\n",
       "      <td>32.431244</td>\n",
       "      <td>4.43524</td>\n",
       "    </tr>\n",
       "    <tr>\n",
       "      <th>max_wind_vel</th>\n",
       "      <td>22035.0</td>\n",
       "      <td>5.728723</td>\n",
       "      <td>0.978202</td>\n",
       "      <td>3.858555</td>\n",
       "      <td>5.250791</td>\n",
       "      <td>7.18029</td>\n",
       "      <td>19.703424</td>\n",
       "      <td>2.483441</td>\n",
       "    </tr>\n",
       "    <tr>\n",
       "      <th>avg_temp</th>\n",
       "      <td>22035.0</td>\n",
       "      <td>158.859675</td>\n",
       "      <td>-4.109107</td>\n",
       "      <td>7.687609</td>\n",
       "      <td>276.348625</td>\n",
       "      <td>280.721741</td>\n",
       "      <td>292.551632</td>\n",
       "      <td>135.801507</td>\n",
       "    </tr>\n",
       "    <tr>\n",
       "      <th>avg_wind_angle</th>\n",
       "      <td>22035.0</td>\n",
       "      <td>197.707583</td>\n",
       "      <td>0.792745</td>\n",
       "      <td>133.581253</td>\n",
       "      <td>203.072937</td>\n",
       "      <td>257.033798</td>\n",
       "      <td>358.530182</td>\n",
       "      <td>83.336828</td>\n",
       "    </tr>\n",
       "    <tr>\n",
       "      <th>avg_rel_hum</th>\n",
       "      <td>22035.0</td>\n",
       "      <td>76.109929</td>\n",
       "      <td>40.705662</td>\n",
       "      <td>70.623573</td>\n",
       "      <td>76.005028</td>\n",
       "      <td>81.626057</td>\n",
       "      <td>98.558968</td>\n",
       "      <td>8.02789</td>\n",
       "    </tr>\n",
       "    <tr>\n",
       "      <th>avg_soil</th>\n",
       "      <td>22035.0</td>\n",
       "      <td>0.285717</td>\n",
       "      <td>0.050758</td>\n",
       "      <td>0.233063</td>\n",
       "      <td>0.287844</td>\n",
       "      <td>0.346534</td>\n",
       "      <td>0.501387</td>\n",
       "      <td>0.07839</td>\n",
       "    </tr>\n",
       "    <tr>\n",
       "      <th>sum_prec</th>\n",
       "      <td>22035.0</td>\n",
       "      <td>1.662872</td>\n",
       "      <td>-0.000007</td>\n",
       "      <td>0.0</td>\n",
       "      <td>0.154361</td>\n",
       "      <td>1.85404</td>\n",
       "      <td>40.440075</td>\n",
       "      <td>3.230198</td>\n",
       "    </tr>\n",
       "    <tr>\n",
       "      <th>forest</th>\n",
       "      <td>22035.0</td>\n",
       "      <td>0.426235</td>\n",
       "      <td>0.0</td>\n",
       "      <td>0.0</td>\n",
       "      <td>0.166667</td>\n",
       "      <td>1.0</td>\n",
       "      <td>1.0</td>\n",
       "      <td>0.455856</td>\n",
       "    </tr>\n",
       "    <tr>\n",
       "      <th>Year</th>\n",
       "      <td>22035.0</td>\n",
       "      <td>2011.278784</td>\n",
       "      <td>2001.0</td>\n",
       "      <td>2006.0</td>\n",
       "      <td>2012.0</td>\n",
       "      <td>2016.0</td>\n",
       "      <td>2021.0</td>\n",
       "      <td>5.693506</td>\n",
       "    </tr>\n",
       "    <tr>\n",
       "      <th>max_max_temp</th>\n",
       "      <td>22035.0</td>\n",
       "      <td>59.230929</td>\n",
       "      <td>34.109174</td>\n",
       "      <td>53.440945</td>\n",
       "      <td>58.614709</td>\n",
       "      <td>64.858667</td>\n",
       "      <td>90.376239</td>\n",
       "      <td>7.983432</td>\n",
       "    </tr>\n",
       "    <tr>\n",
       "      <th>yearly_avg_temp</th>\n",
       "      <td>15204.0</td>\n",
       "      <td>14.999755</td>\n",
       "      <td>14.597322</td>\n",
       "      <td>14.931427</td>\n",
       "      <td>14.999861</td>\n",
       "      <td>15.068628</td>\n",
       "      <td>15.369208</td>\n",
       "      <td>0.100675</td>\n",
       "    </tr>\n",
       "    <tr>\n",
       "      <th>ignition</th>\n",
       "      <td>22035.0</td>\n",
       "      <td>0.150669</td>\n",
       "      <td>0.0</td>\n",
       "      <td>0.0</td>\n",
       "      <td>0.0</td>\n",
       "      <td>0.0</td>\n",
       "      <td>1.0</td>\n",
       "      <td>0.357734</td>\n",
       "    </tr>\n",
       "  </tbody>\n",
       "</table>\n",
       "</div>"
      ],
      "text/plain": [
       "                           count                           mean  \\\n",
       "Date                       22035  2011-10-10 20:17:32.797821696   \n",
       "distance_fire_stations   22030.0                   23646.387792   \n",
       "distance_rivers          22030.0                    5966.777537   \n",
       "distance_roads           22030.0                    5152.597702   \n",
       "distance_powerlines      22030.0                   30127.951951   \n",
       "cropland                 22030.0                       0.006415   \n",
       "forest_deciduous_broad   22030.0                       0.013557   \n",
       "forest_deciduous_needle  22030.0                            0.0   \n",
       "forest_evergreen_broad   22030.0                       0.326108   \n",
       "forest_evergreen_needle  22030.0                   -4584.657286   \n",
       "forest_mixed             22030.0                            0.0   \n",
       "forest_unknown           22030.0                       0.086666   \n",
       "herbaceous_vegetation    22030.0                       0.175242   \n",
       "moss_lichen              22030.0                            0.0   \n",
       "shrubland                22030.0                       0.006487   \n",
       "sprarse_vegetation       22030.0                       0.000113   \n",
       "urban                    22030.0                       0.004558   \n",
       "water                    22030.0                       0.366614   \n",
       "wetland                  22030.0                       0.014238   \n",
       "aspect                   22035.0                      177.44476   \n",
       "elevation                22035.0                     189.545768   \n",
       "pop_dens                 22035.0                      12.623212   \n",
       "slope                    22035.0                        5.46582   \n",
       "anom_max_temp            22035.0                       2.044202   \n",
       "anom_max_wind_vel        22035.0                       2.202667   \n",
       "anom_avg_temp            22035.0                       1.941795   \n",
       "anom_avg_rel_hum         22035.0                       2.231864   \n",
       "anom_avg_soil            22035.0                       0.458071   \n",
       "anom_sum_prec            22035.0                       0.040211   \n",
       "max_temp                 22035.0                      15.128294   \n",
       "max_wind_vel             22035.0                       5.728723   \n",
       "avg_temp                 22035.0                     158.859675   \n",
       "avg_wind_angle           22035.0                     197.707583   \n",
       "avg_rel_hum              22035.0                      76.109929   \n",
       "avg_soil                 22035.0                       0.285717   \n",
       "sum_prec                 22035.0                       1.662872   \n",
       "forest                   22035.0                       0.426235   \n",
       "Year                     22035.0                    2011.278784   \n",
       "max_max_temp             22035.0                      59.230929   \n",
       "yearly_avg_temp          15204.0                      14.999755   \n",
       "ignition                 22035.0                       0.150669   \n",
       "\n",
       "                                         min                  25%  \\\n",
       "Date                     2001-07-01 00:00:00  2006-11-02 12:00:00   \n",
       "distance_fire_stations                   0.0          9568.829605   \n",
       "distance_rivers                          0.0           707.106781   \n",
       "distance_roads                           0.0                250.0   \n",
       "distance_powerlines                      0.0          8265.137627   \n",
       "cropland                                 0.0                  0.0   \n",
       "forest_deciduous_broad                   0.0                  0.0   \n",
       "forest_deciduous_needle                  0.0                  0.0   \n",
       "forest_evergreen_broad                   0.0                  0.0   \n",
       "forest_evergreen_needle            -100000.0                  0.0   \n",
       "forest_mixed                             0.0                  0.0   \n",
       "forest_unknown                           0.0                  0.0   \n",
       "herbaceous_vegetation                    0.0                  0.0   \n",
       "moss_lichen                              0.0                  0.0   \n",
       "shrubland                                0.0                  0.0   \n",
       "sprarse_vegetation                       0.0                  0.0   \n",
       "urban                                    0.0                  0.0   \n",
       "water                                    0.0                  0.0   \n",
       "wetland                                  0.0                  0.0   \n",
       "aspect                                   0.0            132.75171   \n",
       "elevation                             -100.0               -100.0   \n",
       "pop_dens                                 0.0                  0.0   \n",
       "slope                                    0.0                  0.0   \n",
       "anom_max_temp                      -7.159943             -0.09809   \n",
       "anom_max_wind_vel                  -7.363498            -0.172485   \n",
       "anom_avg_temp                      -9.482144             0.202694   \n",
       "anom_avg_rel_hum                   -9.155835              0.29364   \n",
       "anom_avg_soil                      -6.903322            -0.727537   \n",
       "anom_sum_prec                      -3.103708            -0.710898   \n",
       "max_temp                            1.171763            11.911636   \n",
       "max_wind_vel                        0.978202             3.858555   \n",
       "avg_temp                           -4.109107             7.687609   \n",
       "avg_wind_angle                      0.792745           133.581253   \n",
       "avg_rel_hum                        40.705662            70.623573   \n",
       "avg_soil                            0.050758             0.233063   \n",
       "sum_prec                           -0.000007                  0.0   \n",
       "forest                                   0.0                  0.0   \n",
       "Year                                  2001.0               2006.0   \n",
       "max_max_temp                       34.109174            53.440945   \n",
       "yearly_avg_temp                    14.597322            14.931427   \n",
       "ignition                                 0.0                  0.0   \n",
       "\n",
       "                                         50%                  75%  \\\n",
       "Date                     2012-02-14 00:00:00  2016-08-26 00:00:00   \n",
       "distance_fire_stations          18494.931738         32310.988843   \n",
       "distance_rivers                  2610.076627          8384.323013   \n",
       "distance_roads                    1581.13883          7941.190087   \n",
       "distance_powerlines             20846.161854         41340.053217   \n",
       "cropland                                 0.0                  0.0   \n",
       "forest_deciduous_broad                   0.0                  0.0   \n",
       "forest_deciduous_needle                  0.0                  0.0   \n",
       "forest_evergreen_broad                   0.0             0.916667   \n",
       "forest_evergreen_needle                  0.0                  0.0   \n",
       "forest_mixed                             0.0                  0.0   \n",
       "forest_unknown                           0.0             0.083333   \n",
       "herbaceous_vegetation                    0.0             0.166667   \n",
       "moss_lichen                              0.0                  0.0   \n",
       "shrubland                                0.0                  0.0   \n",
       "sprarse_vegetation                       0.0                  0.0   \n",
       "urban                                    0.0                  0.0   \n",
       "water                                    0.0                  1.0   \n",
       "wetland                                  0.0                  0.0   \n",
       "aspect                                 180.0           216.083446   \n",
       "elevation                               97.0                356.0   \n",
       "pop_dens                            0.018564             0.684358   \n",
       "slope                                2.46576             8.087883   \n",
       "anom_max_temp                       1.768574             3.918903   \n",
       "anom_max_wind_vel                   1.964479             4.269049   \n",
       "anom_avg_temp                       1.928117             3.628255   \n",
       "anom_avg_rel_hum                    2.066875             4.100976   \n",
       "anom_avg_soil                       0.439721             1.647857   \n",
       "anom_sum_prec                      -0.090009             0.691713   \n",
       "max_temp                            14.78595            18.254815   \n",
       "max_wind_vel                        5.250791              7.18029   \n",
       "avg_temp                          276.348625           280.721741   \n",
       "avg_wind_angle                    203.072937           257.033798   \n",
       "avg_rel_hum                        76.005028            81.626057   \n",
       "avg_soil                            0.287844             0.346534   \n",
       "sum_prec                            0.154361              1.85404   \n",
       "forest                              0.166667                  1.0   \n",
       "Year                                  2012.0               2016.0   \n",
       "max_max_temp                       58.614709            64.858667   \n",
       "yearly_avg_temp                    14.999861            15.068628   \n",
       "ignition                                 0.0                  0.0   \n",
       "\n",
       "                                         max           std  \n",
       "Date                     2021-06-28 00:00:00           NaN  \n",
       "distance_fire_stations         110474.261708  19248.657525  \n",
       "distance_rivers                 43784.986011   7515.660146  \n",
       "distance_roads                  40094.419811   6924.754655  \n",
       "distance_powerlines            159274.919557  30099.446768  \n",
       "cropland                                 1.0      0.057848  \n",
       "forest_deciduous_broad                   1.0      0.088239  \n",
       "forest_deciduous_needle                  0.0           0.0  \n",
       "forest_evergreen_broad                   1.0       0.43312  \n",
       "forest_evergreen_needle                  0.0  20915.699938  \n",
       "forest_mixed                             0.0           0.0  \n",
       "forest_unknown                           1.0      0.190443  \n",
       "herbaceous_vegetation                    1.0      0.326063  \n",
       "moss_lichen                              0.0           0.0  \n",
       "shrubland                           0.833333       0.04462  \n",
       "sprarse_vegetation                  0.833333      0.007233  \n",
       "urban                                    1.0      0.050796  \n",
       "water                                    1.0      0.475032  \n",
       "wetland                                  1.0      0.087077  \n",
       "aspect                            359.951071     85.610114  \n",
       "elevation                             1490.0    319.669314  \n",
       "pop_dens                         2219.102051    106.875597  \n",
       "slope                              64.479202      7.590783  \n",
       "anom_max_temp                      16.340687      3.026061  \n",
       "anom_max_wind_vel                  22.360945      3.320765  \n",
       "anom_avg_temp                      13.051181      2.559182  \n",
       "anom_avg_rel_hum                   15.005052      2.796936  \n",
       "anom_avg_soil                       8.484861      1.651015  \n",
       "anom_sum_prec                       4.699601      1.042084  \n",
       "max_temp                           32.431244       4.43524  \n",
       "max_wind_vel                       19.703424      2.483441  \n",
       "avg_temp                          292.551632    135.801507  \n",
       "avg_wind_angle                    358.530182     83.336828  \n",
       "avg_rel_hum                        98.558968       8.02789  \n",
       "avg_soil                            0.501387       0.07839  \n",
       "sum_prec                           40.440075      3.230198  \n",
       "forest                                   1.0      0.455856  \n",
       "Year                                  2021.0      5.693506  \n",
       "max_max_temp                       90.376239      7.983432  \n",
       "yearly_avg_temp                    15.369208      0.100675  \n",
       "ignition                                 1.0      0.357734  "
      ]
     },
     "execution_count": 9,
     "metadata": {},
     "output_type": "execute_result"
    }
   ],
   "source": [
    "df.describe().transpose()"
   ]
  },
  {
   "cell_type": "code",
   "execution_count": 10,
   "id": "fc20c3a3",
   "metadata": {},
   "outputs": [
    {
     "data": {
      "text/plain": [
       "array(['forest', 'wetland', 'herbaceous_vegetation', 'Forestt',\n",
       "       'shrubland', 'water', 'urban', nan, '$herb$aceous_vegetation'],\n",
       "      dtype=object)"
      ]
     },
     "execution_count": 10,
     "metadata": {},
     "output_type": "execute_result"
    }
   ],
   "source": [
    "df['vegetation_class'].unique()"
   ]
  },
  {
   "cell_type": "markdown",
   "id": "b1018915",
   "metadata": {},
   "source": [
    "On constate ici que les variables : (`forest`, `Forestt`) et (`herbaceous_vegetation`, `$herb$aceous_vegetation`) semblent être une simple faute d'orthographe. On peut commencer par étudier ces deux variables pour voir si on retrouve des incohérences."
   ]
  },
  {
   "cell_type": "code",
   "execution_count": 11,
   "id": "ad43cbd5",
   "metadata": {},
   "outputs": [
    {
     "data": {
      "text/html": [
       "<div>\n",
       "<style scoped>\n",
       "    .dataframe tbody tr th:only-of-type {\n",
       "        vertical-align: middle;\n",
       "    }\n",
       "\n",
       "    .dataframe tbody tr th {\n",
       "        vertical-align: top;\n",
       "    }\n",
       "\n",
       "    .dataframe thead th {\n",
       "        text-align: right;\n",
       "    }\n",
       "</style>\n",
       "<table border=\"1\" class=\"dataframe\">\n",
       "  <thead>\n",
       "    <tr style=\"text-align: right;\">\n",
       "      <th></th>\n",
       "      <th>Date</th>\n",
       "      <th>distance_fire_stations</th>\n",
       "      <th>distance_rivers</th>\n",
       "      <th>distance_roads</th>\n",
       "      <th>distance_powerlines</th>\n",
       "      <th>cropland</th>\n",
       "      <th>forest_deciduous_broad</th>\n",
       "      <th>forest_deciduous_needle</th>\n",
       "      <th>forest_evergreen_broad</th>\n",
       "      <th>forest_evergreen_needle</th>\n",
       "      <th>...</th>\n",
       "      <th>avg_wind_angle</th>\n",
       "      <th>avg_rel_hum</th>\n",
       "      <th>avg_soil</th>\n",
       "      <th>sum_prec</th>\n",
       "      <th>forest</th>\n",
       "      <th>vegetation_class</th>\n",
       "      <th>Year</th>\n",
       "      <th>max_max_temp</th>\n",
       "      <th>yearly_avg_temp</th>\n",
       "      <th>ignition</th>\n",
       "    </tr>\n",
       "  </thead>\n",
       "  <tbody>\n",
       "    <tr>\n",
       "      <th>22034</th>\n",
       "      <td>2016-01-21</td>\n",
       "      <td>41926.274578</td>\n",
       "      <td>707.106781</td>\n",
       "      <td>3092.329219</td>\n",
       "      <td>39957.790229</td>\n",
       "      <td>0.0</td>\n",
       "      <td>0.0</td>\n",
       "      <td>0.0</td>\n",
       "      <td>0.0</td>\n",
       "      <td>0.0</td>\n",
       "      <td>...</td>\n",
       "      <td>19.732412</td>\n",
       "      <td>75.858948</td>\n",
       "      <td>0.332093</td>\n",
       "      <td>5.220248</td>\n",
       "      <td>0.0</td>\n",
       "      <td>$herb$aceous_vegetation</td>\n",
       "      <td>2016</td>\n",
       "      <td>54.935205</td>\n",
       "      <td>NaN</td>\n",
       "      <td>0</td>\n",
       "    </tr>\n",
       "  </tbody>\n",
       "</table>\n",
       "<p>1 rows × 42 columns</p>\n",
       "</div>"
      ],
      "text/plain": [
       "            Date  distance_fire_stations  distance_rivers  distance_roads  \\\n",
       "22034 2016-01-21            41926.274578       707.106781     3092.329219   \n",
       "\n",
       "       distance_powerlines  cropland  forest_deciduous_broad  \\\n",
       "22034         39957.790229       0.0                     0.0   \n",
       "\n",
       "       forest_deciduous_needle  forest_evergreen_broad  \\\n",
       "22034                      0.0                     0.0   \n",
       "\n",
       "       forest_evergreen_needle  ...  avg_wind_angle  avg_rel_hum  avg_soil  \\\n",
       "22034                      0.0  ...       19.732412    75.858948  0.332093   \n",
       "\n",
       "       sum_prec  forest         vegetation_class  Year  max_max_temp  \\\n",
       "22034  5.220248     0.0  $herb$aceous_vegetation  2016     54.935205   \n",
       "\n",
       "       yearly_avg_temp  ignition  \n",
       "22034              NaN         0  \n",
       "\n",
       "[1 rows x 42 columns]"
      ]
     },
     "execution_count": 11,
     "metadata": {},
     "output_type": "execute_result"
    }
   ],
   "source": [
    "df[df[\"vegetation_class\"]=='$herb$aceous_vegetation']"
   ]
  },
  {
   "cell_type": "code",
   "execution_count": 12,
   "id": "fdd41a5c",
   "metadata": {},
   "outputs": [
    {
     "data": {
      "text/html": [
       "<div>\n",
       "<style scoped>\n",
       "    .dataframe tbody tr th:only-of-type {\n",
       "        vertical-align: middle;\n",
       "    }\n",
       "\n",
       "    .dataframe tbody tr th {\n",
       "        vertical-align: top;\n",
       "    }\n",
       "\n",
       "    .dataframe thead th {\n",
       "        text-align: right;\n",
       "    }\n",
       "</style>\n",
       "<table border=\"1\" class=\"dataframe\">\n",
       "  <thead>\n",
       "    <tr style=\"text-align: right;\">\n",
       "      <th></th>\n",
       "      <th>Date</th>\n",
       "      <th>distance_fire_stations</th>\n",
       "      <th>distance_rivers</th>\n",
       "      <th>distance_roads</th>\n",
       "      <th>distance_powerlines</th>\n",
       "      <th>cropland</th>\n",
       "      <th>forest_deciduous_broad</th>\n",
       "      <th>forest_deciduous_needle</th>\n",
       "      <th>forest_evergreen_broad</th>\n",
       "      <th>forest_evergreen_needle</th>\n",
       "      <th>...</th>\n",
       "      <th>avg_wind_angle</th>\n",
       "      <th>avg_rel_hum</th>\n",
       "      <th>avg_soil</th>\n",
       "      <th>sum_prec</th>\n",
       "      <th>forest</th>\n",
       "      <th>vegetation_class</th>\n",
       "      <th>Year</th>\n",
       "      <th>max_max_temp</th>\n",
       "      <th>yearly_avg_temp</th>\n",
       "      <th>ignition</th>\n",
       "    </tr>\n",
       "  </thead>\n",
       "  <tbody>\n",
       "    <tr>\n",
       "      <th>6</th>\n",
       "      <td>2001-08-01</td>\n",
       "      <td>1500.000000</td>\n",
       "      <td>1581.138830</td>\n",
       "      <td>750.000000</td>\n",
       "      <td>1750.000000</td>\n",
       "      <td>0.0</td>\n",
       "      <td>0.0</td>\n",
       "      <td>0.0</td>\n",
       "      <td>0.000000</td>\n",
       "      <td>0.0</td>\n",
       "      <td>...</td>\n",
       "      <td>225.296082</td>\n",
       "      <td>53.998550</td>\n",
       "      <td>0.154567</td>\n",
       "      <td>0.034456</td>\n",
       "      <td>0.000000</td>\n",
       "      <td>herbaceous_vegetation</td>\n",
       "      <td>2001</td>\n",
       "      <td>72.606183</td>\n",
       "      <td>NaN</td>\n",
       "      <td>1</td>\n",
       "    </tr>\n",
       "    <tr>\n",
       "      <th>11</th>\n",
       "      <td>2003-06-29</td>\n",
       "      <td>6010.407640</td>\n",
       "      <td>1903.943276</td>\n",
       "      <td>1030.776406</td>\n",
       "      <td>28439.629041</td>\n",
       "      <td>0.0</td>\n",
       "      <td>0.0</td>\n",
       "      <td>0.0</td>\n",
       "      <td>0.000000</td>\n",
       "      <td>0.0</td>\n",
       "      <td>...</td>\n",
       "      <td>25.281057</td>\n",
       "      <td>66.931328</td>\n",
       "      <td>0.211325</td>\n",
       "      <td>0.395937</td>\n",
       "      <td>0.000000</td>\n",
       "      <td>herbaceous_vegetation</td>\n",
       "      <td>2003</td>\n",
       "      <td>66.126007</td>\n",
       "      <td>14.985618</td>\n",
       "      <td>1</td>\n",
       "    </tr>\n",
       "    <tr>\n",
       "      <th>13</th>\n",
       "      <td>2005-01-29</td>\n",
       "      <td>29319.362203</td>\n",
       "      <td>6373.774392</td>\n",
       "      <td>1250.000000</td>\n",
       "      <td>500.000000</td>\n",
       "      <td>0.5</td>\n",
       "      <td>0.0</td>\n",
       "      <td>0.0</td>\n",
       "      <td>0.000000</td>\n",
       "      <td>0.0</td>\n",
       "      <td>...</td>\n",
       "      <td>105.670219</td>\n",
       "      <td>61.700409</td>\n",
       "      <td>0.136492</td>\n",
       "      <td>0.516819</td>\n",
       "      <td>0.000000</td>\n",
       "      <td>herbaceous_vegetation</td>\n",
       "      <td>2005</td>\n",
       "      <td>70.167730</td>\n",
       "      <td>14.963572</td>\n",
       "      <td>1</td>\n",
       "    </tr>\n",
       "    <tr>\n",
       "      <th>20</th>\n",
       "      <td>2004-12-06</td>\n",
       "      <td>15041.608956</td>\n",
       "      <td>1750.000000</td>\n",
       "      <td>1250.000000</td>\n",
       "      <td>80195.464336</td>\n",
       "      <td>0.0</td>\n",
       "      <td>0.0</td>\n",
       "      <td>0.0</td>\n",
       "      <td>0.000000</td>\n",
       "      <td>0.0</td>\n",
       "      <td>...</td>\n",
       "      <td>134.463531</td>\n",
       "      <td>69.509018</td>\n",
       "      <td>0.097249</td>\n",
       "      <td>0.000000</td>\n",
       "      <td>0.000000</td>\n",
       "      <td>herbaceous_vegetation</td>\n",
       "      <td>2004</td>\n",
       "      <td>60.440726</td>\n",
       "      <td>NaN</td>\n",
       "      <td>1</td>\n",
       "    </tr>\n",
       "    <tr>\n",
       "      <th>23</th>\n",
       "      <td>2003-02-18</td>\n",
       "      <td>8139.410298</td>\n",
       "      <td>6600.189391</td>\n",
       "      <td>2000.000000</td>\n",
       "      <td>73236.346850</td>\n",
       "      <td>0.0</td>\n",
       "      <td>0.0</td>\n",
       "      <td>0.0</td>\n",
       "      <td>0.000000</td>\n",
       "      <td>0.0</td>\n",
       "      <td>...</td>\n",
       "      <td>206.147507</td>\n",
       "      <td>69.565575</td>\n",
       "      <td>0.090911</td>\n",
       "      <td>0.000000</td>\n",
       "      <td>0.000000</td>\n",
       "      <td>herbaceous_vegetation</td>\n",
       "      <td>2003</td>\n",
       "      <td>67.657003</td>\n",
       "      <td>NaN</td>\n",
       "      <td>1</td>\n",
       "    </tr>\n",
       "    <tr>\n",
       "      <th>...</th>\n",
       "      <td>...</td>\n",
       "      <td>...</td>\n",
       "      <td>...</td>\n",
       "      <td>...</td>\n",
       "      <td>...</td>\n",
       "      <td>...</td>\n",
       "      <td>...</td>\n",
       "      <td>...</td>\n",
       "      <td>...</td>\n",
       "      <td>...</td>\n",
       "      <td>...</td>\n",
       "      <td>...</td>\n",
       "      <td>...</td>\n",
       "      <td>...</td>\n",
       "      <td>...</td>\n",
       "      <td>...</td>\n",
       "      <td>...</td>\n",
       "      <td>...</td>\n",
       "      <td>...</td>\n",
       "      <td>...</td>\n",
       "      <td>...</td>\n",
       "    </tr>\n",
       "    <tr>\n",
       "      <th>22002</th>\n",
       "      <td>2011-11-21</td>\n",
       "      <td>34173.271719</td>\n",
       "      <td>1767.766953</td>\n",
       "      <td>4366.062299</td>\n",
       "      <td>23730.254950</td>\n",
       "      <td>0.0</td>\n",
       "      <td>0.0</td>\n",
       "      <td>0.0</td>\n",
       "      <td>0.000000</td>\n",
       "      <td>0.0</td>\n",
       "      <td>...</td>\n",
       "      <td>342.713959</td>\n",
       "      <td>85.939049</td>\n",
       "      <td>0.302836</td>\n",
       "      <td>1.864031</td>\n",
       "      <td>0.000000</td>\n",
       "      <td>herbaceous_vegetation</td>\n",
       "      <td>2011</td>\n",
       "      <td>50.184589</td>\n",
       "      <td>NaN</td>\n",
       "      <td>0</td>\n",
       "    </tr>\n",
       "    <tr>\n",
       "      <th>22006</th>\n",
       "      <td>2009-01-30</td>\n",
       "      <td>4949.747468</td>\n",
       "      <td>500.000000</td>\n",
       "      <td>250.000000</td>\n",
       "      <td>10371.234256</td>\n",
       "      <td>0.0</td>\n",
       "      <td>0.0</td>\n",
       "      <td>0.0</td>\n",
       "      <td>0.083333</td>\n",
       "      <td>0.0</td>\n",
       "      <td>...</td>\n",
       "      <td>34.454945</td>\n",
       "      <td>78.585991</td>\n",
       "      <td>0.385847</td>\n",
       "      <td>1.415752</td>\n",
       "      <td>0.250000</td>\n",
       "      <td>herbaceous_vegetation</td>\n",
       "      <td>2009</td>\n",
       "      <td>52.519915</td>\n",
       "      <td>15.004861</td>\n",
       "      <td>0</td>\n",
       "    </tr>\n",
       "    <tr>\n",
       "      <th>22007</th>\n",
       "      <td>2009-12-06</td>\n",
       "      <td>10262.187876</td>\n",
       "      <td>4750.000000</td>\n",
       "      <td>353.553391</td>\n",
       "      <td>12903.487901</td>\n",
       "      <td>0.0</td>\n",
       "      <td>0.0</td>\n",
       "      <td>0.0</td>\n",
       "      <td>0.000000</td>\n",
       "      <td>0.0</td>\n",
       "      <td>...</td>\n",
       "      <td>285.136963</td>\n",
       "      <td>79.801521</td>\n",
       "      <td>0.277681</td>\n",
       "      <td>0.040176</td>\n",
       "      <td>0.000000</td>\n",
       "      <td>herbaceous_vegetation</td>\n",
       "      <td>2009</td>\n",
       "      <td>70.601140</td>\n",
       "      <td>14.921958</td>\n",
       "      <td>0</td>\n",
       "    </tr>\n",
       "    <tr>\n",
       "      <th>22009</th>\n",
       "      <td>2002-04-04</td>\n",
       "      <td>73239.333694</td>\n",
       "      <td>4100.304867</td>\n",
       "      <td>5000.000000</td>\n",
       "      <td>42019.340785</td>\n",
       "      <td>0.0</td>\n",
       "      <td>0.0</td>\n",
       "      <td>0.0</td>\n",
       "      <td>0.000000</td>\n",
       "      <td>0.0</td>\n",
       "      <td>...</td>\n",
       "      <td>118.389893</td>\n",
       "      <td>72.674019</td>\n",
       "      <td>0.261503</td>\n",
       "      <td>2.837494</td>\n",
       "      <td>0.000000</td>\n",
       "      <td>herbaceous_vegetation</td>\n",
       "      <td>2002</td>\n",
       "      <td>60.709382</td>\n",
       "      <td>NaN</td>\n",
       "      <td>0</td>\n",
       "    </tr>\n",
       "    <tr>\n",
       "      <th>22020</th>\n",
       "      <td>2012-03-28</td>\n",
       "      <td>47214.934078</td>\n",
       "      <td>0.000000</td>\n",
       "      <td>2061.552813</td>\n",
       "      <td>58124.865591</td>\n",
       "      <td>0.0</td>\n",
       "      <td>0.0</td>\n",
       "      <td>0.0</td>\n",
       "      <td>0.333333</td>\n",
       "      <td>0.0</td>\n",
       "      <td>...</td>\n",
       "      <td>317.367706</td>\n",
       "      <td>82.832405</td>\n",
       "      <td>0.292236</td>\n",
       "      <td>7.208307</td>\n",
       "      <td>0.333333</td>\n",
       "      <td>herbaceous_vegetation</td>\n",
       "      <td>2012</td>\n",
       "      <td>50.997888</td>\n",
       "      <td>14.882503</td>\n",
       "      <td>0</td>\n",
       "    </tr>\n",
       "  </tbody>\n",
       "</table>\n",
       "<p>3850 rows × 42 columns</p>\n",
       "</div>"
      ],
      "text/plain": [
       "            Date  distance_fire_stations  distance_rivers  distance_roads  \\\n",
       "6     2001-08-01             1500.000000      1581.138830      750.000000   \n",
       "11    2003-06-29             6010.407640      1903.943276     1030.776406   \n",
       "13    2005-01-29            29319.362203      6373.774392     1250.000000   \n",
       "20    2004-12-06            15041.608956      1750.000000     1250.000000   \n",
       "23    2003-02-18             8139.410298      6600.189391     2000.000000   \n",
       "...          ...                     ...              ...             ...   \n",
       "22002 2011-11-21            34173.271719      1767.766953     4366.062299   \n",
       "22006 2009-01-30             4949.747468       500.000000      250.000000   \n",
       "22007 2009-12-06            10262.187876      4750.000000      353.553391   \n",
       "22009 2002-04-04            73239.333694      4100.304867     5000.000000   \n",
       "22020 2012-03-28            47214.934078         0.000000     2061.552813   \n",
       "\n",
       "       distance_powerlines  cropland  forest_deciduous_broad  \\\n",
       "6              1750.000000       0.0                     0.0   \n",
       "11            28439.629041       0.0                     0.0   \n",
       "13              500.000000       0.5                     0.0   \n",
       "20            80195.464336       0.0                     0.0   \n",
       "23            73236.346850       0.0                     0.0   \n",
       "...                    ...       ...                     ...   \n",
       "22002         23730.254950       0.0                     0.0   \n",
       "22006         10371.234256       0.0                     0.0   \n",
       "22007         12903.487901       0.0                     0.0   \n",
       "22009         42019.340785       0.0                     0.0   \n",
       "22020         58124.865591       0.0                     0.0   \n",
       "\n",
       "       forest_deciduous_needle  forest_evergreen_broad  \\\n",
       "6                          0.0                0.000000   \n",
       "11                         0.0                0.000000   \n",
       "13                         0.0                0.000000   \n",
       "20                         0.0                0.000000   \n",
       "23                         0.0                0.000000   \n",
       "...                        ...                     ...   \n",
       "22002                      0.0                0.000000   \n",
       "22006                      0.0                0.083333   \n",
       "22007                      0.0                0.000000   \n",
       "22009                      0.0                0.000000   \n",
       "22020                      0.0                0.333333   \n",
       "\n",
       "       forest_evergreen_needle  ...  avg_wind_angle  avg_rel_hum  avg_soil  \\\n",
       "6                          0.0  ...      225.296082    53.998550  0.154567   \n",
       "11                         0.0  ...       25.281057    66.931328  0.211325   \n",
       "13                         0.0  ...      105.670219    61.700409  0.136492   \n",
       "20                         0.0  ...      134.463531    69.509018  0.097249   \n",
       "23                         0.0  ...      206.147507    69.565575  0.090911   \n",
       "...                        ...  ...             ...          ...       ...   \n",
       "22002                      0.0  ...      342.713959    85.939049  0.302836   \n",
       "22006                      0.0  ...       34.454945    78.585991  0.385847   \n",
       "22007                      0.0  ...      285.136963    79.801521  0.277681   \n",
       "22009                      0.0  ...      118.389893    72.674019  0.261503   \n",
       "22020                      0.0  ...      317.367706    82.832405  0.292236   \n",
       "\n",
       "       sum_prec    forest       vegetation_class  Year  max_max_temp  \\\n",
       "6      0.034456  0.000000  herbaceous_vegetation  2001     72.606183   \n",
       "11     0.395937  0.000000  herbaceous_vegetation  2003     66.126007   \n",
       "13     0.516819  0.000000  herbaceous_vegetation  2005     70.167730   \n",
       "20     0.000000  0.000000  herbaceous_vegetation  2004     60.440726   \n",
       "23     0.000000  0.000000  herbaceous_vegetation  2003     67.657003   \n",
       "...         ...       ...                    ...   ...           ...   \n",
       "22002  1.864031  0.000000  herbaceous_vegetation  2011     50.184589   \n",
       "22006  1.415752  0.250000  herbaceous_vegetation  2009     52.519915   \n",
       "22007  0.040176  0.000000  herbaceous_vegetation  2009     70.601140   \n",
       "22009  2.837494  0.000000  herbaceous_vegetation  2002     60.709382   \n",
       "22020  7.208307  0.333333  herbaceous_vegetation  2012     50.997888   \n",
       "\n",
       "       yearly_avg_temp  ignition  \n",
       "6                  NaN         1  \n",
       "11           14.985618         1  \n",
       "13           14.963572         1  \n",
       "20                 NaN         1  \n",
       "23                 NaN         1  \n",
       "...                ...       ...  \n",
       "22002              NaN         0  \n",
       "22006        15.004861         0  \n",
       "22007        14.921958         0  \n",
       "22009              NaN         0  \n",
       "22020        14.882503         0  \n",
       "\n",
       "[3850 rows x 42 columns]"
      ]
     },
     "execution_count": 12,
     "metadata": {},
     "output_type": "execute_result"
    }
   ],
   "source": [
    "df[df[\"vegetation_class\"]=='herbaceous_vegetation']"
   ]
  },
  {
   "cell_type": "code",
   "execution_count": 13,
   "id": "9c7a0774",
   "metadata": {},
   "outputs": [
    {
     "data": {
      "text/html": [
       "<div>\n",
       "<style scoped>\n",
       "    .dataframe tbody tr th:only-of-type {\n",
       "        vertical-align: middle;\n",
       "    }\n",
       "\n",
       "    .dataframe tbody tr th {\n",
       "        vertical-align: top;\n",
       "    }\n",
       "\n",
       "    .dataframe thead th {\n",
       "        text-align: right;\n",
       "    }\n",
       "</style>\n",
       "<table border=\"1\" class=\"dataframe\">\n",
       "  <thead>\n",
       "    <tr style=\"text-align: right;\">\n",
       "      <th></th>\n",
       "      <th>count</th>\n",
       "      <th>mean</th>\n",
       "      <th>min</th>\n",
       "      <th>25%</th>\n",
       "      <th>50%</th>\n",
       "      <th>75%</th>\n",
       "      <th>max</th>\n",
       "      <th>std</th>\n",
       "    </tr>\n",
       "  </thead>\n",
       "  <tbody>\n",
       "    <tr>\n",
       "      <th>Date</th>\n",
       "      <td>3850</td>\n",
       "      <td>2011-10-08 07:41:55.324675584</td>\n",
       "      <td>2001-07-01 00:00:00</td>\n",
       "      <td>2006-10-26 00:00:00</td>\n",
       "      <td>2012-02-25 00:00:00</td>\n",
       "      <td>2016-08-12 00:00:00</td>\n",
       "      <td>2021-06-28 00:00:00</td>\n",
       "      <td>NaN</td>\n",
       "    </tr>\n",
       "    <tr>\n",
       "      <th>distance_fire_stations</th>\n",
       "      <td>3850.0</td>\n",
       "      <td>21051.747594</td>\n",
       "      <td>250.0</td>\n",
       "      <td>6485.560886</td>\n",
       "      <td>12806.248475</td>\n",
       "      <td>29200.813109</td>\n",
       "      <td>90234.416937</td>\n",
       "      <td>20572.641495</td>\n",
       "    </tr>\n",
       "    <tr>\n",
       "      <th>distance_rivers</th>\n",
       "      <td>3850.0</td>\n",
       "      <td>1758.368594</td>\n",
       "      <td>0.0</td>\n",
       "      <td>353.553391</td>\n",
       "      <td>1000.0</td>\n",
       "      <td>2371.708245</td>\n",
       "      <td>20651.876428</td>\n",
       "      <td>2005.138474</td>\n",
       "    </tr>\n",
       "    <tr>\n",
       "      <th>distance_roads</th>\n",
       "      <td>3850.0</td>\n",
       "      <td>1958.638696</td>\n",
       "      <td>0.0</td>\n",
       "      <td>250.0</td>\n",
       "      <td>559.016994</td>\n",
       "      <td>1581.13883</td>\n",
       "      <td>24744.94898</td>\n",
       "      <td>3766.349659</td>\n",
       "    </tr>\n",
       "    <tr>\n",
       "      <th>distance_powerlines</th>\n",
       "      <td>3850.0</td>\n",
       "      <td>21925.164051</td>\n",
       "      <td>0.0</td>\n",
       "      <td>4828.301979</td>\n",
       "      <td>14968.715051</td>\n",
       "      <td>29493.642469</td>\n",
       "      <td>139579.726322</td>\n",
       "      <td>24716.254268</td>\n",
       "    </tr>\n",
       "    <tr>\n",
       "      <th>cropland</th>\n",
       "      <td>3850.0</td>\n",
       "      <td>0.025671</td>\n",
       "      <td>0.0</td>\n",
       "      <td>0.0</td>\n",
       "      <td>0.0</td>\n",
       "      <td>0.0</td>\n",
       "      <td>0.833333</td>\n",
       "      <td>0.103512</td>\n",
       "    </tr>\n",
       "    <tr>\n",
       "      <th>forest_deciduous_broad</th>\n",
       "      <td>3850.0</td>\n",
       "      <td>0.004913</td>\n",
       "      <td>0.0</td>\n",
       "      <td>0.0</td>\n",
       "      <td>0.0</td>\n",
       "      <td>0.0</td>\n",
       "      <td>0.416667</td>\n",
       "      <td>0.031547</td>\n",
       "    </tr>\n",
       "    <tr>\n",
       "      <th>forest_deciduous_needle</th>\n",
       "      <td>3850.0</td>\n",
       "      <td>0.0</td>\n",
       "      <td>0.0</td>\n",
       "      <td>0.0</td>\n",
       "      <td>0.0</td>\n",
       "      <td>0.0</td>\n",
       "      <td>0.0</td>\n",
       "      <td>0.0</td>\n",
       "    </tr>\n",
       "    <tr>\n",
       "      <th>forest_evergreen_broad</th>\n",
       "      <td>3850.0</td>\n",
       "      <td>0.022706</td>\n",
       "      <td>0.0</td>\n",
       "      <td>0.0</td>\n",
       "      <td>0.0</td>\n",
       "      <td>0.0</td>\n",
       "      <td>0.416667</td>\n",
       "      <td>0.067203</td>\n",
       "    </tr>\n",
       "    <tr>\n",
       "      <th>forest_evergreen_needle</th>\n",
       "      <td>3850.0</td>\n",
       "      <td>-4155.844156</td>\n",
       "      <td>-100000.0</td>\n",
       "      <td>0.0</td>\n",
       "      <td>0.0</td>\n",
       "      <td>0.0</td>\n",
       "      <td>0.0</td>\n",
       "      <td>19960.382257</td>\n",
       "    </tr>\n",
       "    <tr>\n",
       "      <th>forest_mixed</th>\n",
       "      <td>3850.0</td>\n",
       "      <td>0.0</td>\n",
       "      <td>0.0</td>\n",
       "      <td>0.0</td>\n",
       "      <td>0.0</td>\n",
       "      <td>0.0</td>\n",
       "      <td>0.0</td>\n",
       "      <td>0.0</td>\n",
       "    </tr>\n",
       "    <tr>\n",
       "      <th>forest_unknown</th>\n",
       "      <td>3850.0</td>\n",
       "      <td>0.073723</td>\n",
       "      <td>0.0</td>\n",
       "      <td>0.0</td>\n",
       "      <td>0.0</td>\n",
       "      <td>0.166667</td>\n",
       "      <td>0.416667</td>\n",
       "      <td>0.113585</td>\n",
       "    </tr>\n",
       "    <tr>\n",
       "      <th>herbaceous_vegetation</th>\n",
       "      <td>3850.0</td>\n",
       "      <td>0.833939</td>\n",
       "      <td>0.166667</td>\n",
       "      <td>0.666667</td>\n",
       "      <td>0.916667</td>\n",
       "      <td>1.0</td>\n",
       "      <td>1.0</td>\n",
       "      <td>0.191406</td>\n",
       "    </tr>\n",
       "    <tr>\n",
       "      <th>moss_lichen</th>\n",
       "      <td>3850.0</td>\n",
       "      <td>0.0</td>\n",
       "      <td>0.0</td>\n",
       "      <td>0.0</td>\n",
       "      <td>0.0</td>\n",
       "      <td>0.0</td>\n",
       "      <td>0.0</td>\n",
       "      <td>0.0</td>\n",
       "    </tr>\n",
       "    <tr>\n",
       "      <th>shrubland</th>\n",
       "      <td>3850.0</td>\n",
       "      <td>0.012035</td>\n",
       "      <td>0.0</td>\n",
       "      <td>0.0</td>\n",
       "      <td>0.0</td>\n",
       "      <td>0.0</td>\n",
       "      <td>0.416667</td>\n",
       "      <td>0.047976</td>\n",
       "    </tr>\n",
       "    <tr>\n",
       "      <th>sprarse_vegetation</th>\n",
       "      <td>3850.0</td>\n",
       "      <td>0.000476</td>\n",
       "      <td>0.0</td>\n",
       "      <td>0.0</td>\n",
       "      <td>0.0</td>\n",
       "      <td>0.0</td>\n",
       "      <td>0.833333</td>\n",
       "      <td>0.015657</td>\n",
       "    </tr>\n",
       "    <tr>\n",
       "      <th>urban</th>\n",
       "      <td>3850.0</td>\n",
       "      <td>0.0029</td>\n",
       "      <td>0.0</td>\n",
       "      <td>0.0</td>\n",
       "      <td>0.0</td>\n",
       "      <td>0.0</td>\n",
       "      <td>0.5</td>\n",
       "      <td>0.026842</td>\n",
       "    </tr>\n",
       "    <tr>\n",
       "      <th>water</th>\n",
       "      <td>3850.0</td>\n",
       "      <td>0.00987</td>\n",
       "      <td>0.0</td>\n",
       "      <td>0.0</td>\n",
       "      <td>0.0</td>\n",
       "      <td>0.0</td>\n",
       "      <td>0.5</td>\n",
       "      <td>0.050687</td>\n",
       "    </tr>\n",
       "    <tr>\n",
       "      <th>wetland</th>\n",
       "      <td>3850.0</td>\n",
       "      <td>0.013766</td>\n",
       "      <td>0.0</td>\n",
       "      <td>0.0</td>\n",
       "      <td>0.0</td>\n",
       "      <td>0.0</td>\n",
       "      <td>0.5</td>\n",
       "      <td>0.057192</td>\n",
       "    </tr>\n",
       "    <tr>\n",
       "      <th>aspect</th>\n",
       "      <td>3850.0</td>\n",
       "      <td>172.842603</td>\n",
       "      <td>0.0</td>\n",
       "      <td>80.537678</td>\n",
       "      <td>173.061677</td>\n",
       "      <td>258.623753</td>\n",
       "      <td>359.88026</td>\n",
       "      <td>104.419389</td>\n",
       "    </tr>\n",
       "    <tr>\n",
       "      <th>elevation</th>\n",
       "      <td>3850.0</td>\n",
       "      <td>296.684675</td>\n",
       "      <td>-100.0</td>\n",
       "      <td>76.0</td>\n",
       "      <td>201.0</td>\n",
       "      <td>366.75</td>\n",
       "      <td>1391.0</td>\n",
       "      <td>315.216881</td>\n",
       "    </tr>\n",
       "    <tr>\n",
       "      <th>pop_dens</th>\n",
       "      <td>3850.0</td>\n",
       "      <td>11.523587</td>\n",
       "      <td>0.0</td>\n",
       "      <td>0.00649</td>\n",
       "      <td>0.372933</td>\n",
       "      <td>1.543091</td>\n",
       "      <td>1594.072388</td>\n",
       "      <td>81.656954</td>\n",
       "    </tr>\n",
       "    <tr>\n",
       "      <th>slope</th>\n",
       "      <td>3850.0</td>\n",
       "      <td>5.934433</td>\n",
       "      <td>0.0</td>\n",
       "      <td>1.560062</td>\n",
       "      <td>3.553803</td>\n",
       "      <td>7.673661</td>\n",
       "      <td>64.479202</td>\n",
       "      <td>6.807748</td>\n",
       "    </tr>\n",
       "    <tr>\n",
       "      <th>anom_max_temp</th>\n",
       "      <td>3850.0</td>\n",
       "      <td>2.162128</td>\n",
       "      <td>-5.707784</td>\n",
       "      <td>-0.110807</td>\n",
       "      <td>1.862965</td>\n",
       "      <td>4.100759</td>\n",
       "      <td>14.620871</td>\n",
       "      <td>3.169839</td>\n",
       "    </tr>\n",
       "    <tr>\n",
       "      <th>anom_max_wind_vel</th>\n",
       "      <td>3850.0</td>\n",
       "      <td>2.178349</td>\n",
       "      <td>-5.65133</td>\n",
       "      <td>-0.192432</td>\n",
       "      <td>1.932534</td>\n",
       "      <td>4.17654</td>\n",
       "      <td>19.366821</td>\n",
       "      <td>3.338784</td>\n",
       "    </tr>\n",
       "    <tr>\n",
       "      <th>anom_avg_temp</th>\n",
       "      <td>3850.0</td>\n",
       "      <td>1.948545</td>\n",
       "      <td>-6.555886</td>\n",
       "      <td>0.179692</td>\n",
       "      <td>1.873186</td>\n",
       "      <td>3.624795</td>\n",
       "      <td>12.745943</td>\n",
       "      <td>2.618359</td>\n",
       "    </tr>\n",
       "    <tr>\n",
       "      <th>anom_avg_rel_hum</th>\n",
       "      <td>3850.0</td>\n",
       "      <td>2.223595</td>\n",
       "      <td>-8.431752</td>\n",
       "      <td>0.262853</td>\n",
       "      <td>2.06558</td>\n",
       "      <td>4.100104</td>\n",
       "      <td>15.005052</td>\n",
       "      <td>2.838611</td>\n",
       "    </tr>\n",
       "    <tr>\n",
       "      <th>anom_avg_soil</th>\n",
       "      <td>3850.0</td>\n",
       "      <td>0.447536</td>\n",
       "      <td>-5.89894</td>\n",
       "      <td>-0.779588</td>\n",
       "      <td>0.42306</td>\n",
       "      <td>1.644094</td>\n",
       "      <td>7.665905</td>\n",
       "      <td>1.690831</td>\n",
       "    </tr>\n",
       "    <tr>\n",
       "      <th>anom_sum_prec</th>\n",
       "      <td>3850.0</td>\n",
       "      <td>0.049879</td>\n",
       "      <td>-2.885808</td>\n",
       "      <td>-0.724241</td>\n",
       "      <td>-0.079792</td>\n",
       "      <td>0.723177</td>\n",
       "      <td>4.227472</td>\n",
       "      <td>1.068331</td>\n",
       "    </tr>\n",
       "    <tr>\n",
       "      <th>max_temp</th>\n",
       "      <td>3850.0</td>\n",
       "      <td>15.050798</td>\n",
       "      <td>1.22226</td>\n",
       "      <td>11.399351</td>\n",
       "      <td>14.593104</td>\n",
       "      <td>18.508885</td>\n",
       "      <td>32.34322</td>\n",
       "      <td>4.914319</td>\n",
       "    </tr>\n",
       "    <tr>\n",
       "      <th>max_wind_vel</th>\n",
       "      <td>3850.0</td>\n",
       "      <td>4.892171</td>\n",
       "      <td>1.047676</td>\n",
       "      <td>3.429293</td>\n",
       "      <td>4.497525</td>\n",
       "      <td>5.780658</td>\n",
       "      <td>17.89208</td>\n",
       "      <td>2.112617</td>\n",
       "    </tr>\n",
       "    <tr>\n",
       "      <th>avg_temp</th>\n",
       "      <td>3850.0</td>\n",
       "      <td>158.323313</td>\n",
       "      <td>-3.283186</td>\n",
       "      <td>7.137354</td>\n",
       "      <td>275.70411</td>\n",
       "      <td>280.186649</td>\n",
       "      <td>290.354391</td>\n",
       "      <td>135.821033</td>\n",
       "    </tr>\n",
       "    <tr>\n",
       "      <th>avg_wind_angle</th>\n",
       "      <td>3850.0</td>\n",
       "      <td>203.075723</td>\n",
       "      <td>4.930949</td>\n",
       "      <td>135.463375</td>\n",
       "      <td>211.971756</td>\n",
       "      <td>274.387314</td>\n",
       "      <td>358.530182</td>\n",
       "      <td>86.764703</td>\n",
       "    </tr>\n",
       "    <tr>\n",
       "      <th>avg_rel_hum</th>\n",
       "      <td>3850.0</td>\n",
       "      <td>76.437574</td>\n",
       "      <td>45.03862</td>\n",
       "      <td>70.523308</td>\n",
       "      <td>76.773102</td>\n",
       "      <td>82.709743</td>\n",
       "      <td>98.177284</td>\n",
       "      <td>8.521585</td>\n",
       "    </tr>\n",
       "    <tr>\n",
       "      <th>avg_soil</th>\n",
       "      <td>3850.0</td>\n",
       "      <td>0.293734</td>\n",
       "      <td>0.051477</td>\n",
       "      <td>0.243285</td>\n",
       "      <td>0.296436</td>\n",
       "      <td>0.357685</td>\n",
       "      <td>0.485439</td>\n",
       "      <td>0.077767</td>\n",
       "    </tr>\n",
       "    <tr>\n",
       "      <th>sum_prec</th>\n",
       "      <td>3850.0</td>\n",
       "      <td>2.330798</td>\n",
       "      <td>-0.000007</td>\n",
       "      <td>0.136646</td>\n",
       "      <td>0.937792</td>\n",
       "      <td>3.072286</td>\n",
       "      <td>40.440075</td>\n",
       "      <td>3.526177</td>\n",
       "    </tr>\n",
       "    <tr>\n",
       "      <th>forest</th>\n",
       "      <td>3850.0</td>\n",
       "      <td>0.101342</td>\n",
       "      <td>0.0</td>\n",
       "      <td>0.0</td>\n",
       "      <td>0.0</td>\n",
       "      <td>0.166667</td>\n",
       "      <td>0.5</td>\n",
       "      <td>0.142052</td>\n",
       "    </tr>\n",
       "    <tr>\n",
       "      <th>Year</th>\n",
       "      <td>3850.0</td>\n",
       "      <td>2011.278701</td>\n",
       "      <td>2001.0</td>\n",
       "      <td>2006.0</td>\n",
       "      <td>2012.0</td>\n",
       "      <td>2016.0</td>\n",
       "      <td>2021.0</td>\n",
       "      <td>5.683018</td>\n",
       "    </tr>\n",
       "    <tr>\n",
       "      <th>max_max_temp</th>\n",
       "      <td>3850.0</td>\n",
       "      <td>59.091437</td>\n",
       "      <td>34.200067</td>\n",
       "      <td>52.518831</td>\n",
       "      <td>58.267588</td>\n",
       "      <td>65.315994</td>\n",
       "      <td>90.217796</td>\n",
       "      <td>8.845774</td>\n",
       "    </tr>\n",
       "    <tr>\n",
       "      <th>yearly_avg_temp</th>\n",
       "      <td>2610.0</td>\n",
       "      <td>14.997507</td>\n",
       "      <td>14.630489</td>\n",
       "      <td>14.928764</td>\n",
       "      <td>14.99814</td>\n",
       "      <td>15.065152</td>\n",
       "      <td>15.338652</td>\n",
       "      <td>0.10037</td>\n",
       "    </tr>\n",
       "    <tr>\n",
       "      <th>ignition</th>\n",
       "      <td>3850.0</td>\n",
       "      <td>0.180519</td>\n",
       "      <td>0.0</td>\n",
       "      <td>0.0</td>\n",
       "      <td>0.0</td>\n",
       "      <td>0.0</td>\n",
       "      <td>1.0</td>\n",
       "      <td>0.38467</td>\n",
       "    </tr>\n",
       "  </tbody>\n",
       "</table>\n",
       "</div>"
      ],
      "text/plain": [
       "                          count                           mean  \\\n",
       "Date                       3850  2011-10-08 07:41:55.324675584   \n",
       "distance_fire_stations   3850.0                   21051.747594   \n",
       "distance_rivers          3850.0                    1758.368594   \n",
       "distance_roads           3850.0                    1958.638696   \n",
       "distance_powerlines      3850.0                   21925.164051   \n",
       "cropland                 3850.0                       0.025671   \n",
       "forest_deciduous_broad   3850.0                       0.004913   \n",
       "forest_deciduous_needle  3850.0                            0.0   \n",
       "forest_evergreen_broad   3850.0                       0.022706   \n",
       "forest_evergreen_needle  3850.0                   -4155.844156   \n",
       "forest_mixed             3850.0                            0.0   \n",
       "forest_unknown           3850.0                       0.073723   \n",
       "herbaceous_vegetation    3850.0                       0.833939   \n",
       "moss_lichen              3850.0                            0.0   \n",
       "shrubland                3850.0                       0.012035   \n",
       "sprarse_vegetation       3850.0                       0.000476   \n",
       "urban                    3850.0                         0.0029   \n",
       "water                    3850.0                        0.00987   \n",
       "wetland                  3850.0                       0.013766   \n",
       "aspect                   3850.0                     172.842603   \n",
       "elevation                3850.0                     296.684675   \n",
       "pop_dens                 3850.0                      11.523587   \n",
       "slope                    3850.0                       5.934433   \n",
       "anom_max_temp            3850.0                       2.162128   \n",
       "anom_max_wind_vel        3850.0                       2.178349   \n",
       "anom_avg_temp            3850.0                       1.948545   \n",
       "anom_avg_rel_hum         3850.0                       2.223595   \n",
       "anom_avg_soil            3850.0                       0.447536   \n",
       "anom_sum_prec            3850.0                       0.049879   \n",
       "max_temp                 3850.0                      15.050798   \n",
       "max_wind_vel             3850.0                       4.892171   \n",
       "avg_temp                 3850.0                     158.323313   \n",
       "avg_wind_angle           3850.0                     203.075723   \n",
       "avg_rel_hum              3850.0                      76.437574   \n",
       "avg_soil                 3850.0                       0.293734   \n",
       "sum_prec                 3850.0                       2.330798   \n",
       "forest                   3850.0                       0.101342   \n",
       "Year                     3850.0                    2011.278701   \n",
       "max_max_temp             3850.0                      59.091437   \n",
       "yearly_avg_temp          2610.0                      14.997507   \n",
       "ignition                 3850.0                       0.180519   \n",
       "\n",
       "                                         min                  25%  \\\n",
       "Date                     2001-07-01 00:00:00  2006-10-26 00:00:00   \n",
       "distance_fire_stations                 250.0          6485.560886   \n",
       "distance_rivers                          0.0           353.553391   \n",
       "distance_roads                           0.0                250.0   \n",
       "distance_powerlines                      0.0          4828.301979   \n",
       "cropland                                 0.0                  0.0   \n",
       "forest_deciduous_broad                   0.0                  0.0   \n",
       "forest_deciduous_needle                  0.0                  0.0   \n",
       "forest_evergreen_broad                   0.0                  0.0   \n",
       "forest_evergreen_needle            -100000.0                  0.0   \n",
       "forest_mixed                             0.0                  0.0   \n",
       "forest_unknown                           0.0                  0.0   \n",
       "herbaceous_vegetation               0.166667             0.666667   \n",
       "moss_lichen                              0.0                  0.0   \n",
       "shrubland                                0.0                  0.0   \n",
       "sprarse_vegetation                       0.0                  0.0   \n",
       "urban                                    0.0                  0.0   \n",
       "water                                    0.0                  0.0   \n",
       "wetland                                  0.0                  0.0   \n",
       "aspect                                   0.0            80.537678   \n",
       "elevation                             -100.0                 76.0   \n",
       "pop_dens                                 0.0              0.00649   \n",
       "slope                                    0.0             1.560062   \n",
       "anom_max_temp                      -5.707784            -0.110807   \n",
       "anom_max_wind_vel                   -5.65133            -0.192432   \n",
       "anom_avg_temp                      -6.555886             0.179692   \n",
       "anom_avg_rel_hum                   -8.431752             0.262853   \n",
       "anom_avg_soil                       -5.89894            -0.779588   \n",
       "anom_sum_prec                      -2.885808            -0.724241   \n",
       "max_temp                             1.22226            11.399351   \n",
       "max_wind_vel                        1.047676             3.429293   \n",
       "avg_temp                           -3.283186             7.137354   \n",
       "avg_wind_angle                      4.930949           135.463375   \n",
       "avg_rel_hum                         45.03862            70.523308   \n",
       "avg_soil                            0.051477             0.243285   \n",
       "sum_prec                           -0.000007             0.136646   \n",
       "forest                                   0.0                  0.0   \n",
       "Year                                  2001.0               2006.0   \n",
       "max_max_temp                       34.200067            52.518831   \n",
       "yearly_avg_temp                    14.630489            14.928764   \n",
       "ignition                                 0.0                  0.0   \n",
       "\n",
       "                                         50%                  75%  \\\n",
       "Date                     2012-02-25 00:00:00  2016-08-12 00:00:00   \n",
       "distance_fire_stations          12806.248475         29200.813109   \n",
       "distance_rivers                       1000.0          2371.708245   \n",
       "distance_roads                    559.016994           1581.13883   \n",
       "distance_powerlines             14968.715051         29493.642469   \n",
       "cropland                                 0.0                  0.0   \n",
       "forest_deciduous_broad                   0.0                  0.0   \n",
       "forest_deciduous_needle                  0.0                  0.0   \n",
       "forest_evergreen_broad                   0.0                  0.0   \n",
       "forest_evergreen_needle                  0.0                  0.0   \n",
       "forest_mixed                             0.0                  0.0   \n",
       "forest_unknown                           0.0             0.166667   \n",
       "herbaceous_vegetation               0.916667                  1.0   \n",
       "moss_lichen                              0.0                  0.0   \n",
       "shrubland                                0.0                  0.0   \n",
       "sprarse_vegetation                       0.0                  0.0   \n",
       "urban                                    0.0                  0.0   \n",
       "water                                    0.0                  0.0   \n",
       "wetland                                  0.0                  0.0   \n",
       "aspect                            173.061677           258.623753   \n",
       "elevation                              201.0               366.75   \n",
       "pop_dens                            0.372933             1.543091   \n",
       "slope                               3.553803             7.673661   \n",
       "anom_max_temp                       1.862965             4.100759   \n",
       "anom_max_wind_vel                   1.932534              4.17654   \n",
       "anom_avg_temp                       1.873186             3.624795   \n",
       "anom_avg_rel_hum                     2.06558             4.100104   \n",
       "anom_avg_soil                        0.42306             1.644094   \n",
       "anom_sum_prec                      -0.079792             0.723177   \n",
       "max_temp                           14.593104            18.508885   \n",
       "max_wind_vel                        4.497525             5.780658   \n",
       "avg_temp                           275.70411           280.186649   \n",
       "avg_wind_angle                    211.971756           274.387314   \n",
       "avg_rel_hum                        76.773102            82.709743   \n",
       "avg_soil                            0.296436             0.357685   \n",
       "sum_prec                            0.937792             3.072286   \n",
       "forest                                   0.0             0.166667   \n",
       "Year                                  2012.0               2016.0   \n",
       "max_max_temp                       58.267588            65.315994   \n",
       "yearly_avg_temp                     14.99814            15.065152   \n",
       "ignition                                 0.0                  0.0   \n",
       "\n",
       "                                         max           std  \n",
       "Date                     2021-06-28 00:00:00           NaN  \n",
       "distance_fire_stations          90234.416937  20572.641495  \n",
       "distance_rivers                 20651.876428   2005.138474  \n",
       "distance_roads                   24744.94898   3766.349659  \n",
       "distance_powerlines            139579.726322  24716.254268  \n",
       "cropland                            0.833333      0.103512  \n",
       "forest_deciduous_broad              0.416667      0.031547  \n",
       "forest_deciduous_needle                  0.0           0.0  \n",
       "forest_evergreen_broad              0.416667      0.067203  \n",
       "forest_evergreen_needle                  0.0  19960.382257  \n",
       "forest_mixed                             0.0           0.0  \n",
       "forest_unknown                      0.416667      0.113585  \n",
       "herbaceous_vegetation                    1.0      0.191406  \n",
       "moss_lichen                              0.0           0.0  \n",
       "shrubland                           0.416667      0.047976  \n",
       "sprarse_vegetation                  0.833333      0.015657  \n",
       "urban                                    0.5      0.026842  \n",
       "water                                    0.5      0.050687  \n",
       "wetland                                  0.5      0.057192  \n",
       "aspect                             359.88026    104.419389  \n",
       "elevation                             1391.0    315.216881  \n",
       "pop_dens                         1594.072388     81.656954  \n",
       "slope                              64.479202      6.807748  \n",
       "anom_max_temp                      14.620871      3.169839  \n",
       "anom_max_wind_vel                  19.366821      3.338784  \n",
       "anom_avg_temp                      12.745943      2.618359  \n",
       "anom_avg_rel_hum                   15.005052      2.838611  \n",
       "anom_avg_soil                       7.665905      1.690831  \n",
       "anom_sum_prec                       4.227472      1.068331  \n",
       "max_temp                            32.34322      4.914319  \n",
       "max_wind_vel                        17.89208      2.112617  \n",
       "avg_temp                          290.354391    135.821033  \n",
       "avg_wind_angle                    358.530182     86.764703  \n",
       "avg_rel_hum                        98.177284      8.521585  \n",
       "avg_soil                            0.485439      0.077767  \n",
       "sum_prec                           40.440075      3.526177  \n",
       "forest                                   0.5      0.142052  \n",
       "Year                                  2021.0      5.683018  \n",
       "max_max_temp                       90.217796      8.845774  \n",
       "yearly_avg_temp                    15.338652       0.10037  \n",
       "ignition                                 1.0       0.38467  "
      ]
     },
     "execution_count": 13,
     "metadata": {},
     "output_type": "execute_result"
    }
   ],
   "source": [
    "df[df[\"vegetation_class\"] == 'herbaceous_vegetation'].describe().transpose()"
   ]
  },
  {
   "cell_type": "markdown",
   "id": "bc197a81",
   "metadata": {},
   "source": [
    "J'ai pas l'impression qu'il n'y ai d'incohéerence, donc je peux regrouper ces deux valeurs ensembles. Faisons pareil pour la variable forest."
   ]
  },
  {
   "cell_type": "code",
   "execution_count": 14,
   "id": "0fb5227e",
   "metadata": {},
   "outputs": [
    {
     "data": {
      "text/html": [
       "<div>\n",
       "<style scoped>\n",
       "    .dataframe tbody tr th:only-of-type {\n",
       "        vertical-align: middle;\n",
       "    }\n",
       "\n",
       "    .dataframe tbody tr th {\n",
       "        vertical-align: top;\n",
       "    }\n",
       "\n",
       "    .dataframe thead th {\n",
       "        text-align: right;\n",
       "    }\n",
       "</style>\n",
       "<table border=\"1\" class=\"dataframe\">\n",
       "  <thead>\n",
       "    <tr style=\"text-align: right;\">\n",
       "      <th></th>\n",
       "      <th>Date</th>\n",
       "      <th>distance_fire_stations</th>\n",
       "      <th>distance_rivers</th>\n",
       "      <th>distance_roads</th>\n",
       "      <th>distance_powerlines</th>\n",
       "      <th>cropland</th>\n",
       "      <th>forest_deciduous_broad</th>\n",
       "      <th>forest_deciduous_needle</th>\n",
       "      <th>forest_evergreen_broad</th>\n",
       "      <th>forest_evergreen_needle</th>\n",
       "      <th>...</th>\n",
       "      <th>avg_wind_angle</th>\n",
       "      <th>avg_rel_hum</th>\n",
       "      <th>avg_soil</th>\n",
       "      <th>sum_prec</th>\n",
       "      <th>forest</th>\n",
       "      <th>vegetation_class</th>\n",
       "      <th>Year</th>\n",
       "      <th>max_max_temp</th>\n",
       "      <th>yearly_avg_temp</th>\n",
       "      <th>ignition</th>\n",
       "    </tr>\n",
       "  </thead>\n",
       "  <tbody>\n",
       "    <tr>\n",
       "      <th>0</th>\n",
       "      <td>2015-11-19</td>\n",
       "      <td>13287.682266</td>\n",
       "      <td>7211.102551</td>\n",
       "      <td>1250.000000</td>\n",
       "      <td>30196.233209</td>\n",
       "      <td>0.0</td>\n",
       "      <td>0.000000</td>\n",
       "      <td>0.0</td>\n",
       "      <td>1.000000</td>\n",
       "      <td>0.0</td>\n",
       "      <td>...</td>\n",
       "      <td>225.773605</td>\n",
       "      <td>56.837185</td>\n",
       "      <td>0.297854</td>\n",
       "      <td>0.360376</td>\n",
       "      <td>1.000000</td>\n",
       "      <td>forest</td>\n",
       "      <td>2015</td>\n",
       "      <td>62.552337</td>\n",
       "      <td>14.994683</td>\n",
       "      <td>1</td>\n",
       "    </tr>\n",
       "    <tr>\n",
       "      <th>1</th>\n",
       "      <td>2003-02-17</td>\n",
       "      <td>8721.381771</td>\n",
       "      <td>2358.495283</td>\n",
       "      <td>250.000000</td>\n",
       "      <td>13768.169813</td>\n",
       "      <td>0.0</td>\n",
       "      <td>0.000000</td>\n",
       "      <td>0.0</td>\n",
       "      <td>0.416667</td>\n",
       "      <td>0.0</td>\n",
       "      <td>...</td>\n",
       "      <td>209.708847</td>\n",
       "      <td>61.120739</td>\n",
       "      <td>0.264534</td>\n",
       "      <td>0.020176</td>\n",
       "      <td>0.833333</td>\n",
       "      <td>forest</td>\n",
       "      <td>2003</td>\n",
       "      <td>60.787457</td>\n",
       "      <td>15.053698</td>\n",
       "      <td>1</td>\n",
       "    </tr>\n",
       "    <tr>\n",
       "      <th>2</th>\n",
       "      <td>2012-02-26</td>\n",
       "      <td>10796.411441</td>\n",
       "      <td>0.000000</td>\n",
       "      <td>2015.564437</td>\n",
       "      <td>6254.998002</td>\n",
       "      <td>0.0</td>\n",
       "      <td>0.000000</td>\n",
       "      <td>0.0</td>\n",
       "      <td>0.666667</td>\n",
       "      <td>0.0</td>\n",
       "      <td>...</td>\n",
       "      <td>76.341278</td>\n",
       "      <td>63.017559</td>\n",
       "      <td>0.208871</td>\n",
       "      <td>0.025395</td>\n",
       "      <td>1.000000</td>\n",
       "      <td>forest</td>\n",
       "      <td>2012</td>\n",
       "      <td>63.420256</td>\n",
       "      <td>15.001883</td>\n",
       "      <td>1</td>\n",
       "    </tr>\n",
       "    <tr>\n",
       "      <th>4</th>\n",
       "      <td>2003-03-19</td>\n",
       "      <td>9905.806378</td>\n",
       "      <td>0.000000</td>\n",
       "      <td>1903.943276</td>\n",
       "      <td>6427.480066</td>\n",
       "      <td>0.0</td>\n",
       "      <td>0.000000</td>\n",
       "      <td>0.0</td>\n",
       "      <td>0.750000</td>\n",
       "      <td>0.0</td>\n",
       "      <td>...</td>\n",
       "      <td>316.951508</td>\n",
       "      <td>56.103680</td>\n",
       "      <td>0.208831</td>\n",
       "      <td>0.119717</td>\n",
       "      <td>0.916667</td>\n",
       "      <td>forest</td>\n",
       "      <td>2003</td>\n",
       "      <td>69.570496</td>\n",
       "      <td>NaN</td>\n",
       "      <td>1</td>\n",
       "    </tr>\n",
       "    <tr>\n",
       "      <th>5</th>\n",
       "      <td>2002-10-27</td>\n",
       "      <td>9219.544457</td>\n",
       "      <td>1802.775638</td>\n",
       "      <td>790.569415</td>\n",
       "      <td>78556.508324</td>\n",
       "      <td>0.0</td>\n",
       "      <td>0.000000</td>\n",
       "      <td>0.0</td>\n",
       "      <td>1.000000</td>\n",
       "      <td>0.0</td>\n",
       "      <td>...</td>\n",
       "      <td>200.360794</td>\n",
       "      <td>65.752640</td>\n",
       "      <td>0.149636</td>\n",
       "      <td>1.249126</td>\n",
       "      <td>1.000000</td>\n",
       "      <td>forest</td>\n",
       "      <td>2002</td>\n",
       "      <td>71.757874</td>\n",
       "      <td>NaN</td>\n",
       "      <td>1</td>\n",
       "    </tr>\n",
       "    <tr>\n",
       "      <th>...</th>\n",
       "      <td>...</td>\n",
       "      <td>...</td>\n",
       "      <td>...</td>\n",
       "      <td>...</td>\n",
       "      <td>...</td>\n",
       "      <td>...</td>\n",
       "      <td>...</td>\n",
       "      <td>...</td>\n",
       "      <td>...</td>\n",
       "      <td>...</td>\n",
       "      <td>...</td>\n",
       "      <td>...</td>\n",
       "      <td>...</td>\n",
       "      <td>...</td>\n",
       "      <td>...</td>\n",
       "      <td>...</td>\n",
       "      <td>...</td>\n",
       "      <td>...</td>\n",
       "      <td>...</td>\n",
       "      <td>...</td>\n",
       "      <td>...</td>\n",
       "    </tr>\n",
       "    <tr>\n",
       "      <th>22026</th>\n",
       "      <td>2010-01-31</td>\n",
       "      <td>25042.463936</td>\n",
       "      <td>2358.495283</td>\n",
       "      <td>500.000000</td>\n",
       "      <td>11401.754251</td>\n",
       "      <td>0.0</td>\n",
       "      <td>0.083333</td>\n",
       "      <td>0.0</td>\n",
       "      <td>0.916667</td>\n",
       "      <td>0.0</td>\n",
       "      <td>...</td>\n",
       "      <td>251.586121</td>\n",
       "      <td>84.076683</td>\n",
       "      <td>0.333571</td>\n",
       "      <td>0.308163</td>\n",
       "      <td>1.000000</td>\n",
       "      <td>forest</td>\n",
       "      <td>2010</td>\n",
       "      <td>60.585327</td>\n",
       "      <td>NaN</td>\n",
       "      <td>0</td>\n",
       "    </tr>\n",
       "    <tr>\n",
       "      <th>22028</th>\n",
       "      <td>2004-11-02</td>\n",
       "      <td>37263.420401</td>\n",
       "      <td>1457.737974</td>\n",
       "      <td>1750.000000</td>\n",
       "      <td>21644.860822</td>\n",
       "      <td>0.0</td>\n",
       "      <td>0.000000</td>\n",
       "      <td>0.0</td>\n",
       "      <td>1.000000</td>\n",
       "      <td>0.0</td>\n",
       "      <td>...</td>\n",
       "      <td>124.678886</td>\n",
       "      <td>96.984589</td>\n",
       "      <td>0.427841</td>\n",
       "      <td>15.235669</td>\n",
       "      <td>1.000000</td>\n",
       "      <td>forest</td>\n",
       "      <td>2004</td>\n",
       "      <td>42.268280</td>\n",
       "      <td>15.155374</td>\n",
       "      <td>0</td>\n",
       "    </tr>\n",
       "    <tr>\n",
       "      <th>22029</th>\n",
       "      <td>2002-11-11</td>\n",
       "      <td>13840.610536</td>\n",
       "      <td>750.000000</td>\n",
       "      <td>0.000000</td>\n",
       "      <td>14954.096429</td>\n",
       "      <td>0.0</td>\n",
       "      <td>0.000000</td>\n",
       "      <td>0.0</td>\n",
       "      <td>0.583333</td>\n",
       "      <td>0.0</td>\n",
       "      <td>...</td>\n",
       "      <td>347.873932</td>\n",
       "      <td>83.090729</td>\n",
       "      <td>0.417039</td>\n",
       "      <td>8.349513</td>\n",
       "      <td>0.666667</td>\n",
       "      <td>forest</td>\n",
       "      <td>2002</td>\n",
       "      <td>48.434210</td>\n",
       "      <td>15.102417</td>\n",
       "      <td>0</td>\n",
       "    </tr>\n",
       "    <tr>\n",
       "      <th>22031</th>\n",
       "      <td>2017-10-22</td>\n",
       "      <td>8933.784193</td>\n",
       "      <td>3889.087297</td>\n",
       "      <td>790.569415</td>\n",
       "      <td>40380.998006</td>\n",
       "      <td>0.0</td>\n",
       "      <td>0.000000</td>\n",
       "      <td>0.0</td>\n",
       "      <td>1.000000</td>\n",
       "      <td>0.0</td>\n",
       "      <td>...</td>\n",
       "      <td>156.162308</td>\n",
       "      <td>74.968750</td>\n",
       "      <td>0.230645</td>\n",
       "      <td>0.000000</td>\n",
       "      <td>1.000000</td>\n",
       "      <td>forest</td>\n",
       "      <td>2017</td>\n",
       "      <td>58.018655</td>\n",
       "      <td>15.045942</td>\n",
       "      <td>0</td>\n",
       "    </tr>\n",
       "    <tr>\n",
       "      <th>22032</th>\n",
       "      <td>2019-06-03</td>\n",
       "      <td>56560.255480</td>\n",
       "      <td>1030.776406</td>\n",
       "      <td>6388.466170</td>\n",
       "      <td>23538.532240</td>\n",
       "      <td>0.0</td>\n",
       "      <td>0.000000</td>\n",
       "      <td>0.0</td>\n",
       "      <td>1.000000</td>\n",
       "      <td>0.0</td>\n",
       "      <td>...</td>\n",
       "      <td>307.952423</td>\n",
       "      <td>78.899803</td>\n",
       "      <td>0.234808</td>\n",
       "      <td>2.249151</td>\n",
       "      <td>1.000000</td>\n",
       "      <td>forest</td>\n",
       "      <td>2019</td>\n",
       "      <td>56.924518</td>\n",
       "      <td>14.982935</td>\n",
       "      <td>0</td>\n",
       "    </tr>\n",
       "  </tbody>\n",
       "</table>\n",
       "<p>9124 rows × 42 columns</p>\n",
       "</div>"
      ],
      "text/plain": [
       "            Date  distance_fire_stations  distance_rivers  distance_roads  \\\n",
       "0     2015-11-19            13287.682266      7211.102551     1250.000000   \n",
       "1     2003-02-17             8721.381771      2358.495283      250.000000   \n",
       "2     2012-02-26            10796.411441         0.000000     2015.564437   \n",
       "4     2003-03-19             9905.806378         0.000000     1903.943276   \n",
       "5     2002-10-27             9219.544457      1802.775638      790.569415   \n",
       "...          ...                     ...              ...             ...   \n",
       "22026 2010-01-31            25042.463936      2358.495283      500.000000   \n",
       "22028 2004-11-02            37263.420401      1457.737974     1750.000000   \n",
       "22029 2002-11-11            13840.610536       750.000000        0.000000   \n",
       "22031 2017-10-22             8933.784193      3889.087297      790.569415   \n",
       "22032 2019-06-03            56560.255480      1030.776406     6388.466170   \n",
       "\n",
       "       distance_powerlines  cropland  forest_deciduous_broad  \\\n",
       "0             30196.233209       0.0                0.000000   \n",
       "1             13768.169813       0.0                0.000000   \n",
       "2              6254.998002       0.0                0.000000   \n",
       "4              6427.480066       0.0                0.000000   \n",
       "5             78556.508324       0.0                0.000000   \n",
       "...                    ...       ...                     ...   \n",
       "22026         11401.754251       0.0                0.083333   \n",
       "22028         21644.860822       0.0                0.000000   \n",
       "22029         14954.096429       0.0                0.000000   \n",
       "22031         40380.998006       0.0                0.000000   \n",
       "22032         23538.532240       0.0                0.000000   \n",
       "\n",
       "       forest_deciduous_needle  forest_evergreen_broad  \\\n",
       "0                          0.0                1.000000   \n",
       "1                          0.0                0.416667   \n",
       "2                          0.0                0.666667   \n",
       "4                          0.0                0.750000   \n",
       "5                          0.0                1.000000   \n",
       "...                        ...                     ...   \n",
       "22026                      0.0                0.916667   \n",
       "22028                      0.0                1.000000   \n",
       "22029                      0.0                0.583333   \n",
       "22031                      0.0                1.000000   \n",
       "22032                      0.0                1.000000   \n",
       "\n",
       "       forest_evergreen_needle  ...  avg_wind_angle  avg_rel_hum  avg_soil  \\\n",
       "0                          0.0  ...      225.773605    56.837185  0.297854   \n",
       "1                          0.0  ...      209.708847    61.120739  0.264534   \n",
       "2                          0.0  ...       76.341278    63.017559  0.208871   \n",
       "4                          0.0  ...      316.951508    56.103680  0.208831   \n",
       "5                          0.0  ...      200.360794    65.752640  0.149636   \n",
       "...                        ...  ...             ...          ...       ...   \n",
       "22026                      0.0  ...      251.586121    84.076683  0.333571   \n",
       "22028                      0.0  ...      124.678886    96.984589  0.427841   \n",
       "22029                      0.0  ...      347.873932    83.090729  0.417039   \n",
       "22031                      0.0  ...      156.162308    74.968750  0.230645   \n",
       "22032                      0.0  ...      307.952423    78.899803  0.234808   \n",
       "\n",
       "        sum_prec    forest  vegetation_class  Year  max_max_temp  \\\n",
       "0       0.360376  1.000000            forest  2015     62.552337   \n",
       "1       0.020176  0.833333            forest  2003     60.787457   \n",
       "2       0.025395  1.000000            forest  2012     63.420256   \n",
       "4       0.119717  0.916667            forest  2003     69.570496   \n",
       "5       1.249126  1.000000            forest  2002     71.757874   \n",
       "...          ...       ...               ...   ...           ...   \n",
       "22026   0.308163  1.000000            forest  2010     60.585327   \n",
       "22028  15.235669  1.000000            forest  2004     42.268280   \n",
       "22029   8.349513  0.666667            forest  2002     48.434210   \n",
       "22031   0.000000  1.000000            forest  2017     58.018655   \n",
       "22032   2.249151  1.000000            forest  2019     56.924518   \n",
       "\n",
       "       yearly_avg_temp  ignition  \n",
       "0            14.994683         1  \n",
       "1            15.053698         1  \n",
       "2            15.001883         1  \n",
       "4                  NaN         1  \n",
       "5                  NaN         1  \n",
       "...                ...       ...  \n",
       "22026              NaN         0  \n",
       "22028        15.155374         0  \n",
       "22029        15.102417         0  \n",
       "22031        15.045942         0  \n",
       "22032        14.982935         0  \n",
       "\n",
       "[9124 rows x 42 columns]"
      ]
     },
     "execution_count": 14,
     "metadata": {},
     "output_type": "execute_result"
    }
   ],
   "source": [
    "df[df[\"vegetation_class\"]=='forest']"
   ]
  },
  {
   "cell_type": "code",
   "execution_count": 15,
   "id": "82928a0a",
   "metadata": {},
   "outputs": [
    {
     "data": {
      "text/html": [
       "<div>\n",
       "<style scoped>\n",
       "    .dataframe tbody tr th:only-of-type {\n",
       "        vertical-align: middle;\n",
       "    }\n",
       "\n",
       "    .dataframe tbody tr th {\n",
       "        vertical-align: top;\n",
       "    }\n",
       "\n",
       "    .dataframe thead th {\n",
       "        text-align: right;\n",
       "    }\n",
       "</style>\n",
       "<table border=\"1\" class=\"dataframe\">\n",
       "  <thead>\n",
       "    <tr style=\"text-align: right;\">\n",
       "      <th></th>\n",
       "      <th>Date</th>\n",
       "      <th>distance_fire_stations</th>\n",
       "      <th>distance_rivers</th>\n",
       "      <th>distance_roads</th>\n",
       "      <th>distance_powerlines</th>\n",
       "      <th>cropland</th>\n",
       "      <th>forest_deciduous_broad</th>\n",
       "      <th>forest_deciduous_needle</th>\n",
       "      <th>forest_evergreen_broad</th>\n",
       "      <th>forest_evergreen_needle</th>\n",
       "      <th>...</th>\n",
       "      <th>avg_wind_angle</th>\n",
       "      <th>avg_rel_hum</th>\n",
       "      <th>avg_soil</th>\n",
       "      <th>sum_prec</th>\n",
       "      <th>forest</th>\n",
       "      <th>vegetation_class</th>\n",
       "      <th>Year</th>\n",
       "      <th>max_max_temp</th>\n",
       "      <th>yearly_avg_temp</th>\n",
       "      <th>ignition</th>\n",
       "    </tr>\n",
       "  </thead>\n",
       "  <tbody>\n",
       "    <tr>\n",
       "      <th>41</th>\n",
       "      <td>2018-12-07</td>\n",
       "      <td>48459.390215</td>\n",
       "      <td>707.106781</td>\n",
       "      <td>6041.522987</td>\n",
       "      <td>21744.252114</td>\n",
       "      <td>0.0</td>\n",
       "      <td>0.0</td>\n",
       "      <td>0.0</td>\n",
       "      <td>1.000000</td>\n",
       "      <td>0.0</td>\n",
       "      <td>...</td>\n",
       "      <td>188.510132</td>\n",
       "      <td>59.401398</td>\n",
       "      <td>0.175348</td>\n",
       "      <td>0.000877</td>\n",
       "      <td>1.000000</td>\n",
       "      <td>Forestt</td>\n",
       "      <td>2018</td>\n",
       "      <td>70.867926</td>\n",
       "      <td>14.841996</td>\n",
       "      <td>1</td>\n",
       "    </tr>\n",
       "    <tr>\n",
       "      <th>45</th>\n",
       "      <td>2018-07-12</td>\n",
       "      <td>7382.411530</td>\n",
       "      <td>250.000000</td>\n",
       "      <td>250.000000</td>\n",
       "      <td>50140.427800</td>\n",
       "      <td>0.0</td>\n",
       "      <td>0.0</td>\n",
       "      <td>0.0</td>\n",
       "      <td>1.000000</td>\n",
       "      <td>0.0</td>\n",
       "      <td>...</td>\n",
       "      <td>208.674881</td>\n",
       "      <td>64.887306</td>\n",
       "      <td>0.173452</td>\n",
       "      <td>0.000000</td>\n",
       "      <td>1.000000</td>\n",
       "      <td>Forestt</td>\n",
       "      <td>2018</td>\n",
       "      <td>63.333818</td>\n",
       "      <td>NaN</td>\n",
       "      <td>1</td>\n",
       "    </tr>\n",
       "    <tr>\n",
       "      <th>115</th>\n",
       "      <td>2018-01-27</td>\n",
       "      <td>23561.090807</td>\n",
       "      <td>0.000000</td>\n",
       "      <td>1500.000000</td>\n",
       "      <td>11250.000000</td>\n",
       "      <td>0.0</td>\n",
       "      <td>0.0</td>\n",
       "      <td>0.0</td>\n",
       "      <td>1.000000</td>\n",
       "      <td>0.0</td>\n",
       "      <td>...</td>\n",
       "      <td>249.382812</td>\n",
       "      <td>69.111504</td>\n",
       "      <td>0.259785</td>\n",
       "      <td>1.285167</td>\n",
       "      <td>1.000000</td>\n",
       "      <td>Forestt</td>\n",
       "      <td>2018</td>\n",
       "      <td>68.283997</td>\n",
       "      <td>14.840531</td>\n",
       "      <td>1</td>\n",
       "    </tr>\n",
       "    <tr>\n",
       "      <th>236</th>\n",
       "      <td>2018-02-04</td>\n",
       "      <td>41608.292443</td>\n",
       "      <td>4981.214711</td>\n",
       "      <td>2000.000000</td>\n",
       "      <td>29360.900872</td>\n",
       "      <td>0.0</td>\n",
       "      <td>0.0</td>\n",
       "      <td>0.0</td>\n",
       "      <td>0.500000</td>\n",
       "      <td>0.0</td>\n",
       "      <td>...</td>\n",
       "      <td>65.087471</td>\n",
       "      <td>73.762238</td>\n",
       "      <td>0.191159</td>\n",
       "      <td>0.781757</td>\n",
       "      <td>0.500000</td>\n",
       "      <td>Forestt</td>\n",
       "      <td>2018</td>\n",
       "      <td>66.504338</td>\n",
       "      <td>15.101217</td>\n",
       "      <td>1</td>\n",
       "    </tr>\n",
       "    <tr>\n",
       "      <th>240</th>\n",
       "      <td>2018-07-04</td>\n",
       "      <td>25353.747258</td>\n",
       "      <td>1500.000000</td>\n",
       "      <td>500.000000</td>\n",
       "      <td>2462.214450</td>\n",
       "      <td>0.0</td>\n",
       "      <td>0.0</td>\n",
       "      <td>0.0</td>\n",
       "      <td>0.583333</td>\n",
       "      <td>0.0</td>\n",
       "      <td>...</td>\n",
       "      <td>229.356064</td>\n",
       "      <td>78.532684</td>\n",
       "      <td>0.237738</td>\n",
       "      <td>3.573104</td>\n",
       "      <td>0.666667</td>\n",
       "      <td>Forestt</td>\n",
       "      <td>2018</td>\n",
       "      <td>60.012097</td>\n",
       "      <td>15.143028</td>\n",
       "      <td>1</td>\n",
       "    </tr>\n",
       "    <tr>\n",
       "      <th>...</th>\n",
       "      <td>...</td>\n",
       "      <td>...</td>\n",
       "      <td>...</td>\n",
       "      <td>...</td>\n",
       "      <td>...</td>\n",
       "      <td>...</td>\n",
       "      <td>...</td>\n",
       "      <td>...</td>\n",
       "      <td>...</td>\n",
       "      <td>...</td>\n",
       "      <td>...</td>\n",
       "      <td>...</td>\n",
       "      <td>...</td>\n",
       "      <td>...</td>\n",
       "      <td>...</td>\n",
       "      <td>...</td>\n",
       "      <td>...</td>\n",
       "      <td>...</td>\n",
       "      <td>...</td>\n",
       "      <td>...</td>\n",
       "      <td>...</td>\n",
       "    </tr>\n",
       "    <tr>\n",
       "      <th>21741</th>\n",
       "      <td>2018-02-16</td>\n",
       "      <td>3535.533906</td>\n",
       "      <td>1414.213562</td>\n",
       "      <td>0.000000</td>\n",
       "      <td>1250.000000</td>\n",
       "      <td>0.0</td>\n",
       "      <td>0.0</td>\n",
       "      <td>0.0</td>\n",
       "      <td>0.000000</td>\n",
       "      <td>0.0</td>\n",
       "      <td>...</td>\n",
       "      <td>226.186722</td>\n",
       "      <td>70.900047</td>\n",
       "      <td>0.295064</td>\n",
       "      <td>0.538260</td>\n",
       "      <td>1.000000</td>\n",
       "      <td>Forestt</td>\n",
       "      <td>2018</td>\n",
       "      <td>62.781604</td>\n",
       "      <td>15.072897</td>\n",
       "      <td>0</td>\n",
       "    </tr>\n",
       "    <tr>\n",
       "      <th>21818</th>\n",
       "      <td>2018-03-07</td>\n",
       "      <td>20501.524334</td>\n",
       "      <td>250.000000</td>\n",
       "      <td>1250.000000</td>\n",
       "      <td>3259.601203</td>\n",
       "      <td>0.0</td>\n",
       "      <td>0.0</td>\n",
       "      <td>0.0</td>\n",
       "      <td>0.833333</td>\n",
       "      <td>0.0</td>\n",
       "      <td>...</td>\n",
       "      <td>292.645782</td>\n",
       "      <td>74.365997</td>\n",
       "      <td>0.323846</td>\n",
       "      <td>8.176297</td>\n",
       "      <td>1.000000</td>\n",
       "      <td>Forestt</td>\n",
       "      <td>2018</td>\n",
       "      <td>68.123174</td>\n",
       "      <td>NaN</td>\n",
       "      <td>0</td>\n",
       "    </tr>\n",
       "    <tr>\n",
       "      <th>21855</th>\n",
       "      <td>2018-02-21</td>\n",
       "      <td>35536.073221</td>\n",
       "      <td>1030.776406</td>\n",
       "      <td>250.000000</td>\n",
       "      <td>11138.334705</td>\n",
       "      <td>0.0</td>\n",
       "      <td>0.0</td>\n",
       "      <td>0.0</td>\n",
       "      <td>0.750000</td>\n",
       "      <td>0.0</td>\n",
       "      <td>...</td>\n",
       "      <td>332.106445</td>\n",
       "      <td>91.652855</td>\n",
       "      <td>0.419328</td>\n",
       "      <td>13.256789</td>\n",
       "      <td>1.000000</td>\n",
       "      <td>Forestt</td>\n",
       "      <td>2018</td>\n",
       "      <td>47.138153</td>\n",
       "      <td>NaN</td>\n",
       "      <td>0</td>\n",
       "    </tr>\n",
       "    <tr>\n",
       "      <th>21875</th>\n",
       "      <td>2018-05-05</td>\n",
       "      <td>5590.169944</td>\n",
       "      <td>0.000000</td>\n",
       "      <td>2915.475947</td>\n",
       "      <td>4123.105626</td>\n",
       "      <td>0.0</td>\n",
       "      <td>0.0</td>\n",
       "      <td>0.0</td>\n",
       "      <td>1.000000</td>\n",
       "      <td>0.0</td>\n",
       "      <td>...</td>\n",
       "      <td>231.581665</td>\n",
       "      <td>91.412697</td>\n",
       "      <td>0.420514</td>\n",
       "      <td>14.035668</td>\n",
       "      <td>1.000000</td>\n",
       "      <td>Forestt</td>\n",
       "      <td>2018</td>\n",
       "      <td>50.945392</td>\n",
       "      <td>14.855414</td>\n",
       "      <td>0</td>\n",
       "    </tr>\n",
       "    <tr>\n",
       "      <th>21887</th>\n",
       "      <td>2018-01-08</td>\n",
       "      <td>16319.083920</td>\n",
       "      <td>1060.660172</td>\n",
       "      <td>353.553391</td>\n",
       "      <td>19768.978223</td>\n",
       "      <td>0.0</td>\n",
       "      <td>0.0</td>\n",
       "      <td>0.0</td>\n",
       "      <td>0.333333</td>\n",
       "      <td>0.0</td>\n",
       "      <td>...</td>\n",
       "      <td>125.822960</td>\n",
       "      <td>69.169586</td>\n",
       "      <td>0.370845</td>\n",
       "      <td>0.199730</td>\n",
       "      <td>1.000000</td>\n",
       "      <td>Forestt</td>\n",
       "      <td>2018</td>\n",
       "      <td>60.216992</td>\n",
       "      <td>15.057426</td>\n",
       "      <td>0</td>\n",
       "    </tr>\n",
       "  </tbody>\n",
       "</table>\n",
       "<p>549 rows × 42 columns</p>\n",
       "</div>"
      ],
      "text/plain": [
       "            Date  distance_fire_stations  distance_rivers  distance_roads  \\\n",
       "41    2018-12-07            48459.390215       707.106781     6041.522987   \n",
       "45    2018-07-12             7382.411530       250.000000      250.000000   \n",
       "115   2018-01-27            23561.090807         0.000000     1500.000000   \n",
       "236   2018-02-04            41608.292443      4981.214711     2000.000000   \n",
       "240   2018-07-04            25353.747258      1500.000000      500.000000   \n",
       "...          ...                     ...              ...             ...   \n",
       "21741 2018-02-16             3535.533906      1414.213562        0.000000   \n",
       "21818 2018-03-07            20501.524334       250.000000     1250.000000   \n",
       "21855 2018-02-21            35536.073221      1030.776406      250.000000   \n",
       "21875 2018-05-05             5590.169944         0.000000     2915.475947   \n",
       "21887 2018-01-08            16319.083920      1060.660172      353.553391   \n",
       "\n",
       "       distance_powerlines  cropland  forest_deciduous_broad  \\\n",
       "41            21744.252114       0.0                     0.0   \n",
       "45            50140.427800       0.0                     0.0   \n",
       "115           11250.000000       0.0                     0.0   \n",
       "236           29360.900872       0.0                     0.0   \n",
       "240            2462.214450       0.0                     0.0   \n",
       "...                    ...       ...                     ...   \n",
       "21741          1250.000000       0.0                     0.0   \n",
       "21818          3259.601203       0.0                     0.0   \n",
       "21855         11138.334705       0.0                     0.0   \n",
       "21875          4123.105626       0.0                     0.0   \n",
       "21887         19768.978223       0.0                     0.0   \n",
       "\n",
       "       forest_deciduous_needle  forest_evergreen_broad  \\\n",
       "41                         0.0                1.000000   \n",
       "45                         0.0                1.000000   \n",
       "115                        0.0                1.000000   \n",
       "236                        0.0                0.500000   \n",
       "240                        0.0                0.583333   \n",
       "...                        ...                     ...   \n",
       "21741                      0.0                0.000000   \n",
       "21818                      0.0                0.833333   \n",
       "21855                      0.0                0.750000   \n",
       "21875                      0.0                1.000000   \n",
       "21887                      0.0                0.333333   \n",
       "\n",
       "       forest_evergreen_needle  ...  avg_wind_angle  avg_rel_hum  avg_soil  \\\n",
       "41                         0.0  ...      188.510132    59.401398  0.175348   \n",
       "45                         0.0  ...      208.674881    64.887306  0.173452   \n",
       "115                        0.0  ...      249.382812    69.111504  0.259785   \n",
       "236                        0.0  ...       65.087471    73.762238  0.191159   \n",
       "240                        0.0  ...      229.356064    78.532684  0.237738   \n",
       "...                        ...  ...             ...          ...       ...   \n",
       "21741                      0.0  ...      226.186722    70.900047  0.295064   \n",
       "21818                      0.0  ...      292.645782    74.365997  0.323846   \n",
       "21855                      0.0  ...      332.106445    91.652855  0.419328   \n",
       "21875                      0.0  ...      231.581665    91.412697  0.420514   \n",
       "21887                      0.0  ...      125.822960    69.169586  0.370845   \n",
       "\n",
       "        sum_prec    forest  vegetation_class  Year  max_max_temp  \\\n",
       "41      0.000877  1.000000           Forestt  2018     70.867926   \n",
       "45      0.000000  1.000000           Forestt  2018     63.333818   \n",
       "115     1.285167  1.000000           Forestt  2018     68.283997   \n",
       "236     0.781757  0.500000           Forestt  2018     66.504338   \n",
       "240     3.573104  0.666667           Forestt  2018     60.012097   \n",
       "...          ...       ...               ...   ...           ...   \n",
       "21741   0.538260  1.000000           Forestt  2018     62.781604   \n",
       "21818   8.176297  1.000000           Forestt  2018     68.123174   \n",
       "21855  13.256789  1.000000           Forestt  2018     47.138153   \n",
       "21875  14.035668  1.000000           Forestt  2018     50.945392   \n",
       "21887   0.199730  1.000000           Forestt  2018     60.216992   \n",
       "\n",
       "       yearly_avg_temp  ignition  \n",
       "41           14.841996         1  \n",
       "45                 NaN         1  \n",
       "115          14.840531         1  \n",
       "236          15.101217         1  \n",
       "240          15.143028         1  \n",
       "...                ...       ...  \n",
       "21741        15.072897         0  \n",
       "21818              NaN         0  \n",
       "21855              NaN         0  \n",
       "21875        14.855414         0  \n",
       "21887        15.057426         0  \n",
       "\n",
       "[549 rows x 42 columns]"
      ]
     },
     "execution_count": 15,
     "metadata": {},
     "output_type": "execute_result"
    }
   ],
   "source": [
    "df[df[\"vegetation_class\"]=='Forestt']"
   ]
  },
  {
   "cell_type": "code",
   "execution_count": 16,
   "id": "3a7bdcb9",
   "metadata": {},
   "outputs": [
    {
     "data": {
      "text/html": [
       "<div>\n",
       "<style scoped>\n",
       "    .dataframe tbody tr th:only-of-type {\n",
       "        vertical-align: middle;\n",
       "    }\n",
       "\n",
       "    .dataframe tbody tr th {\n",
       "        vertical-align: top;\n",
       "    }\n",
       "\n",
       "    .dataframe thead th {\n",
       "        text-align: right;\n",
       "    }\n",
       "</style>\n",
       "<table border=\"1\" class=\"dataframe\">\n",
       "  <thead>\n",
       "    <tr style=\"text-align: right;\">\n",
       "      <th></th>\n",
       "      <th>count</th>\n",
       "      <th>mean</th>\n",
       "      <th>min</th>\n",
       "      <th>25%</th>\n",
       "      <th>50%</th>\n",
       "      <th>75%</th>\n",
       "      <th>max</th>\n",
       "      <th>std</th>\n",
       "    </tr>\n",
       "  </thead>\n",
       "  <tbody>\n",
       "    <tr>\n",
       "      <th>Date</th>\n",
       "      <td>9124</td>\n",
       "      <td>2011-06-17 08:07:59.789565952</td>\n",
       "      <td>2001-07-01 00:00:00</td>\n",
       "      <td>2006-08-21 18:00:00</td>\n",
       "      <td>2011-09-10 12:00:00</td>\n",
       "      <td>2015-12-31 06:00:00</td>\n",
       "      <td>2021-06-28 00:00:00</td>\n",
       "      <td>NaN</td>\n",
       "    </tr>\n",
       "    <tr>\n",
       "      <th>distance_fire_stations</th>\n",
       "      <td>9124.0</td>\n",
       "      <td>18544.499136</td>\n",
       "      <td>0.0</td>\n",
       "      <td>8528.441358</td>\n",
       "      <td>15106.910352</td>\n",
       "      <td>25210.364932</td>\n",
       "      <td>90526.584493</td>\n",
       "      <td>13799.567354</td>\n",
       "    </tr>\n",
       "    <tr>\n",
       "      <th>distance_rivers</th>\n",
       "      <td>9124.0</td>\n",
       "      <td>2015.738872</td>\n",
       "      <td>0.0</td>\n",
       "      <td>353.553391</td>\n",
       "      <td>1060.660172</td>\n",
       "      <td>3010.398645</td>\n",
       "      <td>22419.299721</td>\n",
       "      <td>2252.622098</td>\n",
       "    </tr>\n",
       "    <tr>\n",
       "      <th>distance_roads</th>\n",
       "      <td>9124.0</td>\n",
       "      <td>1719.568876</td>\n",
       "      <td>0.0</td>\n",
       "      <td>250.0</td>\n",
       "      <td>559.016994</td>\n",
       "      <td>1820.027472</td>\n",
       "      <td>23485.367785</td>\n",
       "      <td>2858.165211</td>\n",
       "    </tr>\n",
       "    <tr>\n",
       "      <th>distance_powerlines</th>\n",
       "      <td>9124.0</td>\n",
       "      <td>16387.726724</td>\n",
       "      <td>0.0</td>\n",
       "      <td>5250.0</td>\n",
       "      <td>12191.18534</td>\n",
       "      <td>23199.204028</td>\n",
       "      <td>135674.472544</td>\n",
       "      <td>15922.260153</td>\n",
       "    </tr>\n",
       "    <tr>\n",
       "      <th>cropland</th>\n",
       "      <td>9124.0</td>\n",
       "      <td>0.001525</td>\n",
       "      <td>0.0</td>\n",
       "      <td>0.0</td>\n",
       "      <td>0.0</td>\n",
       "      <td>0.0</td>\n",
       "      <td>0.75</td>\n",
       "      <td>0.02214</td>\n",
       "    </tr>\n",
       "    <tr>\n",
       "      <th>forest_deciduous_broad</th>\n",
       "      <td>9124.0</td>\n",
       "      <td>0.028743</td>\n",
       "      <td>0.0</td>\n",
       "      <td>0.0</td>\n",
       "      <td>0.0</td>\n",
       "      <td>0.0</td>\n",
       "      <td>1.0</td>\n",
       "      <td>0.129277</td>\n",
       "    </tr>\n",
       "    <tr>\n",
       "      <th>forest_deciduous_needle</th>\n",
       "      <td>9124.0</td>\n",
       "      <td>0.0</td>\n",
       "      <td>0.0</td>\n",
       "      <td>0.0</td>\n",
       "      <td>0.0</td>\n",
       "      <td>0.0</td>\n",
       "      <td>0.0</td>\n",
       "      <td>0.0</td>\n",
       "    </tr>\n",
       "    <tr>\n",
       "      <th>forest_evergreen_broad</th>\n",
       "      <td>9124.0</td>\n",
       "      <td>0.730491</td>\n",
       "      <td>0.0</td>\n",
       "      <td>0.5</td>\n",
       "      <td>1.0</td>\n",
       "      <td>1.0</td>\n",
       "      <td>1.0</td>\n",
       "      <td>0.365559</td>\n",
       "    </tr>\n",
       "    <tr>\n",
       "      <th>forest_evergreen_needle</th>\n",
       "      <td>9124.0</td>\n",
       "      <td>-5052.608505</td>\n",
       "      <td>-100000.0</td>\n",
       "      <td>0.0</td>\n",
       "      <td>0.0</td>\n",
       "      <td>0.0</td>\n",
       "      <td>0.0</td>\n",
       "      <td>21903.985544</td>\n",
       "    </tr>\n",
       "    <tr>\n",
       "      <th>forest_mixed</th>\n",
       "      <td>9124.0</td>\n",
       "      <td>0.0</td>\n",
       "      <td>0.0</td>\n",
       "      <td>0.0</td>\n",
       "      <td>0.0</td>\n",
       "      <td>0.0</td>\n",
       "      <td>0.0</td>\n",
       "      <td>0.0</td>\n",
       "    </tr>\n",
       "    <tr>\n",
       "      <th>forest_unknown</th>\n",
       "      <td>9124.0</td>\n",
       "      <td>0.162721</td>\n",
       "      <td>0.0</td>\n",
       "      <td>0.0</td>\n",
       "      <td>0.0</td>\n",
       "      <td>0.25</td>\n",
       "      <td>1.0</td>\n",
       "      <td>0.253949</td>\n",
       "    </tr>\n",
       "    <tr>\n",
       "      <th>herbaceous_vegetation</th>\n",
       "      <td>9124.0</td>\n",
       "      <td>0.056801</td>\n",
       "      <td>0.0</td>\n",
       "      <td>0.0</td>\n",
       "      <td>0.0</td>\n",
       "      <td>0.0</td>\n",
       "      <td>0.5</td>\n",
       "      <td>0.121094</td>\n",
       "    </tr>\n",
       "    <tr>\n",
       "      <th>moss_lichen</th>\n",
       "      <td>9124.0</td>\n",
       "      <td>0.0</td>\n",
       "      <td>0.0</td>\n",
       "      <td>0.0</td>\n",
       "      <td>0.0</td>\n",
       "      <td>0.0</td>\n",
       "      <td>0.0</td>\n",
       "      <td>0.0</td>\n",
       "    </tr>\n",
       "    <tr>\n",
       "      <th>shrubland</th>\n",
       "      <td>9124.0</td>\n",
       "      <td>0.005581</td>\n",
       "      <td>0.0</td>\n",
       "      <td>0.0</td>\n",
       "      <td>0.0</td>\n",
       "      <td>0.0</td>\n",
       "      <td>0.5</td>\n",
       "      <td>0.035698</td>\n",
       "    </tr>\n",
       "    <tr>\n",
       "      <th>sprarse_vegetation</th>\n",
       "      <td>9124.0</td>\n",
       "      <td>0.000018</td>\n",
       "      <td>0.0</td>\n",
       "      <td>0.0</td>\n",
       "      <td>0.0</td>\n",
       "      <td>0.0</td>\n",
       "      <td>0.166667</td>\n",
       "      <td>0.001745</td>\n",
       "    </tr>\n",
       "    <tr>\n",
       "      <th>urban</th>\n",
       "      <td>9124.0</td>\n",
       "      <td>0.002804</td>\n",
       "      <td>0.0</td>\n",
       "      <td>0.0</td>\n",
       "      <td>0.0</td>\n",
       "      <td>0.0</td>\n",
       "      <td>0.5</td>\n",
       "      <td>0.028601</td>\n",
       "    </tr>\n",
       "    <tr>\n",
       "      <th>water</th>\n",
       "      <td>9124.0</td>\n",
       "      <td>0.004813</td>\n",
       "      <td>0.0</td>\n",
       "      <td>0.0</td>\n",
       "      <td>0.0</td>\n",
       "      <td>0.0</td>\n",
       "      <td>0.5</td>\n",
       "      <td>0.036753</td>\n",
       "    </tr>\n",
       "    <tr>\n",
       "      <th>wetland</th>\n",
       "      <td>9124.0</td>\n",
       "      <td>0.006503</td>\n",
       "      <td>0.0</td>\n",
       "      <td>0.0</td>\n",
       "      <td>0.0</td>\n",
       "      <td>0.0</td>\n",
       "      <td>0.5</td>\n",
       "      <td>0.040684</td>\n",
       "    </tr>\n",
       "    <tr>\n",
       "      <th>aspect</th>\n",
       "      <td>9124.0</td>\n",
       "      <td>178.411678</td>\n",
       "      <td>0.0</td>\n",
       "      <td>88.388743</td>\n",
       "      <td>178.528616</td>\n",
       "      <td>266.496758</td>\n",
       "      <td>359.945485</td>\n",
       "      <td>104.648038</td>\n",
       "    </tr>\n",
       "    <tr>\n",
       "      <th>elevation</th>\n",
       "      <td>9124.0</td>\n",
       "      <td>374.904757</td>\n",
       "      <td>-100.0</td>\n",
       "      <td>145.75</td>\n",
       "      <td>318.0</td>\n",
       "      <td>555.25</td>\n",
       "      <td>1484.0</td>\n",
       "      <td>281.530767</td>\n",
       "    </tr>\n",
       "    <tr>\n",
       "      <th>pop_dens</th>\n",
       "      <td>9124.0</td>\n",
       "      <td>13.307971</td>\n",
       "      <td>0.0</td>\n",
       "      <td>0.018564</td>\n",
       "      <td>0.33242</td>\n",
       "      <td>1.200577</td>\n",
       "      <td>2104.176514</td>\n",
       "      <td>102.990452</td>\n",
       "    </tr>\n",
       "    <tr>\n",
       "      <th>slope</th>\n",
       "      <td>9124.0</td>\n",
       "      <td>8.986671</td>\n",
       "      <td>0.0</td>\n",
       "      <td>3.432416</td>\n",
       "      <td>6.952918</td>\n",
       "      <td>12.7027</td>\n",
       "      <td>46.551622</td>\n",
       "      <td>7.25687</td>\n",
       "    </tr>\n",
       "    <tr>\n",
       "      <th>anom_max_temp</th>\n",
       "      <td>9124.0</td>\n",
       "      <td>2.200328</td>\n",
       "      <td>-7.159943</td>\n",
       "      <td>0.022905</td>\n",
       "      <td>1.94763</td>\n",
       "      <td>4.141669</td>\n",
       "      <td>16.340687</td>\n",
       "      <td>3.078911</td>\n",
       "    </tr>\n",
       "    <tr>\n",
       "      <th>anom_max_wind_vel</th>\n",
       "      <td>9124.0</td>\n",
       "      <td>2.308416</td>\n",
       "      <td>-6.786325</td>\n",
       "      <td>-0.116232</td>\n",
       "      <td>2.063198</td>\n",
       "      <td>4.384222</td>\n",
       "      <td>22.360945</td>\n",
       "      <td>3.365282</td>\n",
       "    </tr>\n",
       "    <tr>\n",
       "      <th>anom_avg_temp</th>\n",
       "      <td>9124.0</td>\n",
       "      <td>1.983003</td>\n",
       "      <td>-7.788982</td>\n",
       "      <td>0.16482</td>\n",
       "      <td>1.950938</td>\n",
       "      <td>3.69898</td>\n",
       "      <td>13.051181</td>\n",
       "      <td>2.61274</td>\n",
       "    </tr>\n",
       "    <tr>\n",
       "      <th>anom_avg_rel_hum</th>\n",
       "      <td>9124.0</td>\n",
       "      <td>2.163289</td>\n",
       "      <td>-9.155835</td>\n",
       "      <td>0.200161</td>\n",
       "      <td>1.990126</td>\n",
       "      <td>4.067388</td>\n",
       "      <td>14.223313</td>\n",
       "      <td>2.804752</td>\n",
       "    </tr>\n",
       "    <tr>\n",
       "      <th>anom_avg_soil</th>\n",
       "      <td>9124.0</td>\n",
       "      <td>0.429219</td>\n",
       "      <td>-6.903322</td>\n",
       "      <td>-0.796582</td>\n",
       "      <td>0.431766</td>\n",
       "      <td>1.683799</td>\n",
       "      <td>7.94153</td>\n",
       "      <td>1.686726</td>\n",
       "    </tr>\n",
       "    <tr>\n",
       "      <th>anom_sum_prec</th>\n",
       "      <td>9124.0</td>\n",
       "      <td>0.012626</td>\n",
       "      <td>-3.103708</td>\n",
       "      <td>-0.759433</td>\n",
       "      <td>-0.133493</td>\n",
       "      <td>0.700224</td>\n",
       "      <td>4.668913</td>\n",
       "      <td>1.059689</td>\n",
       "    </tr>\n",
       "    <tr>\n",
       "      <th>max_temp</th>\n",
       "      <td>9124.0</td>\n",
       "      <td>14.976525</td>\n",
       "      <td>1.703878</td>\n",
       "      <td>11.219012</td>\n",
       "      <td>14.694135</td>\n",
       "      <td>18.543327</td>\n",
       "      <td>32.431244</td>\n",
       "      <td>4.88155</td>\n",
       "    </tr>\n",
       "    <tr>\n",
       "      <th>max_wind_vel</th>\n",
       "      <td>9124.0</td>\n",
       "      <td>4.683166</td>\n",
       "      <td>0.978202</td>\n",
       "      <td>3.360114</td>\n",
       "      <td>4.331688</td>\n",
       "      <td>5.579184</td>\n",
       "      <td>16.608572</td>\n",
       "      <td>1.938222</td>\n",
       "    </tr>\n",
       "    <tr>\n",
       "      <th>avg_temp</th>\n",
       "      <td>9124.0</td>\n",
       "      <td>152.34771</td>\n",
       "      <td>-4.109107</td>\n",
       "      <td>6.790994</td>\n",
       "      <td>275.156831</td>\n",
       "      <td>279.991402</td>\n",
       "      <td>291.146469</td>\n",
       "      <td>136.344118</td>\n",
       "    </tr>\n",
       "    <tr>\n",
       "      <th>avg_wind_angle</th>\n",
       "      <td>9124.0</td>\n",
       "      <td>203.606414</td>\n",
       "      <td>0.792745</td>\n",
       "      <td>136.145901</td>\n",
       "      <td>210.358521</td>\n",
       "      <td>271.222382</td>\n",
       "      <td>358.136597</td>\n",
       "      <td>85.276569</td>\n",
       "    </tr>\n",
       "    <tr>\n",
       "      <th>avg_rel_hum</th>\n",
       "      <td>9124.0</td>\n",
       "      <td>77.024278</td>\n",
       "      <td>40.705662</td>\n",
       "      <td>70.87446</td>\n",
       "      <td>76.942406</td>\n",
       "      <td>83.518053</td>\n",
       "      <td>98.558968</td>\n",
       "      <td>8.815469</td>\n",
       "    </tr>\n",
       "    <tr>\n",
       "      <th>avg_soil</th>\n",
       "      <td>9124.0</td>\n",
       "      <td>0.312879</td>\n",
       "      <td>0.051659</td>\n",
       "      <td>0.262138</td>\n",
       "      <td>0.320406</td>\n",
       "      <td>0.373716</td>\n",
       "      <td>0.501387</td>\n",
       "      <td>0.074418</td>\n",
       "    </tr>\n",
       "    <tr>\n",
       "      <th>sum_prec</th>\n",
       "      <td>9124.0</td>\n",
       "      <td>2.516935</td>\n",
       "      <td>-0.000007</td>\n",
       "      <td>0.153421</td>\n",
       "      <td>0.965909</td>\n",
       "      <td>3.405803</td>\n",
       "      <td>35.396515</td>\n",
       "      <td>3.715184</td>\n",
       "    </tr>\n",
       "    <tr>\n",
       "      <th>forest</th>\n",
       "      <td>9124.0</td>\n",
       "      <td>0.921955</td>\n",
       "      <td>0.166667</td>\n",
       "      <td>0.916667</td>\n",
       "      <td>1.0</td>\n",
       "      <td>1.0</td>\n",
       "      <td>1.0</td>\n",
       "      <td>0.150708</td>\n",
       "    </tr>\n",
       "    <tr>\n",
       "      <th>Year</th>\n",
       "      <td>9124.0</td>\n",
       "      <td>2010.960872</td>\n",
       "      <td>2001.0</td>\n",
       "      <td>2006.0</td>\n",
       "      <td>2011.0</td>\n",
       "      <td>2015.25</td>\n",
       "      <td>2021.0</td>\n",
       "      <td>5.600546</td>\n",
       "    </tr>\n",
       "    <tr>\n",
       "      <th>max_max_temp</th>\n",
       "      <td>9124.0</td>\n",
       "      <td>58.957744</td>\n",
       "      <td>35.06698</td>\n",
       "      <td>52.194222</td>\n",
       "      <td>58.449443</td>\n",
       "      <td>65.377989</td>\n",
       "      <td>90.376239</td>\n",
       "      <td>8.78679</td>\n",
       "    </tr>\n",
       "    <tr>\n",
       "      <th>yearly_avg_temp</th>\n",
       "      <td>6323.0</td>\n",
       "      <td>15.001557</td>\n",
       "      <td>14.597322</td>\n",
       "      <td>14.933535</td>\n",
       "      <td>15.001478</td>\n",
       "      <td>15.07111</td>\n",
       "      <td>15.369208</td>\n",
       "      <td>0.100298</td>\n",
       "    </tr>\n",
       "    <tr>\n",
       "      <th>ignition</th>\n",
       "      <td>9124.0</td>\n",
       "      <td>0.229833</td>\n",
       "      <td>0.0</td>\n",
       "      <td>0.0</td>\n",
       "      <td>0.0</td>\n",
       "      <td>0.0</td>\n",
       "      <td>1.0</td>\n",
       "      <td>0.420749</td>\n",
       "    </tr>\n",
       "  </tbody>\n",
       "</table>\n",
       "</div>"
      ],
      "text/plain": [
       "                          count                           mean  \\\n",
       "Date                       9124  2011-06-17 08:07:59.789565952   \n",
       "distance_fire_stations   9124.0                   18544.499136   \n",
       "distance_rivers          9124.0                    2015.738872   \n",
       "distance_roads           9124.0                    1719.568876   \n",
       "distance_powerlines      9124.0                   16387.726724   \n",
       "cropland                 9124.0                       0.001525   \n",
       "forest_deciduous_broad   9124.0                       0.028743   \n",
       "forest_deciduous_needle  9124.0                            0.0   \n",
       "forest_evergreen_broad   9124.0                       0.730491   \n",
       "forest_evergreen_needle  9124.0                   -5052.608505   \n",
       "forest_mixed             9124.0                            0.0   \n",
       "forest_unknown           9124.0                       0.162721   \n",
       "herbaceous_vegetation    9124.0                       0.056801   \n",
       "moss_lichen              9124.0                            0.0   \n",
       "shrubland                9124.0                       0.005581   \n",
       "sprarse_vegetation       9124.0                       0.000018   \n",
       "urban                    9124.0                       0.002804   \n",
       "water                    9124.0                       0.004813   \n",
       "wetland                  9124.0                       0.006503   \n",
       "aspect                   9124.0                     178.411678   \n",
       "elevation                9124.0                     374.904757   \n",
       "pop_dens                 9124.0                      13.307971   \n",
       "slope                    9124.0                       8.986671   \n",
       "anom_max_temp            9124.0                       2.200328   \n",
       "anom_max_wind_vel        9124.0                       2.308416   \n",
       "anom_avg_temp            9124.0                       1.983003   \n",
       "anom_avg_rel_hum         9124.0                       2.163289   \n",
       "anom_avg_soil            9124.0                       0.429219   \n",
       "anom_sum_prec            9124.0                       0.012626   \n",
       "max_temp                 9124.0                      14.976525   \n",
       "max_wind_vel             9124.0                       4.683166   \n",
       "avg_temp                 9124.0                      152.34771   \n",
       "avg_wind_angle           9124.0                     203.606414   \n",
       "avg_rel_hum              9124.0                      77.024278   \n",
       "avg_soil                 9124.0                       0.312879   \n",
       "sum_prec                 9124.0                       2.516935   \n",
       "forest                   9124.0                       0.921955   \n",
       "Year                     9124.0                    2010.960872   \n",
       "max_max_temp             9124.0                      58.957744   \n",
       "yearly_avg_temp          6323.0                      15.001557   \n",
       "ignition                 9124.0                       0.229833   \n",
       "\n",
       "                                         min                  25%  \\\n",
       "Date                     2001-07-01 00:00:00  2006-08-21 18:00:00   \n",
       "distance_fire_stations                   0.0          8528.441358   \n",
       "distance_rivers                          0.0           353.553391   \n",
       "distance_roads                           0.0                250.0   \n",
       "distance_powerlines                      0.0               5250.0   \n",
       "cropland                                 0.0                  0.0   \n",
       "forest_deciduous_broad                   0.0                  0.0   \n",
       "forest_deciduous_needle                  0.0                  0.0   \n",
       "forest_evergreen_broad                   0.0                  0.5   \n",
       "forest_evergreen_needle            -100000.0                  0.0   \n",
       "forest_mixed                             0.0                  0.0   \n",
       "forest_unknown                           0.0                  0.0   \n",
       "herbaceous_vegetation                    0.0                  0.0   \n",
       "moss_lichen                              0.0                  0.0   \n",
       "shrubland                                0.0                  0.0   \n",
       "sprarse_vegetation                       0.0                  0.0   \n",
       "urban                                    0.0                  0.0   \n",
       "water                                    0.0                  0.0   \n",
       "wetland                                  0.0                  0.0   \n",
       "aspect                                   0.0            88.388743   \n",
       "elevation                             -100.0               145.75   \n",
       "pop_dens                                 0.0             0.018564   \n",
       "slope                                    0.0             3.432416   \n",
       "anom_max_temp                      -7.159943             0.022905   \n",
       "anom_max_wind_vel                  -6.786325            -0.116232   \n",
       "anom_avg_temp                      -7.788982              0.16482   \n",
       "anom_avg_rel_hum                   -9.155835             0.200161   \n",
       "anom_avg_soil                      -6.903322            -0.796582   \n",
       "anom_sum_prec                      -3.103708            -0.759433   \n",
       "max_temp                            1.703878            11.219012   \n",
       "max_wind_vel                        0.978202             3.360114   \n",
       "avg_temp                           -4.109107             6.790994   \n",
       "avg_wind_angle                      0.792745           136.145901   \n",
       "avg_rel_hum                        40.705662             70.87446   \n",
       "avg_soil                            0.051659             0.262138   \n",
       "sum_prec                           -0.000007             0.153421   \n",
       "forest                              0.166667             0.916667   \n",
       "Year                                  2001.0               2006.0   \n",
       "max_max_temp                        35.06698            52.194222   \n",
       "yearly_avg_temp                    14.597322            14.933535   \n",
       "ignition                                 0.0                  0.0   \n",
       "\n",
       "                                         50%                  75%  \\\n",
       "Date                     2011-09-10 12:00:00  2015-12-31 06:00:00   \n",
       "distance_fire_stations          15106.910352         25210.364932   \n",
       "distance_rivers                  1060.660172          3010.398645   \n",
       "distance_roads                    559.016994          1820.027472   \n",
       "distance_powerlines              12191.18534         23199.204028   \n",
       "cropland                                 0.0                  0.0   \n",
       "forest_deciduous_broad                   0.0                  0.0   \n",
       "forest_deciduous_needle                  0.0                  0.0   \n",
       "forest_evergreen_broad                   1.0                  1.0   \n",
       "forest_evergreen_needle                  0.0                  0.0   \n",
       "forest_mixed                             0.0                  0.0   \n",
       "forest_unknown                           0.0                 0.25   \n",
       "herbaceous_vegetation                    0.0                  0.0   \n",
       "moss_lichen                              0.0                  0.0   \n",
       "shrubland                                0.0                  0.0   \n",
       "sprarse_vegetation                       0.0                  0.0   \n",
       "urban                                    0.0                  0.0   \n",
       "water                                    0.0                  0.0   \n",
       "wetland                                  0.0                  0.0   \n",
       "aspect                            178.528616           266.496758   \n",
       "elevation                              318.0               555.25   \n",
       "pop_dens                             0.33242             1.200577   \n",
       "slope                               6.952918              12.7027   \n",
       "anom_max_temp                        1.94763             4.141669   \n",
       "anom_max_wind_vel                   2.063198             4.384222   \n",
       "anom_avg_temp                       1.950938              3.69898   \n",
       "anom_avg_rel_hum                    1.990126             4.067388   \n",
       "anom_avg_soil                       0.431766             1.683799   \n",
       "anom_sum_prec                      -0.133493             0.700224   \n",
       "max_temp                           14.694135            18.543327   \n",
       "max_wind_vel                        4.331688             5.579184   \n",
       "avg_temp                          275.156831           279.991402   \n",
       "avg_wind_angle                    210.358521           271.222382   \n",
       "avg_rel_hum                        76.942406            83.518053   \n",
       "avg_soil                            0.320406             0.373716   \n",
       "sum_prec                            0.965909             3.405803   \n",
       "forest                                   1.0                  1.0   \n",
       "Year                                  2011.0              2015.25   \n",
       "max_max_temp                       58.449443            65.377989   \n",
       "yearly_avg_temp                    15.001478             15.07111   \n",
       "ignition                                 0.0                  0.0   \n",
       "\n",
       "                                         max           std  \n",
       "Date                     2021-06-28 00:00:00           NaN  \n",
       "distance_fire_stations          90526.584493  13799.567354  \n",
       "distance_rivers                 22419.299721   2252.622098  \n",
       "distance_roads                  23485.367785   2858.165211  \n",
       "distance_powerlines            135674.472544  15922.260153  \n",
       "cropland                                0.75       0.02214  \n",
       "forest_deciduous_broad                   1.0      0.129277  \n",
       "forest_deciduous_needle                  0.0           0.0  \n",
       "forest_evergreen_broad                   1.0      0.365559  \n",
       "forest_evergreen_needle                  0.0  21903.985544  \n",
       "forest_mixed                             0.0           0.0  \n",
       "forest_unknown                           1.0      0.253949  \n",
       "herbaceous_vegetation                    0.5      0.121094  \n",
       "moss_lichen                              0.0           0.0  \n",
       "shrubland                                0.5      0.035698  \n",
       "sprarse_vegetation                  0.166667      0.001745  \n",
       "urban                                    0.5      0.028601  \n",
       "water                                    0.5      0.036753  \n",
       "wetland                                  0.5      0.040684  \n",
       "aspect                            359.945485    104.648038  \n",
       "elevation                             1484.0    281.530767  \n",
       "pop_dens                         2104.176514    102.990452  \n",
       "slope                              46.551622       7.25687  \n",
       "anom_max_temp                      16.340687      3.078911  \n",
       "anom_max_wind_vel                  22.360945      3.365282  \n",
       "anom_avg_temp                      13.051181       2.61274  \n",
       "anom_avg_rel_hum                   14.223313      2.804752  \n",
       "anom_avg_soil                        7.94153      1.686726  \n",
       "anom_sum_prec                       4.668913      1.059689  \n",
       "max_temp                           32.431244       4.88155  \n",
       "max_wind_vel                       16.608572      1.938222  \n",
       "avg_temp                          291.146469    136.344118  \n",
       "avg_wind_angle                    358.136597     85.276569  \n",
       "avg_rel_hum                        98.558968      8.815469  \n",
       "avg_soil                            0.501387      0.074418  \n",
       "sum_prec                           35.396515      3.715184  \n",
       "forest                                   1.0      0.150708  \n",
       "Year                                  2021.0      5.600546  \n",
       "max_max_temp                       90.376239       8.78679  \n",
       "yearly_avg_temp                    15.369208      0.100298  \n",
       "ignition                                 1.0      0.420749  "
      ]
     },
     "execution_count": 16,
     "metadata": {},
     "output_type": "execute_result"
    }
   ],
   "source": [
    "df[df[\"vegetation_class\"]=='forest'].describe().transpose()"
   ]
  },
  {
   "cell_type": "code",
   "execution_count": 17,
   "id": "e369717d",
   "metadata": {},
   "outputs": [
    {
     "data": {
      "text/html": [
       "<div>\n",
       "<style scoped>\n",
       "    .dataframe tbody tr th:only-of-type {\n",
       "        vertical-align: middle;\n",
       "    }\n",
       "\n",
       "    .dataframe tbody tr th {\n",
       "        vertical-align: top;\n",
       "    }\n",
       "\n",
       "    .dataframe thead th {\n",
       "        text-align: right;\n",
       "    }\n",
       "</style>\n",
       "<table border=\"1\" class=\"dataframe\">\n",
       "  <thead>\n",
       "    <tr style=\"text-align: right;\">\n",
       "      <th></th>\n",
       "      <th>count</th>\n",
       "      <th>mean</th>\n",
       "      <th>min</th>\n",
       "      <th>25%</th>\n",
       "      <th>50%</th>\n",
       "      <th>75%</th>\n",
       "      <th>max</th>\n",
       "      <th>std</th>\n",
       "    </tr>\n",
       "  </thead>\n",
       "  <tbody>\n",
       "    <tr>\n",
       "      <th>Date</th>\n",
       "      <td>549</td>\n",
       "      <td>2018-06-24 08:36:43.278688512</td>\n",
       "      <td>2018-01-01 00:00:00</td>\n",
       "      <td>2018-03-10 00:00:00</td>\n",
       "      <td>2018-06-18 00:00:00</td>\n",
       "      <td>2018-10-05 00:00:00</td>\n",
       "      <td>2018-12-31 00:00:00</td>\n",
       "      <td>NaN</td>\n",
       "    </tr>\n",
       "    <tr>\n",
       "      <th>distance_fire_stations</th>\n",
       "      <td>549.0</td>\n",
       "      <td>18227.824463</td>\n",
       "      <td>559.016994</td>\n",
       "      <td>8143.248737</td>\n",
       "      <td>14884.975647</td>\n",
       "      <td>24168.678077</td>\n",
       "      <td>83967.999857</td>\n",
       "      <td>13587.911217</td>\n",
       "    </tr>\n",
       "    <tr>\n",
       "      <th>distance_rivers</th>\n",
       "      <td>549.0</td>\n",
       "      <td>1986.818846</td>\n",
       "      <td>0.0</td>\n",
       "      <td>500.0</td>\n",
       "      <td>1118.033989</td>\n",
       "      <td>3000.0</td>\n",
       "      <td>12412.191587</td>\n",
       "      <td>2153.273874</td>\n",
       "    </tr>\n",
       "    <tr>\n",
       "      <th>distance_roads</th>\n",
       "      <td>549.0</td>\n",
       "      <td>1754.163434</td>\n",
       "      <td>0.0</td>\n",
       "      <td>250.0</td>\n",
       "      <td>707.106781</td>\n",
       "      <td>1903.943276</td>\n",
       "      <td>16405.029717</td>\n",
       "      <td>2804.146091</td>\n",
       "    </tr>\n",
       "    <tr>\n",
       "      <th>distance_powerlines</th>\n",
       "      <td>549.0</td>\n",
       "      <td>15328.350826</td>\n",
       "      <td>0.0</td>\n",
       "      <td>4500.0</td>\n",
       "      <td>11750.0</td>\n",
       "      <td>21965.882636</td>\n",
       "      <td>108048.889397</td>\n",
       "      <td>14920.569612</td>\n",
       "    </tr>\n",
       "    <tr>\n",
       "      <th>cropland</th>\n",
       "      <td>549.0</td>\n",
       "      <td>0.000607</td>\n",
       "      <td>0.0</td>\n",
       "      <td>0.0</td>\n",
       "      <td>0.0</td>\n",
       "      <td>0.0</td>\n",
       "      <td>0.166667</td>\n",
       "      <td>0.008699</td>\n",
       "    </tr>\n",
       "    <tr>\n",
       "      <th>forest_deciduous_broad</th>\n",
       "      <td>549.0</td>\n",
       "      <td>0.031421</td>\n",
       "      <td>0.0</td>\n",
       "      <td>0.0</td>\n",
       "      <td>0.0</td>\n",
       "      <td>0.0</td>\n",
       "      <td>1.0</td>\n",
       "      <td>0.142079</td>\n",
       "    </tr>\n",
       "    <tr>\n",
       "      <th>forest_deciduous_needle</th>\n",
       "      <td>549.0</td>\n",
       "      <td>0.0</td>\n",
       "      <td>0.0</td>\n",
       "      <td>0.0</td>\n",
       "      <td>0.0</td>\n",
       "      <td>0.0</td>\n",
       "      <td>0.0</td>\n",
       "      <td>0.0</td>\n",
       "    </tr>\n",
       "    <tr>\n",
       "      <th>forest_evergreen_broad</th>\n",
       "      <td>549.0</td>\n",
       "      <td>0.718427</td>\n",
       "      <td>0.0</td>\n",
       "      <td>0.416667</td>\n",
       "      <td>1.0</td>\n",
       "      <td>1.0</td>\n",
       "      <td>1.0</td>\n",
       "      <td>0.36966</td>\n",
       "    </tr>\n",
       "    <tr>\n",
       "      <th>forest_evergreen_needle</th>\n",
       "      <td>549.0</td>\n",
       "      <td>0.0</td>\n",
       "      <td>0.0</td>\n",
       "      <td>0.0</td>\n",
       "      <td>0.0</td>\n",
       "      <td>0.0</td>\n",
       "      <td>0.0</td>\n",
       "      <td>0.0</td>\n",
       "    </tr>\n",
       "    <tr>\n",
       "      <th>forest_mixed</th>\n",
       "      <td>549.0</td>\n",
       "      <td>0.0</td>\n",
       "      <td>0.0</td>\n",
       "      <td>0.0</td>\n",
       "      <td>0.0</td>\n",
       "      <td>0.0</td>\n",
       "      <td>0.0</td>\n",
       "      <td>0.0</td>\n",
       "    </tr>\n",
       "    <tr>\n",
       "      <th>forest_unknown</th>\n",
       "      <td>549.0</td>\n",
       "      <td>0.171979</td>\n",
       "      <td>0.0</td>\n",
       "      <td>0.0</td>\n",
       "      <td>0.0</td>\n",
       "      <td>0.333333</td>\n",
       "      <td>1.0</td>\n",
       "      <td>0.260592</td>\n",
       "    </tr>\n",
       "    <tr>\n",
       "      <th>herbaceous_vegetation</th>\n",
       "      <td>549.0</td>\n",
       "      <td>0.060413</td>\n",
       "      <td>0.0</td>\n",
       "      <td>0.0</td>\n",
       "      <td>0.0</td>\n",
       "      <td>0.0</td>\n",
       "      <td>0.5</td>\n",
       "      <td>0.126134</td>\n",
       "    </tr>\n",
       "    <tr>\n",
       "      <th>moss_lichen</th>\n",
       "      <td>549.0</td>\n",
       "      <td>0.0</td>\n",
       "      <td>0.0</td>\n",
       "      <td>0.0</td>\n",
       "      <td>0.0</td>\n",
       "      <td>0.0</td>\n",
       "      <td>0.0</td>\n",
       "      <td>0.0</td>\n",
       "    </tr>\n",
       "    <tr>\n",
       "      <th>shrubland</th>\n",
       "      <td>549.0</td>\n",
       "      <td>0.005616</td>\n",
       "      <td>0.0</td>\n",
       "      <td>0.0</td>\n",
       "      <td>0.0</td>\n",
       "      <td>0.0</td>\n",
       "      <td>0.416667</td>\n",
       "      <td>0.037081</td>\n",
       "    </tr>\n",
       "    <tr>\n",
       "      <th>sprarse_vegetation</th>\n",
       "      <td>549.0</td>\n",
       "      <td>0.0</td>\n",
       "      <td>0.0</td>\n",
       "      <td>0.0</td>\n",
       "      <td>0.0</td>\n",
       "      <td>0.0</td>\n",
       "      <td>0.0</td>\n",
       "      <td>0.0</td>\n",
       "    </tr>\n",
       "    <tr>\n",
       "      <th>urban</th>\n",
       "      <td>549.0</td>\n",
       "      <td>0.001821</td>\n",
       "      <td>0.0</td>\n",
       "      <td>0.0</td>\n",
       "      <td>0.0</td>\n",
       "      <td>0.0</td>\n",
       "      <td>0.333333</td>\n",
       "      <td>0.019413</td>\n",
       "    </tr>\n",
       "    <tr>\n",
       "      <th>water</th>\n",
       "      <td>549.0</td>\n",
       "      <td>0.005161</td>\n",
       "      <td>0.0</td>\n",
       "      <td>0.0</td>\n",
       "      <td>0.0</td>\n",
       "      <td>0.0</td>\n",
       "      <td>0.416667</td>\n",
       "      <td>0.03486</td>\n",
       "    </tr>\n",
       "    <tr>\n",
       "      <th>wetland</th>\n",
       "      <td>549.0</td>\n",
       "      <td>0.004554</td>\n",
       "      <td>0.0</td>\n",
       "      <td>0.0</td>\n",
       "      <td>0.0</td>\n",
       "      <td>0.0</td>\n",
       "      <td>0.333333</td>\n",
       "      <td>0.031512</td>\n",
       "    </tr>\n",
       "    <tr>\n",
       "      <th>aspect</th>\n",
       "      <td>549.0</td>\n",
       "      <td>181.607832</td>\n",
       "      <td>0.0</td>\n",
       "      <td>91.423205</td>\n",
       "      <td>176.742778</td>\n",
       "      <td>273.362872</td>\n",
       "      <td>359.291222</td>\n",
       "      <td>105.565255</td>\n",
       "    </tr>\n",
       "    <tr>\n",
       "      <th>elevation</th>\n",
       "      <td>549.0</td>\n",
       "      <td>379.220401</td>\n",
       "      <td>-100.0</td>\n",
       "      <td>148.0</td>\n",
       "      <td>318.0</td>\n",
       "      <td>561.0</td>\n",
       "      <td>1345.0</td>\n",
       "      <td>282.600303</td>\n",
       "    </tr>\n",
       "    <tr>\n",
       "      <th>pop_dens</th>\n",
       "      <td>549.0</td>\n",
       "      <td>15.05675</td>\n",
       "      <td>0.0</td>\n",
       "      <td>0.018564</td>\n",
       "      <td>0.281414</td>\n",
       "      <td>1.171209</td>\n",
       "      <td>1427.926636</td>\n",
       "      <td>110.463233</td>\n",
       "    </tr>\n",
       "    <tr>\n",
       "      <th>slope</th>\n",
       "      <td>549.0</td>\n",
       "      <td>9.067533</td>\n",
       "      <td>0.0</td>\n",
       "      <td>3.306533</td>\n",
       "      <td>7.021245</td>\n",
       "      <td>12.769783</td>\n",
       "      <td>41.850621</td>\n",
       "      <td>7.399432</td>\n",
       "    </tr>\n",
       "    <tr>\n",
       "      <th>anom_max_temp</th>\n",
       "      <td>549.0</td>\n",
       "      <td>2.085946</td>\n",
       "      <td>-5.567633</td>\n",
       "      <td>-0.069823</td>\n",
       "      <td>1.766231</td>\n",
       "      <td>4.050759</td>\n",
       "      <td>16.160152</td>\n",
       "      <td>3.06177</td>\n",
       "    </tr>\n",
       "    <tr>\n",
       "      <th>anom_max_wind_vel</th>\n",
       "      <td>549.0</td>\n",
       "      <td>2.11794</td>\n",
       "      <td>-5.166252</td>\n",
       "      <td>-0.387167</td>\n",
       "      <td>1.753374</td>\n",
       "      <td>4.196939</td>\n",
       "      <td>19.717875</td>\n",
       "      <td>3.434474</td>\n",
       "    </tr>\n",
       "    <tr>\n",
       "      <th>anom_avg_temp</th>\n",
       "      <td>549.0</td>\n",
       "      <td>2.035003</td>\n",
       "      <td>-5.466127</td>\n",
       "      <td>0.374977</td>\n",
       "      <td>2.002637</td>\n",
       "      <td>3.629603</td>\n",
       "      <td>12.857261</td>\n",
       "      <td>2.567259</td>\n",
       "    </tr>\n",
       "    <tr>\n",
       "      <th>anom_avg_rel_hum</th>\n",
       "      <td>549.0</td>\n",
       "      <td>2.303636</td>\n",
       "      <td>-4.72892</td>\n",
       "      <td>0.368436</td>\n",
       "      <td>2.025878</td>\n",
       "      <td>4.248985</td>\n",
       "      <td>9.770508</td>\n",
       "      <td>2.740448</td>\n",
       "    </tr>\n",
       "    <tr>\n",
       "      <th>anom_avg_soil</th>\n",
       "      <td>549.0</td>\n",
       "      <td>0.514976</td>\n",
       "      <td>-4.943655</td>\n",
       "      <td>-0.636971</td>\n",
       "      <td>0.547157</td>\n",
       "      <td>1.764845</td>\n",
       "      <td>6.174232</td>\n",
       "      <td>1.625151</td>\n",
       "    </tr>\n",
       "    <tr>\n",
       "      <th>anom_sum_prec</th>\n",
       "      <td>549.0</td>\n",
       "      <td>0.057278</td>\n",
       "      <td>-2.445817</td>\n",
       "      <td>-0.742208</td>\n",
       "      <td>-0.074303</td>\n",
       "      <td>0.722561</td>\n",
       "      <td>4.326592</td>\n",
       "      <td>1.065219</td>\n",
       "    </tr>\n",
       "    <tr>\n",
       "      <th>max_temp</th>\n",
       "      <td>549.0</td>\n",
       "      <td>15.037095</td>\n",
       "      <td>3.18455</td>\n",
       "      <td>11.356567</td>\n",
       "      <td>14.71461</td>\n",
       "      <td>18.612762</td>\n",
       "      <td>29.019775</td>\n",
       "      <td>4.741988</td>\n",
       "    </tr>\n",
       "    <tr>\n",
       "      <th>max_wind_vel</th>\n",
       "      <td>549.0</td>\n",
       "      <td>4.639715</td>\n",
       "      <td>1.314951</td>\n",
       "      <td>3.324336</td>\n",
       "      <td>4.280752</td>\n",
       "      <td>5.474203</td>\n",
       "      <td>19.703424</td>\n",
       "      <td>1.959409</td>\n",
       "    </tr>\n",
       "    <tr>\n",
       "      <th>avg_temp</th>\n",
       "      <td>549.0</td>\n",
       "      <td>280.024961</td>\n",
       "      <td>272.016138</td>\n",
       "      <td>277.8158</td>\n",
       "      <td>279.84293</td>\n",
       "      <td>281.97615</td>\n",
       "      <td>289.25051</td>\n",
       "      <td>3.066887</td>\n",
       "    </tr>\n",
       "    <tr>\n",
       "      <th>avg_wind_angle</th>\n",
       "      <td>549.0</td>\n",
       "      <td>205.711541</td>\n",
       "      <td>8.269582</td>\n",
       "      <td>136.338959</td>\n",
       "      <td>208.674881</td>\n",
       "      <td>285.968567</td>\n",
       "      <td>356.160645</td>\n",
       "      <td>88.115493</td>\n",
       "    </tr>\n",
       "    <tr>\n",
       "      <th>avg_rel_hum</th>\n",
       "      <td>549.0</td>\n",
       "      <td>77.226911</td>\n",
       "      <td>53.678741</td>\n",
       "      <td>71.072014</td>\n",
       "      <td>76.622383</td>\n",
       "      <td>83.634056</td>\n",
       "      <td>97.363655</td>\n",
       "      <td>8.72255</td>\n",
       "    </tr>\n",
       "    <tr>\n",
       "      <th>avg_soil</th>\n",
       "      <td>549.0</td>\n",
       "      <td>0.313146</td>\n",
       "      <td>0.057276</td>\n",
       "      <td>0.258198</td>\n",
       "      <td>0.32141</td>\n",
       "      <td>0.37877</td>\n",
       "      <td>0.487766</td>\n",
       "      <td>0.076933</td>\n",
       "    </tr>\n",
       "    <tr>\n",
       "      <th>sum_prec</th>\n",
       "      <td>549.0</td>\n",
       "      <td>2.612544</td>\n",
       "      <td>0.0</td>\n",
       "      <td>0.188957</td>\n",
       "      <td>1.113112</td>\n",
       "      <td>3.573104</td>\n",
       "      <td>28.313379</td>\n",
       "      <td>3.677087</td>\n",
       "    </tr>\n",
       "    <tr>\n",
       "      <th>forest</th>\n",
       "      <td>549.0</td>\n",
       "      <td>0.921828</td>\n",
       "      <td>0.333333</td>\n",
       "      <td>0.916667</td>\n",
       "      <td>1.0</td>\n",
       "      <td>1.0</td>\n",
       "      <td>1.0</td>\n",
       "      <td>0.148999</td>\n",
       "    </tr>\n",
       "    <tr>\n",
       "      <th>Year</th>\n",
       "      <td>549.0</td>\n",
       "      <td>2018.0</td>\n",
       "      <td>2018.0</td>\n",
       "      <td>2018.0</td>\n",
       "      <td>2018.0</td>\n",
       "      <td>2018.0</td>\n",
       "      <td>2018.0</td>\n",
       "      <td>0.0</td>\n",
       "    </tr>\n",
       "    <tr>\n",
       "      <th>max_max_temp</th>\n",
       "      <td>549.0</td>\n",
       "      <td>59.06677</td>\n",
       "      <td>37.73219</td>\n",
       "      <td>52.441821</td>\n",
       "      <td>58.486298</td>\n",
       "      <td>65.502972</td>\n",
       "      <td>84.235596</td>\n",
       "      <td>8.535578</td>\n",
       "    </tr>\n",
       "    <tr>\n",
       "      <th>yearly_avg_temp</th>\n",
       "      <td>388.0</td>\n",
       "      <td>14.994611</td>\n",
       "      <td>14.743939</td>\n",
       "      <td>14.919264</td>\n",
       "      <td>14.999651</td>\n",
       "      <td>15.068971</td>\n",
       "      <td>15.293942</td>\n",
       "      <td>0.102941</td>\n",
       "    </tr>\n",
       "    <tr>\n",
       "      <th>ignition</th>\n",
       "      <td>549.0</td>\n",
       "      <td>0.236794</td>\n",
       "      <td>0.0</td>\n",
       "      <td>0.0</td>\n",
       "      <td>0.0</td>\n",
       "      <td>0.0</td>\n",
       "      <td>1.0</td>\n",
       "      <td>0.425503</td>\n",
       "    </tr>\n",
       "  </tbody>\n",
       "</table>\n",
       "</div>"
      ],
      "text/plain": [
       "                         count                           mean  \\\n",
       "Date                       549  2018-06-24 08:36:43.278688512   \n",
       "distance_fire_stations   549.0                   18227.824463   \n",
       "distance_rivers          549.0                    1986.818846   \n",
       "distance_roads           549.0                    1754.163434   \n",
       "distance_powerlines      549.0                   15328.350826   \n",
       "cropland                 549.0                       0.000607   \n",
       "forest_deciduous_broad   549.0                       0.031421   \n",
       "forest_deciduous_needle  549.0                            0.0   \n",
       "forest_evergreen_broad   549.0                       0.718427   \n",
       "forest_evergreen_needle  549.0                            0.0   \n",
       "forest_mixed             549.0                            0.0   \n",
       "forest_unknown           549.0                       0.171979   \n",
       "herbaceous_vegetation    549.0                       0.060413   \n",
       "moss_lichen              549.0                            0.0   \n",
       "shrubland                549.0                       0.005616   \n",
       "sprarse_vegetation       549.0                            0.0   \n",
       "urban                    549.0                       0.001821   \n",
       "water                    549.0                       0.005161   \n",
       "wetland                  549.0                       0.004554   \n",
       "aspect                   549.0                     181.607832   \n",
       "elevation                549.0                     379.220401   \n",
       "pop_dens                 549.0                       15.05675   \n",
       "slope                    549.0                       9.067533   \n",
       "anom_max_temp            549.0                       2.085946   \n",
       "anom_max_wind_vel        549.0                        2.11794   \n",
       "anom_avg_temp            549.0                       2.035003   \n",
       "anom_avg_rel_hum         549.0                       2.303636   \n",
       "anom_avg_soil            549.0                       0.514976   \n",
       "anom_sum_prec            549.0                       0.057278   \n",
       "max_temp                 549.0                      15.037095   \n",
       "max_wind_vel             549.0                       4.639715   \n",
       "avg_temp                 549.0                     280.024961   \n",
       "avg_wind_angle           549.0                     205.711541   \n",
       "avg_rel_hum              549.0                      77.226911   \n",
       "avg_soil                 549.0                       0.313146   \n",
       "sum_prec                 549.0                       2.612544   \n",
       "forest                   549.0                       0.921828   \n",
       "Year                     549.0                         2018.0   \n",
       "max_max_temp             549.0                       59.06677   \n",
       "yearly_avg_temp          388.0                      14.994611   \n",
       "ignition                 549.0                       0.236794   \n",
       "\n",
       "                                         min                  25%  \\\n",
       "Date                     2018-01-01 00:00:00  2018-03-10 00:00:00   \n",
       "distance_fire_stations            559.016994          8143.248737   \n",
       "distance_rivers                          0.0                500.0   \n",
       "distance_roads                           0.0                250.0   \n",
       "distance_powerlines                      0.0               4500.0   \n",
       "cropland                                 0.0                  0.0   \n",
       "forest_deciduous_broad                   0.0                  0.0   \n",
       "forest_deciduous_needle                  0.0                  0.0   \n",
       "forest_evergreen_broad                   0.0             0.416667   \n",
       "forest_evergreen_needle                  0.0                  0.0   \n",
       "forest_mixed                             0.0                  0.0   \n",
       "forest_unknown                           0.0                  0.0   \n",
       "herbaceous_vegetation                    0.0                  0.0   \n",
       "moss_lichen                              0.0                  0.0   \n",
       "shrubland                                0.0                  0.0   \n",
       "sprarse_vegetation                       0.0                  0.0   \n",
       "urban                                    0.0                  0.0   \n",
       "water                                    0.0                  0.0   \n",
       "wetland                                  0.0                  0.0   \n",
       "aspect                                   0.0            91.423205   \n",
       "elevation                             -100.0                148.0   \n",
       "pop_dens                                 0.0             0.018564   \n",
       "slope                                    0.0             3.306533   \n",
       "anom_max_temp                      -5.567633            -0.069823   \n",
       "anom_max_wind_vel                  -5.166252            -0.387167   \n",
       "anom_avg_temp                      -5.466127             0.374977   \n",
       "anom_avg_rel_hum                    -4.72892             0.368436   \n",
       "anom_avg_soil                      -4.943655            -0.636971   \n",
       "anom_sum_prec                      -2.445817            -0.742208   \n",
       "max_temp                             3.18455            11.356567   \n",
       "max_wind_vel                        1.314951             3.324336   \n",
       "avg_temp                          272.016138             277.8158   \n",
       "avg_wind_angle                      8.269582           136.338959   \n",
       "avg_rel_hum                        53.678741            71.072014   \n",
       "avg_soil                            0.057276             0.258198   \n",
       "sum_prec                                 0.0             0.188957   \n",
       "forest                              0.333333             0.916667   \n",
       "Year                                  2018.0               2018.0   \n",
       "max_max_temp                        37.73219            52.441821   \n",
       "yearly_avg_temp                    14.743939            14.919264   \n",
       "ignition                                 0.0                  0.0   \n",
       "\n",
       "                                         50%                  75%  \\\n",
       "Date                     2018-06-18 00:00:00  2018-10-05 00:00:00   \n",
       "distance_fire_stations          14884.975647         24168.678077   \n",
       "distance_rivers                  1118.033989               3000.0   \n",
       "distance_roads                    707.106781          1903.943276   \n",
       "distance_powerlines                  11750.0         21965.882636   \n",
       "cropland                                 0.0                  0.0   \n",
       "forest_deciduous_broad                   0.0                  0.0   \n",
       "forest_deciduous_needle                  0.0                  0.0   \n",
       "forest_evergreen_broad                   1.0                  1.0   \n",
       "forest_evergreen_needle                  0.0                  0.0   \n",
       "forest_mixed                             0.0                  0.0   \n",
       "forest_unknown                           0.0             0.333333   \n",
       "herbaceous_vegetation                    0.0                  0.0   \n",
       "moss_lichen                              0.0                  0.0   \n",
       "shrubland                                0.0                  0.0   \n",
       "sprarse_vegetation                       0.0                  0.0   \n",
       "urban                                    0.0                  0.0   \n",
       "water                                    0.0                  0.0   \n",
       "wetland                                  0.0                  0.0   \n",
       "aspect                            176.742778           273.362872   \n",
       "elevation                              318.0                561.0   \n",
       "pop_dens                            0.281414             1.171209   \n",
       "slope                               7.021245            12.769783   \n",
       "anom_max_temp                       1.766231             4.050759   \n",
       "anom_max_wind_vel                   1.753374             4.196939   \n",
       "anom_avg_temp                       2.002637             3.629603   \n",
       "anom_avg_rel_hum                    2.025878             4.248985   \n",
       "anom_avg_soil                       0.547157             1.764845   \n",
       "anom_sum_prec                      -0.074303             0.722561   \n",
       "max_temp                            14.71461            18.612762   \n",
       "max_wind_vel                        4.280752             5.474203   \n",
       "avg_temp                           279.84293            281.97615   \n",
       "avg_wind_angle                    208.674881           285.968567   \n",
       "avg_rel_hum                        76.622383            83.634056   \n",
       "avg_soil                             0.32141              0.37877   \n",
       "sum_prec                            1.113112             3.573104   \n",
       "forest                                   1.0                  1.0   \n",
       "Year                                  2018.0               2018.0   \n",
       "max_max_temp                       58.486298            65.502972   \n",
       "yearly_avg_temp                    14.999651            15.068971   \n",
       "ignition                                 0.0                  0.0   \n",
       "\n",
       "                                         max           std  \n",
       "Date                     2018-12-31 00:00:00           NaN  \n",
       "distance_fire_stations          83967.999857  13587.911217  \n",
       "distance_rivers                 12412.191587   2153.273874  \n",
       "distance_roads                  16405.029717   2804.146091  \n",
       "distance_powerlines            108048.889397  14920.569612  \n",
       "cropland                            0.166667      0.008699  \n",
       "forest_deciduous_broad                   1.0      0.142079  \n",
       "forest_deciduous_needle                  0.0           0.0  \n",
       "forest_evergreen_broad                   1.0       0.36966  \n",
       "forest_evergreen_needle                  0.0           0.0  \n",
       "forest_mixed                             0.0           0.0  \n",
       "forest_unknown                           1.0      0.260592  \n",
       "herbaceous_vegetation                    0.5      0.126134  \n",
       "moss_lichen                              0.0           0.0  \n",
       "shrubland                           0.416667      0.037081  \n",
       "sprarse_vegetation                       0.0           0.0  \n",
       "urban                               0.333333      0.019413  \n",
       "water                               0.416667       0.03486  \n",
       "wetland                             0.333333      0.031512  \n",
       "aspect                            359.291222    105.565255  \n",
       "elevation                             1345.0    282.600303  \n",
       "pop_dens                         1427.926636    110.463233  \n",
       "slope                              41.850621      7.399432  \n",
       "anom_max_temp                      16.160152       3.06177  \n",
       "anom_max_wind_vel                  19.717875      3.434474  \n",
       "anom_avg_temp                      12.857261      2.567259  \n",
       "anom_avg_rel_hum                    9.770508      2.740448  \n",
       "anom_avg_soil                       6.174232      1.625151  \n",
       "anom_sum_prec                       4.326592      1.065219  \n",
       "max_temp                           29.019775      4.741988  \n",
       "max_wind_vel                       19.703424      1.959409  \n",
       "avg_temp                           289.25051      3.066887  \n",
       "avg_wind_angle                    356.160645     88.115493  \n",
       "avg_rel_hum                        97.363655       8.72255  \n",
       "avg_soil                            0.487766      0.076933  \n",
       "sum_prec                           28.313379      3.677087  \n",
       "forest                                   1.0      0.148999  \n",
       "Year                                  2018.0           0.0  \n",
       "max_max_temp                       84.235596      8.535578  \n",
       "yearly_avg_temp                    15.293942      0.102941  \n",
       "ignition                                 1.0      0.425503  "
      ]
     },
     "execution_count": 17,
     "metadata": {},
     "output_type": "execute_result"
    }
   ],
   "source": [
    "df[df[\"vegetation_class\"]=='Forestt'].describe().transpose()"
   ]
  },
  {
   "cell_type": "markdown",
   "id": "4c7ecb03",
   "metadata": {},
   "source": [
    "La moyenne semble assez similaire entre ces deux variables, nous pouvons donc les regrouper."
   ]
  },
  {
   "cell_type": "code",
   "execution_count": 18,
   "id": "133e1334",
   "metadata": {},
   "outputs": [
    {
     "name": "stdout",
     "output_type": "stream",
     "text": [
      "object\n"
     ]
    }
   ],
   "source": [
    "print(df['vegetation_class'].dtype)"
   ]
  },
  {
   "cell_type": "code",
   "execution_count": 19,
   "id": "b8ee77bb",
   "metadata": {},
   "outputs": [
    {
     "data": {
      "text/plain": [
       "vegetation_class\n",
       "forest                     9124\n",
       "water                      8108\n",
       "herbaceous_vegetation      3850\n",
       "Forestt                     549\n",
       "wetland                     224\n",
       "urban                        81\n",
       "shrubland                    66\n",
       "$herb$aceous_vegetation       1\n",
       "Name: count, dtype: int64"
      ]
     },
     "execution_count": 19,
     "metadata": {},
     "output_type": "execute_result"
    }
   ],
   "source": [
    "df['vegetation_class'].value_counts()"
   ]
  },
  {
   "cell_type": "markdown",
   "id": "2354ebad",
   "metadata": {},
   "source": [
    "### Prétraitement"
   ]
  },
  {
   "cell_type": "markdown",
   "id": "5e1d90d4",
   "metadata": {},
   "source": [
    "#### Donnée manquants"
   ]
  },
  {
   "cell_type": "code",
   "execution_count": 20,
   "id": "524a97b2",
   "metadata": {},
   "outputs": [
    {
     "data": {
      "text/html": [
       "<div>\n",
       "<style scoped>\n",
       "    .dataframe tbody tr th:only-of-type {\n",
       "        vertical-align: middle;\n",
       "    }\n",
       "\n",
       "    .dataframe tbody tr th {\n",
       "        vertical-align: top;\n",
       "    }\n",
       "\n",
       "    .dataframe thead th {\n",
       "        text-align: right;\n",
       "    }\n",
       "</style>\n",
       "<table border=\"1\" class=\"dataframe\">\n",
       "  <thead>\n",
       "    <tr style=\"text-align: right;\">\n",
       "      <th></th>\n",
       "      <th>Variables</th>\n",
       "      <th>Pourcentage</th>\n",
       "    </tr>\n",
       "  </thead>\n",
       "  <tbody>\n",
       "    <tr>\n",
       "      <th>0</th>\n",
       "      <td>Date</td>\n",
       "      <td>0.000000</td>\n",
       "    </tr>\n",
       "    <tr>\n",
       "      <th>1</th>\n",
       "      <td>distance_fire_stations</td>\n",
       "      <td>0.022691</td>\n",
       "    </tr>\n",
       "    <tr>\n",
       "      <th>2</th>\n",
       "      <td>distance_rivers</td>\n",
       "      <td>0.022691</td>\n",
       "    </tr>\n",
       "    <tr>\n",
       "      <th>3</th>\n",
       "      <td>distance_roads</td>\n",
       "      <td>0.022691</td>\n",
       "    </tr>\n",
       "    <tr>\n",
       "      <th>4</th>\n",
       "      <td>distance_powerlines</td>\n",
       "      <td>0.022691</td>\n",
       "    </tr>\n",
       "    <tr>\n",
       "      <th>5</th>\n",
       "      <td>cropland</td>\n",
       "      <td>0.022691</td>\n",
       "    </tr>\n",
       "    <tr>\n",
       "      <th>6</th>\n",
       "      <td>forest_deciduous_broad</td>\n",
       "      <td>0.022691</td>\n",
       "    </tr>\n",
       "    <tr>\n",
       "      <th>7</th>\n",
       "      <td>forest_deciduous_needle</td>\n",
       "      <td>0.022691</td>\n",
       "    </tr>\n",
       "    <tr>\n",
       "      <th>8</th>\n",
       "      <td>forest_evergreen_broad</td>\n",
       "      <td>0.022691</td>\n",
       "    </tr>\n",
       "    <tr>\n",
       "      <th>9</th>\n",
       "      <td>forest_evergreen_needle</td>\n",
       "      <td>0.022691</td>\n",
       "    </tr>\n",
       "    <tr>\n",
       "      <th>10</th>\n",
       "      <td>forest_mixed</td>\n",
       "      <td>0.022691</td>\n",
       "    </tr>\n",
       "    <tr>\n",
       "      <th>11</th>\n",
       "      <td>forest_unknown</td>\n",
       "      <td>0.022691</td>\n",
       "    </tr>\n",
       "    <tr>\n",
       "      <th>12</th>\n",
       "      <td>herbaceous_vegetation</td>\n",
       "      <td>0.022691</td>\n",
       "    </tr>\n",
       "    <tr>\n",
       "      <th>13</th>\n",
       "      <td>moss_lichen</td>\n",
       "      <td>0.022691</td>\n",
       "    </tr>\n",
       "    <tr>\n",
       "      <th>14</th>\n",
       "      <td>shrubland</td>\n",
       "      <td>0.022691</td>\n",
       "    </tr>\n",
       "    <tr>\n",
       "      <th>15</th>\n",
       "      <td>sprarse_vegetation</td>\n",
       "      <td>0.022691</td>\n",
       "    </tr>\n",
       "    <tr>\n",
       "      <th>16</th>\n",
       "      <td>urban</td>\n",
       "      <td>0.022691</td>\n",
       "    </tr>\n",
       "    <tr>\n",
       "      <th>17</th>\n",
       "      <td>water</td>\n",
       "      <td>0.022691</td>\n",
       "    </tr>\n",
       "    <tr>\n",
       "      <th>18</th>\n",
       "      <td>wetland</td>\n",
       "      <td>0.022691</td>\n",
       "    </tr>\n",
       "    <tr>\n",
       "      <th>19</th>\n",
       "      <td>aspect</td>\n",
       "      <td>0.000000</td>\n",
       "    </tr>\n",
       "    <tr>\n",
       "      <th>20</th>\n",
       "      <td>elevation</td>\n",
       "      <td>0.000000</td>\n",
       "    </tr>\n",
       "    <tr>\n",
       "      <th>21</th>\n",
       "      <td>pop_dens</td>\n",
       "      <td>0.000000</td>\n",
       "    </tr>\n",
       "    <tr>\n",
       "      <th>22</th>\n",
       "      <td>slope</td>\n",
       "      <td>0.000000</td>\n",
       "    </tr>\n",
       "    <tr>\n",
       "      <th>23</th>\n",
       "      <td>anom_max_temp</td>\n",
       "      <td>0.000000</td>\n",
       "    </tr>\n",
       "    <tr>\n",
       "      <th>24</th>\n",
       "      <td>anom_max_wind_vel</td>\n",
       "      <td>0.000000</td>\n",
       "    </tr>\n",
       "    <tr>\n",
       "      <th>25</th>\n",
       "      <td>anom_avg_temp</td>\n",
       "      <td>0.000000</td>\n",
       "    </tr>\n",
       "    <tr>\n",
       "      <th>26</th>\n",
       "      <td>anom_avg_rel_hum</td>\n",
       "      <td>0.000000</td>\n",
       "    </tr>\n",
       "    <tr>\n",
       "      <th>27</th>\n",
       "      <td>anom_avg_soil</td>\n",
       "      <td>0.000000</td>\n",
       "    </tr>\n",
       "    <tr>\n",
       "      <th>28</th>\n",
       "      <td>anom_sum_prec</td>\n",
       "      <td>0.000000</td>\n",
       "    </tr>\n",
       "    <tr>\n",
       "      <th>29</th>\n",
       "      <td>max_temp</td>\n",
       "      <td>0.000000</td>\n",
       "    </tr>\n",
       "    <tr>\n",
       "      <th>30</th>\n",
       "      <td>max_wind_vel</td>\n",
       "      <td>0.000000</td>\n",
       "    </tr>\n",
       "    <tr>\n",
       "      <th>31</th>\n",
       "      <td>avg_temp</td>\n",
       "      <td>0.000000</td>\n",
       "    </tr>\n",
       "    <tr>\n",
       "      <th>32</th>\n",
       "      <td>avg_wind_angle</td>\n",
       "      <td>0.000000</td>\n",
       "    </tr>\n",
       "    <tr>\n",
       "      <th>33</th>\n",
       "      <td>avg_rel_hum</td>\n",
       "      <td>0.000000</td>\n",
       "    </tr>\n",
       "    <tr>\n",
       "      <th>34</th>\n",
       "      <td>avg_soil</td>\n",
       "      <td>0.000000</td>\n",
       "    </tr>\n",
       "    <tr>\n",
       "      <th>35</th>\n",
       "      <td>sum_prec</td>\n",
       "      <td>0.000000</td>\n",
       "    </tr>\n",
       "    <tr>\n",
       "      <th>36</th>\n",
       "      <td>forest</td>\n",
       "      <td>0.000000</td>\n",
       "    </tr>\n",
       "    <tr>\n",
       "      <th>37</th>\n",
       "      <td>vegetation_class</td>\n",
       "      <td>0.145224</td>\n",
       "    </tr>\n",
       "    <tr>\n",
       "      <th>38</th>\n",
       "      <td>Year</td>\n",
       "      <td>0.000000</td>\n",
       "    </tr>\n",
       "    <tr>\n",
       "      <th>39</th>\n",
       "      <td>max_max_temp</td>\n",
       "      <td>0.000000</td>\n",
       "    </tr>\n",
       "    <tr>\n",
       "      <th>40</th>\n",
       "      <td>yearly_avg_temp</td>\n",
       "      <td>31.000681</td>\n",
       "    </tr>\n",
       "    <tr>\n",
       "      <th>41</th>\n",
       "      <td>ignition</td>\n",
       "      <td>0.000000</td>\n",
       "    </tr>\n",
       "  </tbody>\n",
       "</table>\n",
       "</div>"
      ],
      "text/plain": [
       "                  Variables  Pourcentage\n",
       "0                      Date     0.000000\n",
       "1    distance_fire_stations     0.022691\n",
       "2           distance_rivers     0.022691\n",
       "3            distance_roads     0.022691\n",
       "4       distance_powerlines     0.022691\n",
       "5                  cropland     0.022691\n",
       "6    forest_deciduous_broad     0.022691\n",
       "7   forest_deciduous_needle     0.022691\n",
       "8    forest_evergreen_broad     0.022691\n",
       "9   forest_evergreen_needle     0.022691\n",
       "10             forest_mixed     0.022691\n",
       "11           forest_unknown     0.022691\n",
       "12    herbaceous_vegetation     0.022691\n",
       "13              moss_lichen     0.022691\n",
       "14                shrubland     0.022691\n",
       "15       sprarse_vegetation     0.022691\n",
       "16                    urban     0.022691\n",
       "17                    water     0.022691\n",
       "18                  wetland     0.022691\n",
       "19                   aspect     0.000000\n",
       "20                elevation     0.000000\n",
       "21                 pop_dens     0.000000\n",
       "22                    slope     0.000000\n",
       "23            anom_max_temp     0.000000\n",
       "24        anom_max_wind_vel     0.000000\n",
       "25            anom_avg_temp     0.000000\n",
       "26         anom_avg_rel_hum     0.000000\n",
       "27            anom_avg_soil     0.000000\n",
       "28            anom_sum_prec     0.000000\n",
       "29                 max_temp     0.000000\n",
       "30             max_wind_vel     0.000000\n",
       "31                 avg_temp     0.000000\n",
       "32           avg_wind_angle     0.000000\n",
       "33              avg_rel_hum     0.000000\n",
       "34                 avg_soil     0.000000\n",
       "35                 sum_prec     0.000000\n",
       "36                   forest     0.000000\n",
       "37         vegetation_class     0.145224\n",
       "38                     Year     0.000000\n",
       "39             max_max_temp     0.000000\n",
       "40          yearly_avg_temp    31.000681\n",
       "41                 ignition     0.000000"
      ]
     },
     "execution_count": 20,
     "metadata": {},
     "output_type": "execute_result"
    }
   ],
   "source": [
    "valeur_nan = (df.isna().sum() / len(df)) * 100\n",
    "df_nan = pd.DataFrame({\n",
    "    'Variables': valeur_nan.index,\n",
    "    'Pourcentage': valeur_nan.values\n",
    "})\n",
    "df_nan"
   ]
  },
  {
   "cell_type": "markdown",
   "id": "24746da3",
   "metadata": {},
   "source": [
    "La variable `yearly_avg_temp` comporte trop de données manquantes. Si nous la supprimons, nous risquons de perdre des informations précieuses pour notre étude."
   ]
  },
  {
   "cell_type": "code",
   "execution_count": 21,
   "id": "333edd90",
   "metadata": {},
   "outputs": [
    {
     "data": {
      "text/html": [
       "<div>\n",
       "<style scoped>\n",
       "    .dataframe tbody tr th:only-of-type {\n",
       "        vertical-align: middle;\n",
       "    }\n",
       "\n",
       "    .dataframe tbody tr th {\n",
       "        vertical-align: top;\n",
       "    }\n",
       "\n",
       "    .dataframe thead th {\n",
       "        text-align: right;\n",
       "    }\n",
       "</style>\n",
       "<table border=\"1\" class=\"dataframe\">\n",
       "  <thead>\n",
       "    <tr style=\"text-align: right;\">\n",
       "      <th></th>\n",
       "      <th>Date</th>\n",
       "      <th>distance_fire_stations</th>\n",
       "      <th>distance_rivers</th>\n",
       "      <th>distance_roads</th>\n",
       "      <th>distance_powerlines</th>\n",
       "      <th>cropland</th>\n",
       "      <th>forest_deciduous_broad</th>\n",
       "      <th>forest_deciduous_needle</th>\n",
       "      <th>forest_evergreen_broad</th>\n",
       "      <th>forest_evergreen_needle</th>\n",
       "      <th>...</th>\n",
       "      <th>avg_wind_angle</th>\n",
       "      <th>avg_rel_hum</th>\n",
       "      <th>avg_soil</th>\n",
       "      <th>sum_prec</th>\n",
       "      <th>forest</th>\n",
       "      <th>vegetation_class</th>\n",
       "      <th>Year</th>\n",
       "      <th>max_max_temp</th>\n",
       "      <th>yearly_avg_temp</th>\n",
       "      <th>ignition</th>\n",
       "    </tr>\n",
       "  </thead>\n",
       "  <tbody>\n",
       "    <tr>\n",
       "      <th>4</th>\n",
       "      <td>2003-03-19</td>\n",
       "      <td>9905.806378</td>\n",
       "      <td>0.000000</td>\n",
       "      <td>1903.943276</td>\n",
       "      <td>6427.480066</td>\n",
       "      <td>0.0</td>\n",
       "      <td>0.000000</td>\n",
       "      <td>0.0</td>\n",
       "      <td>0.750000</td>\n",
       "      <td>0.0</td>\n",
       "      <td>...</td>\n",
       "      <td>316.951508</td>\n",
       "      <td>56.103680</td>\n",
       "      <td>0.208831</td>\n",
       "      <td>0.119717</td>\n",
       "      <td>0.916667</td>\n",
       "      <td>forest</td>\n",
       "      <td>2003</td>\n",
       "      <td>69.570496</td>\n",
       "      <td>NaN</td>\n",
       "      <td>1</td>\n",
       "    </tr>\n",
       "    <tr>\n",
       "      <th>5</th>\n",
       "      <td>2002-10-27</td>\n",
       "      <td>9219.544457</td>\n",
       "      <td>1802.775638</td>\n",
       "      <td>790.569415</td>\n",
       "      <td>78556.508324</td>\n",
       "      <td>0.0</td>\n",
       "      <td>0.000000</td>\n",
       "      <td>0.0</td>\n",
       "      <td>1.000000</td>\n",
       "      <td>0.0</td>\n",
       "      <td>...</td>\n",
       "      <td>200.360794</td>\n",
       "      <td>65.752640</td>\n",
       "      <td>0.149636</td>\n",
       "      <td>1.249126</td>\n",
       "      <td>1.000000</td>\n",
       "      <td>forest</td>\n",
       "      <td>2002</td>\n",
       "      <td>71.757874</td>\n",
       "      <td>NaN</td>\n",
       "      <td>1</td>\n",
       "    </tr>\n",
       "    <tr>\n",
       "      <th>6</th>\n",
       "      <td>2001-08-01</td>\n",
       "      <td>1500.000000</td>\n",
       "      <td>1581.138830</td>\n",
       "      <td>750.000000</td>\n",
       "      <td>1750.000000</td>\n",
       "      <td>0.0</td>\n",
       "      <td>0.000000</td>\n",
       "      <td>0.0</td>\n",
       "      <td>0.000000</td>\n",
       "      <td>0.0</td>\n",
       "      <td>...</td>\n",
       "      <td>225.296082</td>\n",
       "      <td>53.998550</td>\n",
       "      <td>0.154567</td>\n",
       "      <td>0.034456</td>\n",
       "      <td>0.000000</td>\n",
       "      <td>herbaceous_vegetation</td>\n",
       "      <td>2001</td>\n",
       "      <td>72.606183</td>\n",
       "      <td>NaN</td>\n",
       "      <td>1</td>\n",
       "    </tr>\n",
       "    <tr>\n",
       "      <th>8</th>\n",
       "      <td>2016-12-22</td>\n",
       "      <td>8062.257748</td>\n",
       "      <td>559.016994</td>\n",
       "      <td>559.016994</td>\n",
       "      <td>38565.690711</td>\n",
       "      <td>0.0</td>\n",
       "      <td>0.000000</td>\n",
       "      <td>0.0</td>\n",
       "      <td>1.000000</td>\n",
       "      <td>0.0</td>\n",
       "      <td>...</td>\n",
       "      <td>47.730511</td>\n",
       "      <td>59.024006</td>\n",
       "      <td>0.106007</td>\n",
       "      <td>0.066282</td>\n",
       "      <td>1.000000</td>\n",
       "      <td>forest</td>\n",
       "      <td>2016</td>\n",
       "      <td>66.659283</td>\n",
       "      <td>NaN</td>\n",
       "      <td>1</td>\n",
       "    </tr>\n",
       "    <tr>\n",
       "      <th>16</th>\n",
       "      <td>2008-10-20</td>\n",
       "      <td>12903.487901</td>\n",
       "      <td>790.569415</td>\n",
       "      <td>0.000000</td>\n",
       "      <td>8355.387484</td>\n",
       "      <td>0.0</td>\n",
       "      <td>0.000000</td>\n",
       "      <td>0.0</td>\n",
       "      <td>1.000000</td>\n",
       "      <td>0.0</td>\n",
       "      <td>...</td>\n",
       "      <td>48.588428</td>\n",
       "      <td>86.352684</td>\n",
       "      <td>0.377224</td>\n",
       "      <td>0.063070</td>\n",
       "      <td>1.000000</td>\n",
       "      <td>forest</td>\n",
       "      <td>2008</td>\n",
       "      <td>59.741376</td>\n",
       "      <td>NaN</td>\n",
       "      <td>1</td>\n",
       "    </tr>\n",
       "    <tr>\n",
       "      <th>...</th>\n",
       "      <td>...</td>\n",
       "      <td>...</td>\n",
       "      <td>...</td>\n",
       "      <td>...</td>\n",
       "      <td>...</td>\n",
       "      <td>...</td>\n",
       "      <td>...</td>\n",
       "      <td>...</td>\n",
       "      <td>...</td>\n",
       "      <td>...</td>\n",
       "      <td>...</td>\n",
       "      <td>...</td>\n",
       "      <td>...</td>\n",
       "      <td>...</td>\n",
       "      <td>...</td>\n",
       "      <td>...</td>\n",
       "      <td>...</td>\n",
       "      <td>...</td>\n",
       "      <td>...</td>\n",
       "      <td>...</td>\n",
       "      <td>...</td>\n",
       "    </tr>\n",
       "    <tr>\n",
       "      <th>22023</th>\n",
       "      <td>2015-10-04</td>\n",
       "      <td>21914.607001</td>\n",
       "      <td>2150.581317</td>\n",
       "      <td>1000.000000</td>\n",
       "      <td>14866.068747</td>\n",
       "      <td>0.0</td>\n",
       "      <td>0.000000</td>\n",
       "      <td>0.0</td>\n",
       "      <td>1.000000</td>\n",
       "      <td>0.0</td>\n",
       "      <td>...</td>\n",
       "      <td>237.720520</td>\n",
       "      <td>73.218163</td>\n",
       "      <td>0.277760</td>\n",
       "      <td>0.059752</td>\n",
       "      <td>1.000000</td>\n",
       "      <td>forest</td>\n",
       "      <td>2015</td>\n",
       "      <td>64.646955</td>\n",
       "      <td>NaN</td>\n",
       "      <td>0</td>\n",
       "    </tr>\n",
       "    <tr>\n",
       "      <th>22026</th>\n",
       "      <td>2010-01-31</td>\n",
       "      <td>25042.463936</td>\n",
       "      <td>2358.495283</td>\n",
       "      <td>500.000000</td>\n",
       "      <td>11401.754251</td>\n",
       "      <td>0.0</td>\n",
       "      <td>0.083333</td>\n",
       "      <td>0.0</td>\n",
       "      <td>0.916667</td>\n",
       "      <td>0.0</td>\n",
       "      <td>...</td>\n",
       "      <td>251.586121</td>\n",
       "      <td>84.076683</td>\n",
       "      <td>0.333571</td>\n",
       "      <td>0.308163</td>\n",
       "      <td>1.000000</td>\n",
       "      <td>forest</td>\n",
       "      <td>2010</td>\n",
       "      <td>60.585327</td>\n",
       "      <td>NaN</td>\n",
       "      <td>0</td>\n",
       "    </tr>\n",
       "    <tr>\n",
       "      <th>22027</th>\n",
       "      <td>2021-02-08</td>\n",
       "      <td>1457.737974</td>\n",
       "      <td>1250.000000</td>\n",
       "      <td>0.000000</td>\n",
       "      <td>1250.000000</td>\n",
       "      <td>0.0</td>\n",
       "      <td>0.000000</td>\n",
       "      <td>0.0</td>\n",
       "      <td>0.000000</td>\n",
       "      <td>0.0</td>\n",
       "      <td>...</td>\n",
       "      <td>320.232788</td>\n",
       "      <td>87.854256</td>\n",
       "      <td>0.302256</td>\n",
       "      <td>0.046531</td>\n",
       "      <td>0.000000</td>\n",
       "      <td>urban</td>\n",
       "      <td>2021</td>\n",
       "      <td>53.630212</td>\n",
       "      <td>NaN</td>\n",
       "      <td>0</td>\n",
       "    </tr>\n",
       "    <tr>\n",
       "      <th>22030</th>\n",
       "      <td>2013-05-17</td>\n",
       "      <td>12260.199835</td>\n",
       "      <td>1820.027472</td>\n",
       "      <td>500.000000</td>\n",
       "      <td>39374.007924</td>\n",
       "      <td>0.0</td>\n",
       "      <td>0.000000</td>\n",
       "      <td>0.0</td>\n",
       "      <td>0.000000</td>\n",
       "      <td>0.0</td>\n",
       "      <td>...</td>\n",
       "      <td>87.192940</td>\n",
       "      <td>88.675873</td>\n",
       "      <td>0.307939</td>\n",
       "      <td>0.000000</td>\n",
       "      <td>0.000000</td>\n",
       "      <td>water</td>\n",
       "      <td>2013</td>\n",
       "      <td>59.667562</td>\n",
       "      <td>NaN</td>\n",
       "      <td>0</td>\n",
       "    </tr>\n",
       "    <tr>\n",
       "      <th>22034</th>\n",
       "      <td>2016-01-21</td>\n",
       "      <td>41926.274578</td>\n",
       "      <td>707.106781</td>\n",
       "      <td>3092.329219</td>\n",
       "      <td>39957.790229</td>\n",
       "      <td>0.0</td>\n",
       "      <td>0.000000</td>\n",
       "      <td>0.0</td>\n",
       "      <td>0.000000</td>\n",
       "      <td>0.0</td>\n",
       "      <td>...</td>\n",
       "      <td>19.732412</td>\n",
       "      <td>75.858948</td>\n",
       "      <td>0.332093</td>\n",
       "      <td>5.220248</td>\n",
       "      <td>0.000000</td>\n",
       "      <td>$herb$aceous_vegetation</td>\n",
       "      <td>2016</td>\n",
       "      <td>54.935205</td>\n",
       "      <td>NaN</td>\n",
       "      <td>0</td>\n",
       "    </tr>\n",
       "  </tbody>\n",
       "</table>\n",
       "<p>6831 rows × 42 columns</p>\n",
       "</div>"
      ],
      "text/plain": [
       "            Date  distance_fire_stations  distance_rivers  distance_roads  \\\n",
       "4     2003-03-19             9905.806378         0.000000     1903.943276   \n",
       "5     2002-10-27             9219.544457      1802.775638      790.569415   \n",
       "6     2001-08-01             1500.000000      1581.138830      750.000000   \n",
       "8     2016-12-22             8062.257748       559.016994      559.016994   \n",
       "16    2008-10-20            12903.487901       790.569415        0.000000   \n",
       "...          ...                     ...              ...             ...   \n",
       "22023 2015-10-04            21914.607001      2150.581317     1000.000000   \n",
       "22026 2010-01-31            25042.463936      2358.495283      500.000000   \n",
       "22027 2021-02-08             1457.737974      1250.000000        0.000000   \n",
       "22030 2013-05-17            12260.199835      1820.027472      500.000000   \n",
       "22034 2016-01-21            41926.274578       707.106781     3092.329219   \n",
       "\n",
       "       distance_powerlines  cropland  forest_deciduous_broad  \\\n",
       "4              6427.480066       0.0                0.000000   \n",
       "5             78556.508324       0.0                0.000000   \n",
       "6              1750.000000       0.0                0.000000   \n",
       "8             38565.690711       0.0                0.000000   \n",
       "16             8355.387484       0.0                0.000000   \n",
       "...                    ...       ...                     ...   \n",
       "22023         14866.068747       0.0                0.000000   \n",
       "22026         11401.754251       0.0                0.083333   \n",
       "22027          1250.000000       0.0                0.000000   \n",
       "22030         39374.007924       0.0                0.000000   \n",
       "22034         39957.790229       0.0                0.000000   \n",
       "\n",
       "       forest_deciduous_needle  forest_evergreen_broad  \\\n",
       "4                          0.0                0.750000   \n",
       "5                          0.0                1.000000   \n",
       "6                          0.0                0.000000   \n",
       "8                          0.0                1.000000   \n",
       "16                         0.0                1.000000   \n",
       "...                        ...                     ...   \n",
       "22023                      0.0                1.000000   \n",
       "22026                      0.0                0.916667   \n",
       "22027                      0.0                0.000000   \n",
       "22030                      0.0                0.000000   \n",
       "22034                      0.0                0.000000   \n",
       "\n",
       "       forest_evergreen_needle  ...  avg_wind_angle  avg_rel_hum  avg_soil  \\\n",
       "4                          0.0  ...      316.951508    56.103680  0.208831   \n",
       "5                          0.0  ...      200.360794    65.752640  0.149636   \n",
       "6                          0.0  ...      225.296082    53.998550  0.154567   \n",
       "8                          0.0  ...       47.730511    59.024006  0.106007   \n",
       "16                         0.0  ...       48.588428    86.352684  0.377224   \n",
       "...                        ...  ...             ...          ...       ...   \n",
       "22023                      0.0  ...      237.720520    73.218163  0.277760   \n",
       "22026                      0.0  ...      251.586121    84.076683  0.333571   \n",
       "22027                      0.0  ...      320.232788    87.854256  0.302256   \n",
       "22030                      0.0  ...       87.192940    88.675873  0.307939   \n",
       "22034                      0.0  ...       19.732412    75.858948  0.332093   \n",
       "\n",
       "       sum_prec    forest         vegetation_class  Year  max_max_temp  \\\n",
       "4      0.119717  0.916667                   forest  2003     69.570496   \n",
       "5      1.249126  1.000000                   forest  2002     71.757874   \n",
       "6      0.034456  0.000000    herbaceous_vegetation  2001     72.606183   \n",
       "8      0.066282  1.000000                   forest  2016     66.659283   \n",
       "16     0.063070  1.000000                   forest  2008     59.741376   \n",
       "...         ...       ...                      ...   ...           ...   \n",
       "22023  0.059752  1.000000                   forest  2015     64.646955   \n",
       "22026  0.308163  1.000000                   forest  2010     60.585327   \n",
       "22027  0.046531  0.000000                    urban  2021     53.630212   \n",
       "22030  0.000000  0.000000                    water  2013     59.667562   \n",
       "22034  5.220248  0.000000  $herb$aceous_vegetation  2016     54.935205   \n",
       "\n",
       "       yearly_avg_temp  ignition  \n",
       "4                  NaN         1  \n",
       "5                  NaN         1  \n",
       "6                  NaN         1  \n",
       "8                  NaN         1  \n",
       "16                 NaN         1  \n",
       "...                ...       ...  \n",
       "22023              NaN         0  \n",
       "22026              NaN         0  \n",
       "22027              NaN         0  \n",
       "22030              NaN         0  \n",
       "22034              NaN         0  \n",
       "\n",
       "[6831 rows x 42 columns]"
      ]
     },
     "execution_count": 21,
     "metadata": {},
     "output_type": "execute_result"
    }
   ],
   "source": [
    "df[df['yearly_avg_temp'].isna()]"
   ]
  },
  {
   "cell_type": "code",
   "execution_count": 22,
   "id": "12e714d9",
   "metadata": {},
   "outputs": [
    {
     "data": {
      "text/plain": [
       "count    15204.000000\n",
       "mean        14.999755\n",
       "std          0.100675\n",
       "min         14.597322\n",
       "25%         14.931427\n",
       "50%         14.999861\n",
       "75%         15.068628\n",
       "max         15.369208\n",
       "Name: yearly_avg_temp, dtype: float64"
      ]
     },
     "execution_count": 22,
     "metadata": {},
     "output_type": "execute_result"
    }
   ],
   "source": [
    "df['yearly_avg_temp'].describe()"
   ]
  },
  {
   "cell_type": "markdown",
   "id": "40c82144",
   "metadata": {},
   "source": [
    "Les valeurs ont l'air assez proche de la variable, nous pouvons remplacer les valeurs manquants par la moyenne."
   ]
  },
  {
   "cell_type": "code",
   "execution_count": 23,
   "id": "6122d53e",
   "metadata": {},
   "outputs": [
    {
     "name": "stderr",
     "output_type": "stream",
     "text": [
      "C:\\Users\\Rajeeth\\AppData\\Local\\Temp\\ipykernel_13448\\1167876193.py:1: FutureWarning: A value is trying to be set on a copy of a DataFrame or Series through chained assignment using an inplace method.\n",
      "The behavior will change in pandas 3.0. This inplace method will never work because the intermediate object on which we are setting values always behaves as a copy.\n",
      "\n",
      "For example, when doing 'df[col].method(value, inplace=True)', try using 'df.method({col: value}, inplace=True)' or df[col] = df[col].method(value) instead, to perform the operation inplace on the original object.\n",
      "\n",
      "\n",
      "  df['yearly_avg_temp'].fillna(df['yearly_avg_temp'].mean(), inplace=True)\n"
     ]
    }
   ],
   "source": [
    "df['yearly_avg_temp'].fillna(df['yearly_avg_temp'].mean(), inplace=True)"
   ]
  },
  {
   "cell_type": "markdown",
   "id": "35325449",
   "metadata": {},
   "source": [
    "Nous pouvons supprimer les variables manquantes restantes, car elles représentent 0,02 % de l'ensemble des données dont nous disposons."
   ]
  },
  {
   "cell_type": "code",
   "execution_count": 24,
   "id": "8f50c773",
   "metadata": {},
   "outputs": [],
   "source": [
    "df = df.dropna(how='any')"
   ]
  },
  {
   "cell_type": "markdown",
   "id": "ae10694e",
   "metadata": {},
   "source": [
    "Vérification : "
   ]
  },
  {
   "cell_type": "code",
   "execution_count": 25,
   "id": "c9d7354f",
   "metadata": {},
   "outputs": [
    {
     "data": {
      "text/plain": [
       "Date                       0\n",
       "distance_fire_stations     0\n",
       "distance_rivers            0\n",
       "distance_roads             0\n",
       "distance_powerlines        0\n",
       "cropland                   0\n",
       "forest_deciduous_broad     0\n",
       "forest_deciduous_needle    0\n",
       "forest_evergreen_broad     0\n",
       "forest_evergreen_needle    0\n",
       "forest_mixed               0\n",
       "forest_unknown             0\n",
       "herbaceous_vegetation      0\n",
       "moss_lichen                0\n",
       "shrubland                  0\n",
       "sprarse_vegetation         0\n",
       "urban                      0\n",
       "water                      0\n",
       "wetland                    0\n",
       "aspect                     0\n",
       "elevation                  0\n",
       "pop_dens                   0\n",
       "slope                      0\n",
       "anom_max_temp              0\n",
       "anom_max_wind_vel          0\n",
       "anom_avg_temp              0\n",
       "anom_avg_rel_hum           0\n",
       "anom_avg_soil              0\n",
       "anom_sum_prec              0\n",
       "max_temp                   0\n",
       "max_wind_vel               0\n",
       "avg_temp                   0\n",
       "avg_wind_angle             0\n",
       "avg_rel_hum                0\n",
       "avg_soil                   0\n",
       "sum_prec                   0\n",
       "forest                     0\n",
       "vegetation_class           0\n",
       "Year                       0\n",
       "max_max_temp               0\n",
       "yearly_avg_temp            0\n",
       "ignition                   0\n",
       "dtype: int64"
      ]
     },
     "execution_count": 25,
     "metadata": {},
     "output_type": "execute_result"
    }
   ],
   "source": [
    "df.isna().sum()"
   ]
  },
  {
   "cell_type": "markdown",
   "id": "2c15b24c",
   "metadata": {},
   "source": [
    "Nous transformons la variable catégorielle `vegetation_class` en variables numériques en utilisant une méthode de label encoding. Cette conversion permet de faciliter l'apprentissage de notre modèle de classifications et permet aux modèles de traiter les différentes classes de végétation."
   ]
  },
  {
   "cell_type": "code",
   "execution_count": 26,
   "id": "511ef1be",
   "metadata": {},
   "outputs": [
    {
     "name": "stderr",
     "output_type": "stream",
     "text": [
      "C:\\Users\\Rajeeth\\AppData\\Local\\Temp\\ipykernel_13448\\3593711160.py:1: FutureWarning: Downcasting behavior in `replace` is deprecated and will be removed in a future version. To retain the old behavior, explicitly call `result.infer_objects(copy=False)`. To opt-in to the future behavior, set `pd.set_option('future.no_silent_downcasting', True)`\n",
      "  df['vegetation_class'] = df['vegetation_class'].replace({\n"
     ]
    }
   ],
   "source": [
    "df['vegetation_class'] = df['vegetation_class'].replace({\n",
    "    'forest': 1,\n",
    "    'wetland': 2,\n",
    "    'herbaceous_vegetation': 3,\n",
    "    'Forestt': 1,\n",
    "    'shrubland': 4,\n",
    "    'water': 5,\n",
    "    'urban': 6,\n",
    "    '$herb$aceous_vegetation': 3\n",
    "}).astype(int)"
   ]
  },
  {
   "cell_type": "code",
   "execution_count": 27,
   "id": "3f3b2c93",
   "metadata": {},
   "outputs": [],
   "source": [
    "df=df.round(2)"
   ]
  },
  {
   "cell_type": "markdown",
   "id": "05dbad89",
   "metadata": {},
   "source": [
    "#### EDA"
   ]
  },
  {
   "cell_type": "code",
   "execution_count": 28,
   "id": "bed7fb71",
   "metadata": {},
   "outputs": [
    {
     "data": {
      "text/plain": [
       "<Axes: xlabel='ignition', ylabel='count'>"
      ]
     },
     "execution_count": 28,
     "metadata": {},
     "output_type": "execute_result"
    },
    {
     "data": {
      "image/png": "[encoded data removed]",
      "text/plain": [
       "<Figure size 640x480 with 1 Axes>"
      ]
     },
     "metadata": {},
     "output_type": "display_data"
    }
   ],
   "source": [
    "sns.countplot(x='ignition',data=df)"
   ]
  },
  {
   "cell_type": "markdown",
   "id": "9fe1cd85",
   "metadata": {},
   "source": [
    "Pour ce problème, on remarque que nous avons une classe déséquilibrée comme le montre la figure précédent. Nous y ferons attentions notamment en utilisant une K-fold stratifiée, qui garantit que chaque fold contient une proportion représentative de chaque classe. La validation croisée sera utilisée car c'est un excellent moyen de faire en sorte que notre modèle soit capable de bien généraliser sur des données qu'il n'a jamais vu."
   ]
  },
  {
   "cell_type": "code",
   "execution_count": 29,
   "id": "9f3049cc",
   "metadata": {},
   "outputs": [],
   "source": [
    "df.to_csv(\"data/classification_dataframe/dataset_nettoyer.csv\")"
   ]
  },
  {
   "cell_type": "markdown",
   "id": "fa5fcccf",
   "metadata": {},
   "source": [
    "### Problème de classification"
   ]
  },
  {
   "cell_type": "markdown",
   "id": "b618d4b8",
   "metadata": {},
   "source": [
    "**Démarche**\n",
    "\n",
    "Après l'étude exploratoire de nos données, nous avons pris le temps d'analyser et de mieux comprendre nos données. À présent, nous pouvons commencer à mettre en place nos premières étapes de modélisation.  \n",
    "\n",
    "- Pour assurer une meilleure généralisation des résultats, nous avons choisi d'utiliser la validation croisée avec StratifiedKFold. Il s'agit d'un outil qui est adapté à notre problématique de classification avec des classes déséquilibrées, comme nous l'avons observé. Contrairement à une validation croisée classique, la validation croisée stratifiée permet de garantir une répartition équilibrée des classes dans les différentes fold.\n",
    "\n",
    "- En complément, nous appliquerons également la méthode classique de GridSearch pour l'optimisation des hyperparamètres de nos modèles. Cela nous permettra de tester plusieurs configurations afin de trouver celle qui maximise les performances."
   ]
  },
  {
   "cell_type": "code",
   "execution_count": 30,
   "id": "6bee8dc9",
   "metadata": {},
   "outputs": [],
   "source": [
    "def seed(seed_value=123):\n",
    "    \"\"\"\n",
    "    Set seed for reproducibility across numpy, tensorflow, and random modules.\n",
    "    \"\"\"\n",
    "    np.random.seed(seed_value)\n",
    "    tf.random.set_seed(seed_value)\n",
    "    random.seed(seed_value)\n",
    "\n",
    "\n",
    "def temps(tps_ecoule, i=None, fin=False, best_acc=None, best_f1=None):\n",
    "    \"\"\"\n",
    "    Format elapsed time and optionally print the final time or model performance.\n",
    "    \"\"\"\n",
    "    hrs = int(tps_ecoule // 3600)\n",
    "    tps_ecoule -= hrs * 3600\n",
    "    min = int(tps_ecoule // 60)\n",
    "    tps_ecoule -= min * 60\n",
    "    sec = tps_ecoule\n",
    "    \n",
    "    # Formatage du temps\n",
    "    if hrs != 0:\n",
    "        tps = f\"{hrs}h{min}m{int(sec)}s\"\n",
    "    elif min != 0:\n",
    "        tps = f\"{min}m{int(sec)}s\"\n",
    "    else:\n",
    "        tps = f\"{round(sec, 3)}s\"\n",
    "    \n",
    "    # Affichage du temps et des performances du modèle\n",
    "    if fin:\n",
    "        print(\"Processus terminé : \" + tps)\n",
    "    else:\n",
    "        print(f\"Modèle n°{i + 1} : {tps} | Précision : {round(best_acc * 100, 2)}% | F1 : {round(best_f1, 3)}\")"
   ]
  },
  {
   "cell_type": "code",
   "execution_count": 31,
   "id": "fb2590b1",
   "metadata": {},
   "outputs": [],
   "source": [
    "CSV_à_ouvrir = \"data/classification_dataframe/dataset_nettoyer.csv\"\n",
    "\n",
    "Colonne_utilisées = [\n",
    "    'distance_fire_stations', 'distance_rivers', 'distance_roads',\n",
    "    'distance_powerlines', 'cropland', 'forest_deciduous_broad',\n",
    "    'forest_deciduous_needle', 'forest_evergreen_broad',\n",
    "    'forest_evergreen_needle', 'forest_mixed', 'forest_unknown',\n",
    "    'herbaceous_vegetation', 'moss_lichen', 'shrubland',\n",
    "    'sprarse_vegetation', 'urban', 'water', 'wetland', 'aspect',\n",
    "    'elevation', 'pop_dens', 'slope', 'anom_max_temp', 'anom_max_wind_vel',\n",
    "    'anom_avg_temp', 'anom_avg_rel_hum', 'anom_avg_soil', 'anom_sum_prec',\n",
    "    'max_temp', 'max_wind_vel', 'avg_temp', 'avg_wind_angle', 'avg_rel_hum',\n",
    "    'avg_soil', 'sum_prec', 'forest', 'vegetation_class', 'Year',\n",
    "    'max_max_temp', 'yearly_avg_temp'\n",
    "]\n",
    "\n",
    "Colonne_Cible = 'ignition'"
   ]
  },
  {
   "cell_type": "markdown",
   "id": "20cdbb60",
   "metadata": {},
   "source": [
    "Nous testons plusieurs modèles :\n",
    "\n",
    "- `RandomForest` : C’est un modèle basé sur des arbres de décision. Il est très utile pour capturer des relations complexes entre les variables.  \n",
    "- `XGBoost` : C’est une version avancée des arbres de décision avec un système de boosting, c’est-à-dire qu’il améliore les prédictions en construisant des modèles successifs qui corrigent les erreurs des précédents.  \n",
    "- `Réseaux de neurones` : Ces modèles utilisent une où plusieurs couches de neurones entre elles pour capturer les relations non linéaires.  "
   ]
  },
  {
   "cell_type": "code",
   "execution_count": 32,
   "id": "6c9a0775",
   "metadata": {},
   "outputs": [],
   "source": [
    "def import_model(model_name, hyperparams):\n",
    "    \"\"\"\n",
    "    Defines a model based on the provided name and hyperparameters.\n",
    "    \"\"\"\n",
    "    seed()\n",
    "\n",
    "    if model_name == \"rforest\":\n",
    "        # Modèle RandomForest\n",
    "        mod = RandomForestClassifier(\n",
    "            n_estimators=int(hyperparams[\"trees\"]), \n",
    "            max_depth=int(hyperparams[\"max_deep\"]),\n",
    "            random_state=123\n",
    "        )\n",
    "    elif model_name == \"xgboost\":\n",
    "        # Modèle Gradient Boosting\n",
    "        mod = GradientBoostingClassifier(\n",
    "            n_estimators=int(hyperparams[\"trees\"]),\n",
    "            learning_rate=hyperparams[\"learning_rate\"],\n",
    "            random_state=123\n",
    "        )\n",
    "    elif model_name == \"ml_dense1\":\n",
    "        # Modèle Réseaux de Neurones à une couche\n",
    "        mod = Sequential()\n",
    "        mod.add(InputLayer((len(Colonne_utilisées),))) \n",
    "        mod.add(Dense(int(hyperparams[\"couche1\"]), activation='relu'))\n",
    "        mod.add(Dense(1, activation='sigmoid')) \n",
    "        mod.compile(optimizer='adam', loss='binary_crossentropy', metrics=['accuracy'])\n",
    "    elif model_name == \"ml_dense2\":\n",
    "        # Modèle Réseaux de Neurones à deux couches\n",
    "        mod = Sequential()\n",
    "        mod.add(InputLayer((len(Colonne_utilisées),)))\n",
    "        mod.add(Dense(int(hyperparams[\"couche1\"]), activation='relu'))\n",
    "        mod.add(Dense(int(hyperparams[\"couche2\"]), activation='relu'))\n",
    "        mod.add(Dense(1, activation='sigmoid')) \n",
    "        mod.compile(optimizer='adam', loss='binary_crossentropy', metrics=['accuracy'])\n",
    "\n",
    "    return mod\n"
   ]
  },
  {
   "cell_type": "markdown",
   "id": "43adfe95",
   "metadata": {},
   "source": [
    "Pour chaque modèle, nous avons défini une gridsearch. Ces hyperparamètres sont uniquements les paramètres de bases les plus importantes."
   ]
  },
  {
   "cell_type": "code",
   "execution_count": 33,
   "id": "f6697c2c",
   "metadata": {},
   "outputs": [],
   "source": [
    "## Plages des hyperparamètres par défaut\n",
    "Plages = {\n",
    "    \"rforest\": {\"trees\": (5, 200), \"max_deep\": (1, 20)},\n",
    "    \"xgboost\": {\"trees\": (5, 200), \"learning_rate\": (0.0001, 1)},\n",
    "    \"ml_dense1\": {\"couche1\": (5, 200)},\n",
    "    \"ml_dense2\": {\"couche1\": (5, 200), \"couche2\": (5, 200)}\n",
    "}\n",
    "\n",
    "## Noms pour les graphiques\n",
    "Labels = {\n",
    "    \"rforest\": [\"Random Forest\", \"trees\", \"max_deep\"], \n",
    "    \"xgboost\": [\"XGBoost\", \"trees\", \"learning_rate\"],\n",
    "    \"ml_dense1\": [\"mldense1\", \"couche 1\"],            \n",
    "    \"ml_dense2\": [\"mldense2\", \"couche 1\", \"couche 2\"], \n",
    "} \n"
   ]
  },
  {
   "cell_type": "markdown",
   "id": "4c365c91",
   "metadata": {},
   "source": [
    "Nous évaluons chaque modèle avec deux métriques :\n",
    "\n",
    "- `La précision` : Il s'agit du pourcentage de prédictions correctes.\n",
    "- `Le score F1` : Il s'agit d'une mesure plus adaptée dans les cas de déséquilibre de classes, car elle combine la précision et le rappel (la capacité à identifier correctement les ignitions et les non-ignitions).\n",
    "\n",
    "\n",
    "Dans la suite, nous visualiserons également la matrice de confusion qui est un outil visuel qui permet de mieux comprendre les performances d'un modèle de classification. Elle montre comment le modèle se trompe en montrant les prédictions correctes (vrais positifs et vrais négatifs) ainsi que les erreurs (faux positifs et faux négatifs)."
   ]
  },
  {
   "cell_type": "code",
   "execution_count": 34,
   "id": "e7de9144",
   "metadata": {},
   "outputs": [],
   "source": [
    "# Meilleur modèle dans notre liste\n",
    "def find_best_index(vals, objective):\n",
    "    \"\"\"\n",
    "    Finds the index of the best result in the list of values.\n",
    "    \"\"\"\n",
    "    if objective == \"max\":\n",
    "        return np.argmax(vals)\n",
    "    elif objective == \"min\":\n",
    "        return np.argmin(vals)\n",
    "    else:\n",
    "        raise ValueError(\"L'objectif doit être 'max' ou 'min'\")\n",
    "\n",
    "# Graphique\n",
    "def plot_result(vals, ylabel, objective,xticks, labels, model_name, results_dir):\n",
    "    \"\"\"\n",
    "    Plots the metrics based on hyperparameters. \n",
    "    Handles cases with one or multiple hyperparameters.\n",
    "    \"\"\"\n",
    "    if not isinstance(xticks[0], list):\n",
    "        # Un seul hyperparamètre\n",
    "        fig = go.Figure(data=[go.Scatter(\n",
    "            x=xticks,\n",
    "            y=vals,\n",
    "            mode='markers',\n",
    "            marker=dict(\n",
    "                size=5,\n",
    "                color=vals,\n",
    "                colorbar=dict(title='Valeurs'),\n",
    "                colorscale=\"bluered\"\n",
    "            ),\n",
    "            name=\"Résultats modèles\"\n",
    "        )])\n",
    "        idx = find_best_index(vals, objective)\n",
    "        fig.add_trace(go.Scatter(\n",
    "            x=[xticks[idx]],\n",
    "            y=[vals[idx]],\n",
    "            mode='markers',\n",
    "            marker=dict(color='green', size=10),\n",
    "            name='Meilleure combinaison'\n",
    "        ))\n",
    "        fig.update_layout(\n",
    "            title=labels[model_name][0],\n",
    "            xaxis_title=labels[model_name][1],\n",
    "            yaxis_title=ylabel,\n",
    "            legend=dict(x=0, y=1, traceorder='normal', orientation='h', bgcolor='rgba(0,0,0,0)')\n",
    "        )\n",
    "    else:\n",
    "        # Plusieurs hyperparamètres\n",
    "        fig = go.Figure(data=[go.Scatter3d(\n",
    "            x=[coord[0] for coord in xticks],\n",
    "            y=[coord[1] for coord in xticks],  \n",
    "            z=vals,\n",
    "            mode='markers',\n",
    "            marker=dict(\n",
    "                size=5,\n",
    "                color=vals,\n",
    "                colorbar=dict(title='Valeurs'),\n",
    "                colorscale=\"bluered\"\n",
    "            ),\n",
    "            name=\"Résultats modèles\"\n",
    "        )])\n",
    "        idx = find_best_index(vals, objective)\n",
    "        fig.add_trace(go.Scatter3d(\n",
    "            x=[xticks[idx][0]],\n",
    "            y=[xticks[idx][1]],\n",
    "            z=[vals[idx]],\n",
    "            mode='markers',\n",
    "            marker=dict(color='green', size=10),\n",
    "            name='Meilleure combinaison'\n",
    "        ))\n",
    "        fig.update_layout(\n",
    "            title=labels[model_name][0],\n",
    "            scene=dict(\n",
    "                xaxis_title=labels[model_name][1],\n",
    "                yaxis_title=labels[model_name][2],\n",
    "                zaxis_title=ylabel,\n",
    "            ),\n",
    "            legend=dict(x=0, y=1, traceorder='normal', orientation='h', bgcolor='rgba(0,0,0,0)')\n",
    "        )\n",
    "    # Sauvegarde du graphique au format HTML\n",
    "    fig.write_html(f\"{results_dir}/graph_{ylabel}_{model_name}.html\")\n"
   ]
  },
  {
   "cell_type": "code",
   "execution_count": 35,
   "id": "005dc38d",
   "metadata": {},
   "outputs": [],
   "source": [
    "def optimise_model(\n",
    "    model_name: str,\n",
    "    cv: int = 5,\n",
    "    shuffle: bool = False,\n",
    "    fichier: str = CSV_à_ouvrir,\n",
    "    X_col: list = Colonne_utilisées,\n",
    "    y_col: str = Colonne_Cible,\n",
    "    Plages: dict = Plages,\n",
    "    labels: dict = Labels,\n",
    "    **args\n",
    "):\n",
    "    \"\"\"\n",
    "    This function optimizes a model by searching for hyperparameters via cross-validation. \n",
    "        It also generates performance graphs and calculates feature importances.\n",
    "    \"\"\"\n",
    "    \n",
    "    # Initialisation pour stocker les variables\n",
    "    accuracies = []\n",
    "    f1_scores = []\n",
    "    times_elapsed = []\n",
    "    best_acc = [None]\n",
    "    best_f1 = [None]\n",
    "    best_y_cv = [None]\n",
    "    xticks = []\n",
    "    iteration = [0]\n",
    "\n",
    "    scaler = StandardScaler()\n",
    "\n",
    "    data = pd.read_csv(fichier)\n",
    "    X = data[X_col]\n",
    "    X = scaler.fit_transform(X)\n",
    "    y = data[y_col].values.ravel()\n",
    "\n",
    "    # Définition de la validation croisée\n",
    "    kf = StratifiedKFold(n_splits=cv, shuffle=shuffle, random_state=1 if shuffle else None)\n",
    "\n",
    "    param_range = Plages[model_name]\n",
    "\n",
    "    # Optimisation et évaluation des modèles\n",
    "    def model_cv(hyperparams):\n",
    "        start_time = time.time()\n",
    "\n",
    "        mod = import_model(model_name, hyperparams)\n",
    "        y_cv_target = y\n",
    "        y_cv_predictions = np.zeros(len(X))\n",
    "\n",
    "        for train_index, test_index in tqdm(kf.split(X, y_cv_target), total=kf.get_n_splits(), leave=False):\n",
    "            X_train, X_test = X[train_index, :], X[test_index, :]\n",
    "            y_train = y_cv_target[train_index]\n",
    "\n",
    "            if not model_name.startswith(\"ml_dense\"):\n",
    "                mod.fit(X_train, y_train)\n",
    "                y_pred = mod.predict(X_test)\n",
    "            else:\n",
    "                mod.fit(X_train, y_train, verbose=0)\n",
    "                y_pred = mod.predict(X_test, verbose=0)\n",
    "                y_pred = (y_pred >= 0.5).astype(int).ravel()\n",
    "\n",
    "            y_cv_predictions[test_index] = y_pred\n",
    "\n",
    "        # Résultats\n",
    "        acc = accuracy_score(y_cv_target, y_cv_predictions)\n",
    "        f1 = f1_score(y_cv_target, y_cv_predictions, average='weighted')\n",
    "        accuracies.append(acc)\n",
    "        f1_scores.append(f1)\n",
    "        times_elapsed.append(round(time.time() - start_time, 4))\n",
    "\n",
    "        # Update des meilleures performances obtenues\n",
    "        if best_f1[0] is None or f1 > best_f1[0]:\n",
    "            best_f1[0], best_y_cv[0] = f1, y_cv_predictions\n",
    "            best_mod[0] = mod\n",
    "            best_hyperparams[0] = hyperparams.copy()\n",
    "\n",
    "        if best_acc[0] is None or acc > best_acc[0]:\n",
    "            best_acc[0] = acc\n",
    "\n",
    "        temps(round(time.time() - start_time, 4), i=iteration[0], best_acc=best_acc[0], best_f1=best_f1[0])\n",
    "        iteration[0] += 1\n",
    "        xticks.append(list(hyperparams.values()))\n",
    "\n",
    "    # Initialisation des variables pour stocker le meilleur modèle et les meilleurs hyperparamètres\n",
    "    best_mod = [None]\n",
    "    best_hyperparams = [{}]\n",
    "\n",
    "    total_start_time = time.time()\n",
    "    print(\"#######################################\\n\")\n",
    "\n",
    "    # Grille pour hyperparamètres\n",
    "    ticks = []\n",
    "    grid_values = []\n",
    "    for param_name, value_range in param_range.items():\n",
    "        grid_values.append(np.linspace(value_range[0], value_range[1], args[\"nbr_grid\"][param_name], True))\n",
    "    grid_combinations = list(product(*grid_values))\n",
    "    for combination in grid_combinations:\n",
    "        ticks.append({list(param_range.keys())[i]: combination[i] for i in range(len(param_range))})\n",
    "\n",
    "    # Entraînement et évaluation du modèle\n",
    "    for hyperparams in ticks:\n",
    "        model_cv(hyperparams)\n",
    "\n",
    "    # Affichage du temps total\n",
    "    print(\"\\n#######################################\\n\")\n",
    "    temps(time.time() - total_start_time, fin=True)\n",
    "    print(\"\\n#######################################\\n\")\n",
    "\n",
    "    # Sauvegarde des résultats dans un fichier Excel\n",
    "    if not isinstance(xticks[0], list):\n",
    "        df = pd.DataFrame(data={\"Paramètre\": xticks, \"Accuracy\": accuracies, \"F1\": f1_scores, \"Temps\": times_elapsed})\n",
    "    else:\n",
    "        data_dict = {}\n",
    "        for i in range(len(xticks[0])):\n",
    "            data_dict.update({\"Paramètre \" + str(i + 1): [xticks[j][i] for j in range(len(xticks))]})\n",
    "        data_dict.update({\"Accuracy\": accuracies, \"F1\": f1_scores, \"Temps\": times_elapsed})\n",
    "        df = pd.DataFrame(data=data_dict)\n",
    "\n",
    "    results_dir = f'Resultat'\n",
    "    if not os.path.exists(results_dir):\n",
    "        os.makedirs(results_dir)\n",
    "    df.to_excel(f\"{results_dir}/Result_{model_name}.xlsx\", index=False)\n",
    "\n",
    "    print(f\"Le paramètre optimal est : {best_hyperparams[0]}\\nAccuracy : {best_acc[0]:.1%} | F1 : {best_f1[0]:.3f}\")\n",
    "    print(\"\\n#######################################\\n\")\n",
    "\n",
    "    # Entrainement finale du meilleur modèle\n",
    "    best_model = import_model(model_name, best_hyperparams[0])\n",
    "    best_model.fit(X, y)\n",
    "\n",
    "    # Changer les probabilités en (0,1)\n",
    "    y_pred_best = best_model.predict(X)\n",
    "    y_pred_best = (y_pred_best >= 0.5).astype(int).ravel()\n",
    "\n",
    "    ## Visualiation graphique\n",
    "    cm = confusion_matrix(y, y_pred_best)\n",
    "    plt.figure(figsize=(10, 8))\n",
    "    sns.heatmap(cm, annot=True, fmt='d', cmap='Blues', xticklabels=['Non-ignition', 'Ignition'],\n",
    "                yticklabels=['Non-ignition', 'Ignition'])\n",
    "    plt.title(f\"Matrice de confusion - Meilleur modèle {model_name}\")\n",
    "    plt.xlabel(\"Prédiction\")\n",
    "    plt.ylabel(\"Vrai\")\n",
    "    plt.tight_layout()\n",
    "    plt.show()\n",
    "    \n",
    "    if model_name.startswith(\"ml_dense\"):\n",
    "\n",
    "        X_tensor = tf.convert_to_tensor(X, dtype=tf.float32)\n",
    "\n",
    "        @tf.function\n",
    "        def get_gradients(model, inputs):\n",
    "            with tf.GradientTape() as tape:\n",
    "                tape.watch(inputs)\n",
    "                predictions = model(inputs, training=False)\n",
    "            gradients = tape.gradient(predictions, inputs)\n",
    "            return gradients\n",
    "\n",
    "        gradients = get_gradients(best_model, X_tensor)\n",
    "        avg_gradients = tf.reduce_mean(gradients, axis=0).numpy()\n",
    "        gradient_df = pd.DataFrame({\n",
    "            'Feature': X_col,\n",
    "            'Average Gradient': avg_gradients\n",
    "        })\n",
    "        gradient_df = gradient_df.sort_values(by='Average Gradient', ascending=False)\n",
    "        plt.figure(figsize=(10, 8))\n",
    "        plt.barh(gradient_df['Feature'], gradient_df['Average Gradient'])\n",
    "        plt.gca().invert_yaxis()\n",
    "        plt.title(f'Gradients moyens pour {labels[model_name][0]}')\n",
    "        plt.xlabel('Gradient moyen')\n",
    "        plt.ylabel('Caractéristique')\n",
    "        plt.tight_layout()\n",
    "        plt.savefig(f\"{results_dir}/Gradients_{model_name}.png\")\n",
    "        plt.close()\n",
    "\n",
    "    else:\n",
    "        plot_result(f1_scores, 'F1 Score', 'max', xticks, labels, model_name, results_dir)\n",
    "        plot_result(accuracies, 'Accuracy', 'max', xticks, labels, model_name, results_dir)\n",
    "\n",
    "        feature_importances = best_model.feature_importances_\n",
    "        importance_df = pd.DataFrame({\n",
    "            'Feature': X_col,\n",
    "            'Importance': feature_importances\n",
    "        })\n",
    "        importance_df = importance_df.sort_values(by='Importance', ascending=False)\n",
    "        plt.figure(figsize=(10, 8))\n",
    "        plt.barh(importance_df['Feature'], importance_df['Importance'])\n",
    "        plt.gca().invert_yaxis()\n",
    "        plt.title(f'Importances des caractéristiques pour {labels[model_name][0]}')\n",
    "        plt.xlabel('Importance')\n",
    "        plt.ylabel('Caractéristique')\n",
    "        plt.tight_layout()\n",
    "        plt.savefig(f\"{results_dir}/Importances_{model_name}.png\")\n",
    "        plt.close()\n",
    " \n"
   ]
  },
  {
   "cell_type": "code",
   "execution_count": 36,
   "id": "34ab1f00",
   "metadata": {},
   "outputs": [
    {
     "name": "stdout",
     "output_type": "stream",
     "text": [
      "#######################################\n",
      "\n"
     ]
    },
    {
     "name": "stderr",
     "output_type": "stream",
     "text": [
      "                                             \r"
     ]
    },
    {
     "name": "stdout",
     "output_type": "stream",
     "text": [
      "Modèle n°1 : 0.204s | Précision : 84.91% | F1 : 0.78\n"
     ]
    },
    {
     "name": "stderr",
     "output_type": "stream",
     "text": [
      "                                             \r"
     ]
    },
    {
     "name": "stdout",
     "output_type": "stream",
     "text": [
      "Modèle n°2 : 0.276s | Précision : 85.58% | F1 : 0.8\n"
     ]
    },
    {
     "name": "stderr",
     "output_type": "stream",
     "text": [
      "                                             \r"
     ]
    },
    {
     "name": "stdout",
     "output_type": "stream",
     "text": [
      "Modèle n°3 : 0.344s | Précision : 87.47% | F1 : 0.847\n"
     ]
    },
    {
     "name": "stderr",
     "output_type": "stream",
     "text": [
      "                                             \r"
     ]
    },
    {
     "name": "stdout",
     "output_type": "stream",
     "text": [
      "Modèle n°4 : 0.446s | Précision : 87.94% | F1 : 0.861\n"
     ]
    },
    {
     "name": "stderr",
     "output_type": "stream",
     "text": [
      "                                             \r"
     ]
    },
    {
     "name": "stdout",
     "output_type": "stream",
     "text": [
      "Modèle n°5 : 0.552s | Précision : 88.19% | F1 : 0.868\n"
     ]
    },
    {
     "name": "stderr",
     "output_type": "stream",
     "text": [
      "                                             \r"
     ]
    },
    {
     "name": "stdout",
     "output_type": "stream",
     "text": [
      "Modèle n°6 : 0.646s | Précision : 88.19% | F1 : 0.87\n"
     ]
    },
    {
     "name": "stderr",
     "output_type": "stream",
     "text": [
      "                                             \r"
     ]
    },
    {
     "name": "stdout",
     "output_type": "stream",
     "text": [
      "Modèle n°7 : 0.687s | Précision : 88.19% | F1 : 0.87\n"
     ]
    },
    {
     "name": "stderr",
     "output_type": "stream",
     "text": [
      "                                             \r"
     ]
    },
    {
     "name": "stdout",
     "output_type": "stream",
     "text": [
      "Modèle n°8 : 0.715s | Précision : 88.19% | F1 : 0.873\n"
     ]
    },
    {
     "name": "stderr",
     "output_type": "stream",
     "text": [
      "                                             \r"
     ]
    },
    {
     "name": "stdout",
     "output_type": "stream",
     "text": [
      "Modèle n°9 : 0.73s | Précision : 88.19% | F1 : 0.874\n"
     ]
    },
    {
     "name": "stderr",
     "output_type": "stream",
     "text": [
      "                                             \r"
     ]
    },
    {
     "name": "stdout",
     "output_type": "stream",
     "text": [
      "Modèle n°10 : 0.733s | Précision : 88.19% | F1 : 0.874\n"
     ]
    },
    {
     "name": "stderr",
     "output_type": "stream",
     "text": [
      "                                             \r"
     ]
    },
    {
     "name": "stdout",
     "output_type": "stream",
     "text": [
      "Modèle n°11 : 0.452s | Précision : 88.19% | F1 : 0.874\n"
     ]
    },
    {
     "name": "stderr",
     "output_type": "stream",
     "text": [
      "                                             \r"
     ]
    },
    {
     "name": "stdout",
     "output_type": "stream",
     "text": [
      "Modèle n°12 : 1.024s | Précision : 88.19% | F1 : 0.874\n"
     ]
    },
    {
     "name": "stderr",
     "output_type": "stream",
     "text": [
      "                                             \r"
     ]
    },
    {
     "name": "stdout",
     "output_type": "stream",
     "text": [
      "Modèle n°13 : 1.615s | Précision : 88.19% | F1 : 0.874\n"
     ]
    },
    {
     "name": "stderr",
     "output_type": "stream",
     "text": [
      "                                             \r"
     ]
    },
    {
     "name": "stdout",
     "output_type": "stream",
     "text": [
      "Modèle n°14 : 2.166s | Précision : 88.23% | F1 : 0.874\n"
     ]
    },
    {
     "name": "stderr",
     "output_type": "stream",
     "text": [
      "                                             \r"
     ]
    },
    {
     "name": "stdout",
     "output_type": "stream",
     "text": [
      "Modèle n°15 : 2.685s | Précision : 88.72% | F1 : 0.874\n"
     ]
    },
    {
     "name": "stderr",
     "output_type": "stream",
     "text": [
      "                                             \r"
     ]
    },
    {
     "name": "stdout",
     "output_type": "stream",
     "text": [
      "Modèle n°16 : 3.057s | Précision : 89.13% | F1 : 0.878\n"
     ]
    },
    {
     "name": "stderr",
     "output_type": "stream",
     "text": [
      "                                             \r"
     ]
    },
    {
     "name": "stdout",
     "output_type": "stream",
     "text": [
      "Modèle n°17 : 3.33s | Précision : 89.44% | F1 : 0.883\n"
     ]
    },
    {
     "name": "stderr",
     "output_type": "stream",
     "text": [
      "                                             \r"
     ]
    },
    {
     "name": "stdout",
     "output_type": "stream",
     "text": [
      "Modèle n°18 : 3.509s | Précision : 89.5% | F1 : 0.885\n"
     ]
    },
    {
     "name": "stderr",
     "output_type": "stream",
     "text": [
      "                                             \r"
     ]
    },
    {
     "name": "stdout",
     "output_type": "stream",
     "text": [
      "Modèle n°19 : 3.627s | Précision : 89.61% | F1 : 0.886\n"
     ]
    },
    {
     "name": "stderr",
     "output_type": "stream",
     "text": [
      "                                             \r"
     ]
    },
    {
     "name": "stdout",
     "output_type": "stream",
     "text": [
      "Modèle n°20 : 3.665s | Précision : 89.61% | F1 : 0.886\n"
     ]
    },
    {
     "name": "stderr",
     "output_type": "stream",
     "text": [
      "                                             \r"
     ]
    },
    {
     "name": "stdout",
     "output_type": "stream",
     "text": [
      "Modèle n°21 : 0.818s | Précision : 89.61% | F1 : 0.886\n"
     ]
    },
    {
     "name": "stderr",
     "output_type": "stream",
     "text": [
      "                                             \r"
     ]
    },
    {
     "name": "stdout",
     "output_type": "stream",
     "text": [
      "Modèle n°22 : 1.895s | Précision : 89.61% | F1 : 0.886\n"
     ]
    },
    {
     "name": "stderr",
     "output_type": "stream",
     "text": [
      "                                             \r"
     ]
    },
    {
     "name": "stdout",
     "output_type": "stream",
     "text": [
      "Modèle n°23 : 3.005s | Précision : 89.61% | F1 : 0.886\n"
     ]
    },
    {
     "name": "stderr",
     "output_type": "stream",
     "text": [
      "                                             \r"
     ]
    },
    {
     "name": "stdout",
     "output_type": "stream",
     "text": [
      "Modèle n°24 : 4.031s | Précision : 89.61% | F1 : 0.886\n"
     ]
    },
    {
     "name": "stderr",
     "output_type": "stream",
     "text": [
      "                                             \r"
     ]
    },
    {
     "name": "stdout",
     "output_type": "stream",
     "text": [
      "Modèle n°25 : 4.957s | Précision : 89.61% | F1 : 0.886\n"
     ]
    },
    {
     "name": "stderr",
     "output_type": "stream",
     "text": [
      "                                             \r"
     ]
    },
    {
     "name": "stdout",
     "output_type": "stream",
     "text": [
      "Modèle n°26 : 5.626s | Précision : 89.61% | F1 : 0.886\n"
     ]
    },
    {
     "name": "stderr",
     "output_type": "stream",
     "text": [
      "                                             \r"
     ]
    },
    {
     "name": "stdout",
     "output_type": "stream",
     "text": [
      "Modèle n°27 : 6.147s | Précision : 89.66% | F1 : 0.886\n"
     ]
    },
    {
     "name": "stderr",
     "output_type": "stream",
     "text": [
      "                                             \r"
     ]
    },
    {
     "name": "stdout",
     "output_type": "stream",
     "text": [
      "Modèle n°28 : 6.463s | Précision : 89.66% | F1 : 0.886\n"
     ]
    },
    {
     "name": "stderr",
     "output_type": "stream",
     "text": [
      "                                             \r"
     ]
    },
    {
     "name": "stdout",
     "output_type": "stream",
     "text": [
      "Modèle n°29 : 6.692s | Précision : 89.9% | F1 : 0.889\n"
     ]
    },
    {
     "name": "stderr",
     "output_type": "stream",
     "text": [
      "                                             \r"
     ]
    },
    {
     "name": "stdout",
     "output_type": "stream",
     "text": [
      "Modèle n°30 : 6.805s | Précision : 89.9% | F1 : 0.889\n"
     ]
    },
    {
     "name": "stderr",
     "output_type": "stream",
     "text": [
      "                                             \r"
     ]
    },
    {
     "name": "stdout",
     "output_type": "stream",
     "text": [
      "Modèle n°31 : 1.171s | Précision : 89.9% | F1 : 0.889\n"
     ]
    },
    {
     "name": "stderr",
     "output_type": "stream",
     "text": [
      "                                             \r"
     ]
    },
    {
     "name": "stdout",
     "output_type": "stream",
     "text": [
      "Modèle n°32 : 2.754s | Précision : 89.9% | F1 : 0.889\n"
     ]
    },
    {
     "name": "stderr",
     "output_type": "stream",
     "text": [
      "                                             \r"
     ]
    },
    {
     "name": "stdout",
     "output_type": "stream",
     "text": [
      "Modèle n°33 : 4.359s | Précision : 89.9% | F1 : 0.889\n"
     ]
    },
    {
     "name": "stderr",
     "output_type": "stream",
     "text": [
      "                                             \r"
     ]
    },
    {
     "name": "stdout",
     "output_type": "stream",
     "text": [
      "Modèle n°34 : 5.863s | Précision : 89.9% | F1 : 0.889\n"
     ]
    },
    {
     "name": "stderr",
     "output_type": "stream",
     "text": [
      "                                             \r"
     ]
    },
    {
     "name": "stdout",
     "output_type": "stream",
     "text": [
      "Modèle n°35 : 7.181s | Précision : 89.9% | F1 : 0.889\n"
     ]
    },
    {
     "name": "stderr",
     "output_type": "stream",
     "text": [
      "                                             \r"
     ]
    },
    {
     "name": "stdout",
     "output_type": "stream",
     "text": [
      "Modèle n°36 : 8.178s | Précision : 89.9% | F1 : 0.889\n"
     ]
    },
    {
     "name": "stderr",
     "output_type": "stream",
     "text": [
      "                                             \r"
     ]
    },
    {
     "name": "stdout",
     "output_type": "stream",
     "text": [
      "Modèle n°37 : 8.962s | Précision : 89.9% | F1 : 0.889\n"
     ]
    },
    {
     "name": "stderr",
     "output_type": "stream",
     "text": [
      "                                             \r"
     ]
    },
    {
     "name": "stdout",
     "output_type": "stream",
     "text": [
      "Modèle n°38 : 9.428s | Précision : 89.9% | F1 : 0.889\n"
     ]
    },
    {
     "name": "stderr",
     "output_type": "stream",
     "text": [
      "                                             \r"
     ]
    },
    {
     "name": "stdout",
     "output_type": "stream",
     "text": [
      "Modèle n°39 : 9.733s | Précision : 90.0% | F1 : 0.89\n"
     ]
    },
    {
     "name": "stderr",
     "output_type": "stream",
     "text": [
      "                                             \r"
     ]
    },
    {
     "name": "stdout",
     "output_type": "stream",
     "text": [
      "Modèle n°40 : 9.868s | Précision : 90.0% | F1 : 0.89\n"
     ]
    },
    {
     "name": "stderr",
     "output_type": "stream",
     "text": [
      "                                             \r"
     ]
    },
    {
     "name": "stdout",
     "output_type": "stream",
     "text": [
      "Modèle n°41 : 1.543s | Précision : 90.0% | F1 : 0.89\n"
     ]
    },
    {
     "name": "stderr",
     "output_type": "stream",
     "text": [
      "                                             \r"
     ]
    },
    {
     "name": "stdout",
     "output_type": "stream",
     "text": [
      "Modèle n°42 : 3.607s | Précision : 90.0% | F1 : 0.89\n"
     ]
    },
    {
     "name": "stderr",
     "output_type": "stream",
     "text": [
      "                                             \r"
     ]
    },
    {
     "name": "stdout",
     "output_type": "stream",
     "text": [
      "Modèle n°43 : 5.671s | Précision : 90.0% | F1 : 0.89\n"
     ]
    },
    {
     "name": "stderr",
     "output_type": "stream",
     "text": [
      "                                             \r"
     ]
    },
    {
     "name": "stdout",
     "output_type": "stream",
     "text": [
      "Modèle n°44 : 7.679s | Précision : 90.0% | F1 : 0.89\n"
     ]
    },
    {
     "name": "stderr",
     "output_type": "stream",
     "text": [
      "                                             \r"
     ]
    },
    {
     "name": "stdout",
     "output_type": "stream",
     "text": [
      "Modèle n°45 : 9.342s | Précision : 90.0% | F1 : 0.89\n"
     ]
    },
    {
     "name": "stderr",
     "output_type": "stream",
     "text": [
      "                                             \r"
     ]
    },
    {
     "name": "stdout",
     "output_type": "stream",
     "text": [
      "Modèle n°46 : 10.697s | Précision : 90.0% | F1 : 0.89\n"
     ]
    },
    {
     "name": "stderr",
     "output_type": "stream",
     "text": [
      "                                             \r"
     ]
    },
    {
     "name": "stdout",
     "output_type": "stream",
     "text": [
      "Modèle n°47 : 11.744s | Précision : 90.0% | F1 : 0.89\n"
     ]
    },
    {
     "name": "stderr",
     "output_type": "stream",
     "text": [
      "                                             \r"
     ]
    },
    {
     "name": "stdout",
     "output_type": "stream",
     "text": [
      "Modèle n°48 : 12.456s | Précision : 90.0% | F1 : 0.89\n"
     ]
    },
    {
     "name": "stderr",
     "output_type": "stream",
     "text": [
      "                                             \r"
     ]
    },
    {
     "name": "stdout",
     "output_type": "stream",
     "text": [
      "Modèle n°49 : 12.621s | Précision : 90.1% | F1 : 0.891\n"
     ]
    },
    {
     "name": "stderr",
     "output_type": "stream",
     "text": [
      "                                             \r"
     ]
    },
    {
     "name": "stdout",
     "output_type": "stream",
     "text": [
      "Modèle n°50 : 12.815s | Précision : 90.1% | F1 : 0.891\n"
     ]
    },
    {
     "name": "stderr",
     "output_type": "stream",
     "text": [
      "                                             \r"
     ]
    },
    {
     "name": "stdout",
     "output_type": "stream",
     "text": [
      "Modèle n°51 : 1.885s | Précision : 90.1% | F1 : 0.891\n"
     ]
    },
    {
     "name": "stderr",
     "output_type": "stream",
     "text": [
      "                                             \r"
     ]
    },
    {
     "name": "stdout",
     "output_type": "stream",
     "text": [
      "Modèle n°52 : 4.455s | Précision : 90.1% | F1 : 0.891\n"
     ]
    },
    {
     "name": "stderr",
     "output_type": "stream",
     "text": [
      "                                             \r"
     ]
    },
    {
     "name": "stdout",
     "output_type": "stream",
     "text": [
      "Modèle n°53 : 7.032s | Précision : 90.1% | F1 : 0.891\n"
     ]
    },
    {
     "name": "stderr",
     "output_type": "stream",
     "text": [
      "                                             \r"
     ]
    },
    {
     "name": "stdout",
     "output_type": "stream",
     "text": [
      "Modèle n°54 : 9.481s | Précision : 90.1% | F1 : 0.891\n"
     ]
    },
    {
     "name": "stderr",
     "output_type": "stream",
     "text": [
      "                                             \r"
     ]
    },
    {
     "name": "stdout",
     "output_type": "stream",
     "text": [
      "Modèle n°55 : 11.558s | Précision : 90.1% | F1 : 0.891\n"
     ]
    },
    {
     "name": "stderr",
     "output_type": "stream",
     "text": [
      "                                             \r"
     ]
    },
    {
     "name": "stdout",
     "output_type": "stream",
     "text": [
      "Modèle n°56 : 13.211s | Précision : 90.1% | F1 : 0.891\n"
     ]
    },
    {
     "name": "stderr",
     "output_type": "stream",
     "text": [
      "                                             \r"
     ]
    },
    {
     "name": "stdout",
     "output_type": "stream",
     "text": [
      "Modèle n°57 : 14.494s | Précision : 90.1% | F1 : 0.891\n"
     ]
    },
    {
     "name": "stderr",
     "output_type": "stream",
     "text": [
      "                                             \r"
     ]
    },
    {
     "name": "stdout",
     "output_type": "stream",
     "text": [
      "Modèle n°58 : 15.185s | Précision : 90.1% | F1 : 0.891\n"
     ]
    },
    {
     "name": "stderr",
     "output_type": "stream",
     "text": [
      "                                             \r"
     ]
    },
    {
     "name": "stdout",
     "output_type": "stream",
     "text": [
      "Modèle n°59 : 15.669s | Précision : 90.1% | F1 : 0.891\n"
     ]
    },
    {
     "name": "stderr",
     "output_type": "stream",
     "text": [
      "                                             \r"
     ]
    },
    {
     "name": "stdout",
     "output_type": "stream",
     "text": [
      "Modèle n°60 : 15.977s | Précision : 90.1% | F1 : 0.891\n"
     ]
    },
    {
     "name": "stderr",
     "output_type": "stream",
     "text": [
      "                                             \r"
     ]
    },
    {
     "name": "stdout",
     "output_type": "stream",
     "text": [
      "Modèle n°61 : 2.237s | Précision : 90.1% | F1 : 0.891\n"
     ]
    },
    {
     "name": "stderr",
     "output_type": "stream",
     "text": [
      "                                             \r"
     ]
    },
    {
     "name": "stdout",
     "output_type": "stream",
     "text": [
      "Modèle n°62 : 5.32s | Précision : 90.1% | F1 : 0.891\n"
     ]
    },
    {
     "name": "stderr",
     "output_type": "stream",
     "text": [
      "                                             \r"
     ]
    },
    {
     "name": "stdout",
     "output_type": "stream",
     "text": [
      "Modèle n°63 : 8.412s | Précision : 90.1% | F1 : 0.891\n"
     ]
    },
    {
     "name": "stderr",
     "output_type": "stream",
     "text": [
      "                                             \r"
     ]
    },
    {
     "name": "stdout",
     "output_type": "stream",
     "text": [
      "Modèle n°64 : 11.381s | Précision : 90.1% | F1 : 0.891\n"
     ]
    },
    {
     "name": "stderr",
     "output_type": "stream",
     "text": [
      "                                             \r"
     ]
    },
    {
     "name": "stdout",
     "output_type": "stream",
     "text": [
      "Modèle n°65 : 13.807s | Précision : 90.1% | F1 : 0.891\n"
     ]
    },
    {
     "name": "stderr",
     "output_type": "stream",
     "text": [
      "                                             \r"
     ]
    },
    {
     "name": "stdout",
     "output_type": "stream",
     "text": [
      "Modèle n°66 : 15.789s | Précision : 90.1% | F1 : 0.891\n"
     ]
    },
    {
     "name": "stderr",
     "output_type": "stream",
     "text": [
      "                                             \r"
     ]
    },
    {
     "name": "stdout",
     "output_type": "stream",
     "text": [
      "Modèle n°67 : 17.278s | Précision : 90.1% | F1 : 0.891\n"
     ]
    },
    {
     "name": "stderr",
     "output_type": "stream",
     "text": [
      "                                             \r"
     ]
    },
    {
     "name": "stdout",
     "output_type": "stream",
     "text": [
      "Modèle n°68 : 18.135s | Précision : 90.1% | F1 : 0.891\n"
     ]
    },
    {
     "name": "stderr",
     "output_type": "stream",
     "text": [
      "                                             \r"
     ]
    },
    {
     "name": "stdout",
     "output_type": "stream",
     "text": [
      "Modèle n°69 : 18.754s | Précision : 90.11% | F1 : 0.891\n"
     ]
    },
    {
     "name": "stderr",
     "output_type": "stream",
     "text": [
      "                                             \r"
     ]
    },
    {
     "name": "stdout",
     "output_type": "stream",
     "text": [
      "Modèle n°70 : 19.109s | Précision : 90.11% | F1 : 0.891\n"
     ]
    },
    {
     "name": "stderr",
     "output_type": "stream",
     "text": [
      "                                             \r"
     ]
    },
    {
     "name": "stdout",
     "output_type": "stream",
     "text": [
      "Modèle n°71 : 2.584s | Précision : 90.11% | F1 : 0.891\n"
     ]
    },
    {
     "name": "stderr",
     "output_type": "stream",
     "text": [
      "                                             \r"
     ]
    },
    {
     "name": "stdout",
     "output_type": "stream",
     "text": [
      "Modèle n°72 : 6.183s | Précision : 90.11% | F1 : 0.891\n"
     ]
    },
    {
     "name": "stderr",
     "output_type": "stream",
     "text": [
      "                                             \r"
     ]
    },
    {
     "name": "stdout",
     "output_type": "stream",
     "text": [
      "Modèle n°73 : 9.752s | Précision : 90.11% | F1 : 0.891\n"
     ]
    },
    {
     "name": "stderr",
     "output_type": "stream",
     "text": [
      "                                             \r"
     ]
    },
    {
     "name": "stdout",
     "output_type": "stream",
     "text": [
      "Modèle n°74 : 13.198s | Précision : 90.11% | F1 : 0.891\n"
     ]
    },
    {
     "name": "stderr",
     "output_type": "stream",
     "text": [
      "                                             \r"
     ]
    },
    {
     "name": "stdout",
     "output_type": "stream",
     "text": [
      "Modèle n°75 : 16.024s | Précision : 90.11% | F1 : 0.891\n"
     ]
    },
    {
     "name": "stderr",
     "output_type": "stream",
     "text": [
      "                                             \r"
     ]
    },
    {
     "name": "stdout",
     "output_type": "stream",
     "text": [
      "Modèle n°76 : 18.398s | Précision : 90.11% | F1 : 0.891\n"
     ]
    },
    {
     "name": "stderr",
     "output_type": "stream",
     "text": [
      "                                             \r"
     ]
    },
    {
     "name": "stdout",
     "output_type": "stream",
     "text": [
      "Modèle n°77 : 20.057s | Précision : 90.11% | F1 : 0.891\n"
     ]
    },
    {
     "name": "stderr",
     "output_type": "stream",
     "text": [
      "                                             \r"
     ]
    },
    {
     "name": "stdout",
     "output_type": "stream",
     "text": [
      "Modèle n°78 : 21.058s | Précision : 90.11% | F1 : 0.891\n"
     ]
    },
    {
     "name": "stderr",
     "output_type": "stream",
     "text": [
      "                                             \r"
     ]
    },
    {
     "name": "stdout",
     "output_type": "stream",
     "text": [
      "Modèle n°79 : 21.661s | Précision : 90.11% | F1 : 0.891\n"
     ]
    },
    {
     "name": "stderr",
     "output_type": "stream",
     "text": [
      "                                             \r"
     ]
    },
    {
     "name": "stdout",
     "output_type": "stream",
     "text": [
      "Modèle n°80 : 21.959s | Précision : 90.11% | F1 : 0.891\n"
     ]
    },
    {
     "name": "stderr",
     "output_type": "stream",
     "text": [
      "                                             \r"
     ]
    },
    {
     "name": "stdout",
     "output_type": "stream",
     "text": [
      "Modèle n°81 : 2.953s | Précision : 90.11% | F1 : 0.891\n"
     ]
    },
    {
     "name": "stderr",
     "output_type": "stream",
     "text": [
      "                                             \r"
     ]
    },
    {
     "name": "stdout",
     "output_type": "stream",
     "text": [
      "Modèle n°82 : 7.081s | Précision : 90.11% | F1 : 0.891\n"
     ]
    },
    {
     "name": "stderr",
     "output_type": "stream",
     "text": [
      "                                             \r"
     ]
    },
    {
     "name": "stdout",
     "output_type": "stream",
     "text": [
      "Modèle n°83 : 11.269s | Précision : 90.11% | F1 : 0.891\n"
     ]
    },
    {
     "name": "stderr",
     "output_type": "stream",
     "text": [
      "                                             \r"
     ]
    },
    {
     "name": "stdout",
     "output_type": "stream",
     "text": [
      "Modèle n°84 : 15.086s | Précision : 90.11% | F1 : 0.891\n"
     ]
    },
    {
     "name": "stderr",
     "output_type": "stream",
     "text": [
      "                                             \r"
     ]
    },
    {
     "name": "stdout",
     "output_type": "stream",
     "text": [
      "Modèle n°85 : 18.388s | Précision : 90.11% | F1 : 0.891\n"
     ]
    },
    {
     "name": "stderr",
     "output_type": "stream",
     "text": [
      "                                             \r"
     ]
    },
    {
     "name": "stdout",
     "output_type": "stream",
     "text": [
      "Modèle n°86 : 20.888s | Précision : 90.11% | F1 : 0.891\n"
     ]
    },
    {
     "name": "stderr",
     "output_type": "stream",
     "text": [
      "                                             \r"
     ]
    },
    {
     "name": "stdout",
     "output_type": "stream",
     "text": [
      "Modèle n°87 : 22.802s | Précision : 90.11% | F1 : 0.891\n"
     ]
    },
    {
     "name": "stderr",
     "output_type": "stream",
     "text": [
      "                                             \r"
     ]
    },
    {
     "name": "stdout",
     "output_type": "stream",
     "text": [
      "Modèle n°88 : 23.94s | Précision : 90.11% | F1 : 0.891\n"
     ]
    },
    {
     "name": "stderr",
     "output_type": "stream",
     "text": [
      "                                             \r"
     ]
    },
    {
     "name": "stdout",
     "output_type": "stream",
     "text": [
      "Modèle n°89 : 24.833s | Précision : 90.11% | F1 : 0.891\n"
     ]
    },
    {
     "name": "stderr",
     "output_type": "stream",
     "text": [
      "                                             \r"
     ]
    },
    {
     "name": "stdout",
     "output_type": "stream",
     "text": [
      "Modèle n°90 : 25.203s | Précision : 90.11% | F1 : 0.891\n"
     ]
    },
    {
     "name": "stderr",
     "output_type": "stream",
     "text": [
      "                                             \r"
     ]
    },
    {
     "name": "stdout",
     "output_type": "stream",
     "text": [
      "Modèle n°91 : 3.317s | Précision : 90.11% | F1 : 0.891\n"
     ]
    },
    {
     "name": "stderr",
     "output_type": "stream",
     "text": [
      "                                             \r"
     ]
    },
    {
     "name": "stdout",
     "output_type": "stream",
     "text": [
      "Modèle n°92 : 7.932s | Précision : 90.11% | F1 : 0.891\n"
     ]
    },
    {
     "name": "stderr",
     "output_type": "stream",
     "text": [
      "                                             \r"
     ]
    },
    {
     "name": "stdout",
     "output_type": "stream",
     "text": [
      "Modèle n°93 : 12.508s | Précision : 90.11% | F1 : 0.891\n"
     ]
    },
    {
     "name": "stderr",
     "output_type": "stream",
     "text": [
      "                                             \r"
     ]
    },
    {
     "name": "stdout",
     "output_type": "stream",
     "text": [
      "Modèle n°94 : 16.933s | Précision : 90.11% | F1 : 0.891\n"
     ]
    },
    {
     "name": "stderr",
     "output_type": "stream",
     "text": [
      "                                             \r"
     ]
    },
    {
     "name": "stdout",
     "output_type": "stream",
     "text": [
      "Modèle n°95 : 20.681s | Précision : 90.11% | F1 : 0.891\n"
     ]
    },
    {
     "name": "stderr",
     "output_type": "stream",
     "text": [
      "                                             \r"
     ]
    },
    {
     "name": "stdout",
     "output_type": "stream",
     "text": [
      "Modèle n°96 : 23.499s | Précision : 90.11% | F1 : 0.891\n"
     ]
    },
    {
     "name": "stderr",
     "output_type": "stream",
     "text": [
      "                                             \r"
     ]
    },
    {
     "name": "stdout",
     "output_type": "stream",
     "text": [
      "Modèle n°97 : 25.772s | Précision : 90.11% | F1 : 0.891\n"
     ]
    },
    {
     "name": "stderr",
     "output_type": "stream",
     "text": [
      "                                             \r"
     ]
    },
    {
     "name": "stdout",
     "output_type": "stream",
     "text": [
      "Modèle n°98 : 27.071s | Précision : 90.11% | F1 : 0.891\n"
     ]
    },
    {
     "name": "stderr",
     "output_type": "stream",
     "text": [
      "                                             \r"
     ]
    },
    {
     "name": "stdout",
     "output_type": "stream",
     "text": [
      "Modèle n°99 : 27.956s | Précision : 90.11% | F1 : 0.891\n"
     ]
    },
    {
     "name": "stderr",
     "output_type": "stream",
     "text": [
      "                                             \r"
     ]
    },
    {
     "name": "stdout",
     "output_type": "stream",
     "text": [
      "Modèle n°100 : 28.426s | Précision : 90.13% | F1 : 0.891\n",
      "\n",
      "#######################################\n",
      "\n",
      "Processus terminé : 16m29s\n",
      "\n",
      "#######################################\n",
      "\n",
      "Le paramètre optimal est : {'trees': 200.0, 'max_deep': 20.0}\n",
      "Accuracy : 90.1% | F1 : 0.891\n",
      "\n",
      "#######################################\n",
      "\n"
     ]
    },
    {
     "data": {
      "image/png": "[encoded data removed]",
      "text/plain": [
       "<Figure size 1000x800 with 2 Axes>"
      ]
     },
     "metadata": {},
     "output_type": "display_data"
    }
   ],
   "source": [
    "optimise_model(\n",
    "    model_name='rforest',\n",
    "    nbr_grid={'trees': 10, 'max_deep': 10},\n",
    "    cv=5,\n",
    "    shuffle=True\n",
    ")"
   ]
  },
  {
   "cell_type": "markdown",
   "id": "2fbfd618",
   "metadata": {},
   "source": [
    "Après l'utilisation de la validation croisée nous obtenons une précision de 90.1% et un score-F1 de 0.891. En réentrainant le meilleur modèle sur l'ensemble des données montre une excellente performance de classification comme on le remarque avec la matrice de confusion, il a correctement identifié les cas non-ignitions et ignitions, avec aucun faux négatif et aucun faux positif. \n",
    "\n",
    "On peut en conclure que ce modèle semble globalement performant, afin de pouvoir mieux vérifier ces performances, il aurait fallu diviser le dataset avec un jeu de validation afin de tester ces performances réelles sur des données qu'il n'avait jamais vu."
   ]
  },
  {
   "cell_type": "code",
   "execution_count": 45,
   "id": "5622edc6",
   "metadata": {},
   "outputs": [
    {
     "name": "stdout",
     "output_type": "stream",
     "text": [
      "#######################################\n",
      "\n"
     ]
    },
    {
     "name": "stderr",
     "output_type": "stream",
     "text": [
      "                                             \r"
     ]
    },
    {
     "name": "stdout",
     "output_type": "stream",
     "text": [
      "Modèle n°1 : 1.692s | Précision : 84.91% | F1 : 0.78\n"
     ]
    },
    {
     "name": "stderr",
     "output_type": "stream",
     "text": [
      "                                             \r"
     ]
    },
    {
     "name": "stdout",
     "output_type": "stream",
     "text": [
      "Modèle n°2 : 1.632s | Précision : 84.91% | F1 : 0.78\n"
     ]
    },
    {
     "name": "stderr",
     "output_type": "stream",
     "text": [
      "                                             \r"
     ]
    },
    {
     "name": "stdout",
     "output_type": "stream",
     "text": [
      "Modèle n°3 : 1.627s | Précision : 87.22% | F1 : 0.84\n"
     ]
    },
    {
     "name": "stderr",
     "output_type": "stream",
     "text": [
      "                                             \r"
     ]
    },
    {
     "name": "stdout",
     "output_type": "stream",
     "text": [
      "Modèle n°4 : 1.631s | Précision : 87.78% | F1 : 0.857\n"
     ]
    },
    {
     "name": "stderr",
     "output_type": "stream",
     "text": [
      "                                             \r"
     ]
    },
    {
     "name": "stdout",
     "output_type": "stream",
     "text": [
      "Modèle n°5 : 1.631s | Précision : 87.96% | F1 : 0.863\n"
     ]
    },
    {
     "name": "stderr",
     "output_type": "stream",
     "text": [
      "                                             \r"
     ]
    },
    {
     "name": "stdout",
     "output_type": "stream",
     "text": [
      "Modèle n°6 : 1.626s | Précision : 87.96% | F1 : 0.863\n"
     ]
    },
    {
     "name": "stderr",
     "output_type": "stream",
     "text": [
      "                                             \r"
     ]
    },
    {
     "name": "stdout",
     "output_type": "stream",
     "text": [
      "Modèle n°7 : 1.636s | Précision : 87.96% | F1 : 0.868\n"
     ]
    },
    {
     "name": "stderr",
     "output_type": "stream",
     "text": [
      "                                             \r"
     ]
    },
    {
     "name": "stdout",
     "output_type": "stream",
     "text": [
      "Modèle n°8 : 1.628s | Précision : 87.96% | F1 : 0.869\n"
     ]
    },
    {
     "name": "stderr",
     "output_type": "stream",
     "text": [
      "                                             \r"
     ]
    },
    {
     "name": "stdout",
     "output_type": "stream",
     "text": [
      "Modèle n°9 : 1.62s | Précision : 87.96% | F1 : 0.869\n"
     ]
    },
    {
     "name": "stderr",
     "output_type": "stream",
     "text": [
      "                                             \r"
     ]
    },
    {
     "name": "stdout",
     "output_type": "stream",
     "text": [
      "Modèle n°10 : 1.633s | Précision : 87.96% | F1 : 0.869\n"
     ]
    },
    {
     "name": "stderr",
     "output_type": "stream",
     "text": [
      "                                             \r"
     ]
    },
    {
     "name": "stdout",
     "output_type": "stream",
     "text": [
      "Modèle n°11 : 8.27s | Précision : 87.96% | F1 : 0.869\n"
     ]
    },
    {
     "name": "stderr",
     "output_type": "stream",
     "text": [
      "                                             \r"
     ]
    },
    {
     "name": "stdout",
     "output_type": "stream",
     "text": [
      "Modèle n°12 : 8.247s | Précision : 88.37% | F1 : 0.869\n"
     ]
    },
    {
     "name": "stderr",
     "output_type": "stream",
     "text": [
      "                                             \r"
     ]
    },
    {
     "name": "stdout",
     "output_type": "stream",
     "text": [
      "Modèle n°13 : 8.213s | Précision : 88.61% | F1 : 0.876\n"
     ]
    },
    {
     "name": "stderr",
     "output_type": "stream",
     "text": [
      "                                             \r"
     ]
    },
    {
     "name": "stdout",
     "output_type": "stream",
     "text": [
      "Modèle n°14 : 8.195s | Précision : 88.73% | F1 : 0.879\n"
     ]
    },
    {
     "name": "stderr",
     "output_type": "stream",
     "text": [
      "                                             \r"
     ]
    },
    {
     "name": "stdout",
     "output_type": "stream",
     "text": [
      "Modèle n°15 : 8.179s | Précision : 88.75% | F1 : 0.879\n"
     ]
    },
    {
     "name": "stderr",
     "output_type": "stream",
     "text": [
      "                                             \r"
     ]
    },
    {
     "name": "stdout",
     "output_type": "stream",
     "text": [
      "Modèle n°16 : 8.167s | Précision : 88.75% | F1 : 0.879\n"
     ]
    },
    {
     "name": "stderr",
     "output_type": "stream",
     "text": [
      "                                             \r"
     ]
    },
    {
     "name": "stdout",
     "output_type": "stream",
     "text": [
      "Modèle n°17 : 8.168s | Précision : 88.75% | F1 : 0.879\n"
     ]
    },
    {
     "name": "stderr",
     "output_type": "stream",
     "text": [
      "                                             \r"
     ]
    },
    {
     "name": "stdout",
     "output_type": "stream",
     "text": [
      "Modèle n°18 : 8.172s | Précision : 88.75% | F1 : 0.879\n"
     ]
    },
    {
     "name": "stderr",
     "output_type": "stream",
     "text": [
      "                                             \r"
     ]
    },
    {
     "name": "stdout",
     "output_type": "stream",
     "text": [
      "Modèle n°19 : 8.192s | Précision : 88.75% | F1 : 0.88\n"
     ]
    },
    {
     "name": "stderr",
     "output_type": "stream",
     "text": [
      "                                             \r"
     ]
    },
    {
     "name": "stdout",
     "output_type": "stream",
     "text": [
      "Modèle n°20 : 8.18s | Précision : 88.75% | F1 : 0.88\n"
     ]
    },
    {
     "name": "stderr",
     "output_type": "stream",
     "text": [
      "                                             \r"
     ]
    },
    {
     "name": "stdout",
     "output_type": "stream",
     "text": [
      "Modèle n°21 : 15.188s | Précision : 88.75% | F1 : 0.88\n"
     ]
    },
    {
     "name": "stderr",
     "output_type": "stream",
     "text": [
      "                                             \r"
     ]
    },
    {
     "name": "stdout",
     "output_type": "stream",
     "text": [
      "Modèle n°22 : 15.133s | Précision : 88.75% | F1 : 0.88\n"
     ]
    },
    {
     "name": "stderr",
     "output_type": "stream",
     "text": [
      "                                             \r"
     ]
    },
    {
     "name": "stdout",
     "output_type": "stream",
     "text": [
      "Modèle n°23 : 15.033s | Précision : 88.82% | F1 : 0.88\n"
     ]
    },
    {
     "name": "stderr",
     "output_type": "stream",
     "text": [
      "                                             \r"
     ]
    },
    {
     "name": "stdout",
     "output_type": "stream",
     "text": [
      "Modèle n°24 : 15.025s | Précision : 89.0% | F1 : 0.883\n"
     ]
    },
    {
     "name": "stderr",
     "output_type": "stream",
     "text": [
      "                                             \r"
     ]
    },
    {
     "name": "stdout",
     "output_type": "stream",
     "text": [
      "Modèle n°25 : 15.037s | Précision : 89.06% | F1 : 0.883\n"
     ]
    },
    {
     "name": "stderr",
     "output_type": "stream",
     "text": [
      "                                             \r"
     ]
    },
    {
     "name": "stdout",
     "output_type": "stream",
     "text": [
      "Modèle n°26 : 15.02s | Précision : 89.06% | F1 : 0.883\n"
     ]
    },
    {
     "name": "stderr",
     "output_type": "stream",
     "text": [
      "                                             \r"
     ]
    },
    {
     "name": "stdout",
     "output_type": "stream",
     "text": [
      "Modèle n°27 : 15.009s | Précision : 89.06% | F1 : 0.883\n"
     ]
    },
    {
     "name": "stderr",
     "output_type": "stream",
     "text": [
      "                                             \r"
     ]
    },
    {
     "name": "stdout",
     "output_type": "stream",
     "text": [
      "Modèle n°28 : 15.017s | Précision : 89.06% | F1 : 0.883\n"
     ]
    },
    {
     "name": "stderr",
     "output_type": "stream",
     "text": [
      "                                             \r"
     ]
    },
    {
     "name": "stdout",
     "output_type": "stream",
     "text": [
      "Modèle n°29 : 15.003s | Précision : 89.06% | F1 : 0.883\n"
     ]
    },
    {
     "name": "stderr",
     "output_type": "stream",
     "text": [
      "                                             \r"
     ]
    },
    {
     "name": "stdout",
     "output_type": "stream",
     "text": [
      "Modèle n°30 : 15.006s | Précision : 89.06% | F1 : 0.883\n"
     ]
    },
    {
     "name": "stderr",
     "output_type": "stream",
     "text": [
      "                                             \r"
     ]
    },
    {
     "name": "stdout",
     "output_type": "stream",
     "text": [
      "Modèle n°31 : 22.08s | Précision : 89.06% | F1 : 0.883\n"
     ]
    },
    {
     "name": "stderr",
     "output_type": "stream",
     "text": [
      "                                             \r"
     ]
    },
    {
     "name": "stdout",
     "output_type": "stream",
     "text": [
      "Modèle n°32 : 21.983s | Précision : 89.06% | F1 : 0.883\n"
     ]
    },
    {
     "name": "stderr",
     "output_type": "stream",
     "text": [
      "                                             \r"
     ]
    },
    {
     "name": "stdout",
     "output_type": "stream",
     "text": [
      "Modèle n°33 : 21.9s | Précision : 89.06% | F1 : 0.883\n"
     ]
    },
    {
     "name": "stderr",
     "output_type": "stream",
     "text": [
      "                                             \r"
     ]
    },
    {
     "name": "stdout",
     "output_type": "stream",
     "text": [
      "Modèle n°34 : 21.914s | Précision : 89.12% | F1 : 0.884\n"
     ]
    },
    {
     "name": "stderr",
     "output_type": "stream",
     "text": [
      "                                             \r"
     ]
    },
    {
     "name": "stdout",
     "output_type": "stream",
     "text": [
      "Modèle n°35 : 21.918s | Précision : 89.17% | F1 : 0.885\n"
     ]
    },
    {
     "name": "stderr",
     "output_type": "stream",
     "text": [
      "                                             \r"
     ]
    },
    {
     "name": "stdout",
     "output_type": "stream",
     "text": [
      "Modèle n°36 : 21.859s | Précision : 89.17% | F1 : 0.885\n"
     ]
    },
    {
     "name": "stderr",
     "output_type": "stream",
     "text": [
      "                                             \r"
     ]
    },
    {
     "name": "stdout",
     "output_type": "stream",
     "text": [
      "Modèle n°37 : 21.885s | Précision : 89.17% | F1 : 0.885\n"
     ]
    },
    {
     "name": "stderr",
     "output_type": "stream",
     "text": [
      "                                             \r"
     ]
    },
    {
     "name": "stdout",
     "output_type": "stream",
     "text": [
      "Modèle n°38 : 21.901s | Précision : 89.17% | F1 : 0.885\n"
     ]
    },
    {
     "name": "stderr",
     "output_type": "stream",
     "text": [
      "                                             \r"
     ]
    },
    {
     "name": "stdout",
     "output_type": "stream",
     "text": [
      "Modèle n°39 : 21.867s | Précision : 89.17% | F1 : 0.885\n"
     ]
    },
    {
     "name": "stderr",
     "output_type": "stream",
     "text": [
      "                                             \r"
     ]
    },
    {
     "name": "stdout",
     "output_type": "stream",
     "text": [
      "Modèle n°40 : 21.89s | Précision : 89.17% | F1 : 0.885\n"
     ]
    },
    {
     "name": "stderr",
     "output_type": "stream",
     "text": [
      "                                             \r"
     ]
    },
    {
     "name": "stdout",
     "output_type": "stream",
     "text": [
      "Modèle n°41 : 29.257s | Précision : 89.17% | F1 : 0.885\n"
     ]
    },
    {
     "name": "stderr",
     "output_type": "stream",
     "text": [
      "                                             \r"
     ]
    },
    {
     "name": "stdout",
     "output_type": "stream",
     "text": [
      "Modèle n°42 : 28.782s | Précision : 89.17% | F1 : 0.885\n"
     ]
    },
    {
     "name": "stderr",
     "output_type": "stream",
     "text": [
      "                                             \r"
     ]
    },
    {
     "name": "stdout",
     "output_type": "stream",
     "text": [
      "Modèle n°43 : 28.763s | Précision : 89.17% | F1 : 0.885\n"
     ]
    },
    {
     "name": "stderr",
     "output_type": "stream",
     "text": [
      "                                             \r"
     ]
    },
    {
     "name": "stdout",
     "output_type": "stream",
     "text": [
      "Modèle n°44 : 28.713s | Précision : 89.17% | F1 : 0.885\n"
     ]
    },
    {
     "name": "stderr",
     "output_type": "stream",
     "text": [
      "                                             \r"
     ]
    },
    {
     "name": "stdout",
     "output_type": "stream",
     "text": [
      "Modèle n°45 : 28.75s | Précision : 89.17% | F1 : 0.885\n"
     ]
    },
    {
     "name": "stderr",
     "output_type": "stream",
     "text": [
      "                                             \r"
     ]
    },
    {
     "name": "stdout",
     "output_type": "stream",
     "text": [
      "Modèle n°46 : 28.774s | Précision : 89.17% | F1 : 0.885\n"
     ]
    },
    {
     "name": "stderr",
     "output_type": "stream",
     "text": [
      "                                             \r"
     ]
    },
    {
     "name": "stdout",
     "output_type": "stream",
     "text": [
      "Modèle n°47 : 28.633s | Précision : 89.17% | F1 : 0.885\n"
     ]
    },
    {
     "name": "stderr",
     "output_type": "stream",
     "text": [
      "                                             \r"
     ]
    },
    {
     "name": "stdout",
     "output_type": "stream",
     "text": [
      "Modèle n°48 : 28.9s | Précision : 89.17% | F1 : 0.885\n"
     ]
    },
    {
     "name": "stderr",
     "output_type": "stream",
     "text": [
      "                                             \r"
     ]
    },
    {
     "name": "stdout",
     "output_type": "stream",
     "text": [
      "Modèle n°49 : 28.763s | Précision : 89.17% | F1 : 0.885\n"
     ]
    },
    {
     "name": "stderr",
     "output_type": "stream",
     "text": [
      "                                             \r"
     ]
    },
    {
     "name": "stdout",
     "output_type": "stream",
     "text": [
      "Modèle n°50 : 28.758s | Précision : 89.17% | F1 : 0.885\n"
     ]
    },
    {
     "name": "stderr",
     "output_type": "stream",
     "text": [
      "                                             \r"
     ]
    },
    {
     "name": "stdout",
     "output_type": "stream",
     "text": [
      "Modèle n°51 : 36.039s | Précision : 89.17% | F1 : 0.885\n"
     ]
    },
    {
     "name": "stderr",
     "output_type": "stream",
     "text": [
      "                                             \r"
     ]
    },
    {
     "name": "stdout",
     "output_type": "stream",
     "text": [
      "Modèle n°52 : 35.91s | Précision : 89.17% | F1 : 0.885\n"
     ]
    },
    {
     "name": "stderr",
     "output_type": "stream",
     "text": [
      "                                             \r"
     ]
    },
    {
     "name": "stdout",
     "output_type": "stream",
     "text": [
      "Modèle n°53 : 35.454s | Précision : 89.21% | F1 : 0.885\n"
     ]
    },
    {
     "name": "stderr",
     "output_type": "stream",
     "text": [
      "                                             \r"
     ]
    },
    {
     "name": "stdout",
     "output_type": "stream",
     "text": [
      "Modèle n°54 : 35.474s | Précision : 89.21% | F1 : 0.885\n"
     ]
    },
    {
     "name": "stderr",
     "output_type": "stream",
     "text": [
      "                                             \r"
     ]
    },
    {
     "name": "stdout",
     "output_type": "stream",
     "text": [
      "Modèle n°55 : 35.721s | Précision : 89.21% | F1 : 0.885\n"
     ]
    },
    {
     "name": "stderr",
     "output_type": "stream",
     "text": [
      "                                             \r"
     ]
    },
    {
     "name": "stdout",
     "output_type": "stream",
     "text": [
      "Modèle n°56 : 35.498s | Précision : 89.21% | F1 : 0.885\n"
     ]
    },
    {
     "name": "stderr",
     "output_type": "stream",
     "text": [
      "                                             \r"
     ]
    },
    {
     "name": "stdout",
     "output_type": "stream",
     "text": [
      "Modèle n°57 : 35.5s | Précision : 89.21% | F1 : 0.885\n"
     ]
    },
    {
     "name": "stderr",
     "output_type": "stream",
     "text": [
      "                                             \r"
     ]
    },
    {
     "name": "stdout",
     "output_type": "stream",
     "text": [
      "Modèle n°58 : 35.649s | Précision : 89.21% | F1 : 0.885\n"
     ]
    },
    {
     "name": "stderr",
     "output_type": "stream",
     "text": [
      "                                             \r"
     ]
    },
    {
     "name": "stdout",
     "output_type": "stream",
     "text": [
      "Modèle n°59 : 35.407s | Précision : 89.21% | F1 : 0.885\n"
     ]
    },
    {
     "name": "stderr",
     "output_type": "stream",
     "text": [
      "                                             \r"
     ]
    },
    {
     "name": "stdout",
     "output_type": "stream",
     "text": [
      "Modèle n°60 : 35.529s | Précision : 89.21% | F1 : 0.885\n"
     ]
    },
    {
     "name": "stderr",
     "output_type": "stream",
     "text": [
      "                                             \r"
     ]
    },
    {
     "name": "stdout",
     "output_type": "stream",
     "text": [
      "Modèle n°61 : 42.912s | Précision : 89.21% | F1 : 0.885\n"
     ]
    },
    {
     "name": "stderr",
     "output_type": "stream",
     "text": [
      "                                             \r"
     ]
    },
    {
     "name": "stdout",
     "output_type": "stream",
     "text": [
      "Modèle n°62 : 42.942s | Précision : 89.21% | F1 : 0.885\n"
     ]
    },
    {
     "name": "stderr",
     "output_type": "stream",
     "text": [
      "                                             \r"
     ]
    },
    {
     "name": "stdout",
     "output_type": "stream",
     "text": [
      "Modèle n°63 : 42.725s | Précision : 89.36% | F1 : 0.887\n"
     ]
    },
    {
     "name": "stderr",
     "output_type": "stream",
     "text": [
      "                                             \r"
     ]
    },
    {
     "name": "stdout",
     "output_type": "stream",
     "text": [
      "Modèle n°64 : 42.539s | Précision : 89.36% | F1 : 0.887\n"
     ]
    },
    {
     "name": "stderr",
     "output_type": "stream",
     "text": [
      "                                             \r"
     ]
    },
    {
     "name": "stdout",
     "output_type": "stream",
     "text": [
      "Modèle n°65 : 42.349s | Précision : 89.36% | F1 : 0.887\n"
     ]
    },
    {
     "name": "stderr",
     "output_type": "stream",
     "text": [
      "                                             \r"
     ]
    },
    {
     "name": "stdout",
     "output_type": "stream",
     "text": [
      "Modèle n°66 : 42.423s | Précision : 89.36% | F1 : 0.887\n"
     ]
    },
    {
     "name": "stderr",
     "output_type": "stream",
     "text": [
      "                                             \r"
     ]
    },
    {
     "name": "stdout",
     "output_type": "stream",
     "text": [
      "Modèle n°67 : 42.49s | Précision : 89.36% | F1 : 0.887\n"
     ]
    },
    {
     "name": "stderr",
     "output_type": "stream",
     "text": [
      "                                             \r"
     ]
    },
    {
     "name": "stdout",
     "output_type": "stream",
     "text": [
      "Modèle n°68 : 42.363s | Précision : 89.36% | F1 : 0.887\n"
     ]
    },
    {
     "name": "stderr",
     "output_type": "stream",
     "text": [
      "                                             \r"
     ]
    },
    {
     "name": "stdout",
     "output_type": "stream",
     "text": [
      "Modèle n°69 : 42.309s | Précision : 89.36% | F1 : 0.887\n"
     ]
    },
    {
     "name": "stderr",
     "output_type": "stream",
     "text": [
      "                                             \r"
     ]
    },
    {
     "name": "stdout",
     "output_type": "stream",
     "text": [
      "Modèle n°70 : 42.105s | Précision : 89.36% | F1 : 0.887\n"
     ]
    },
    {
     "name": "stderr",
     "output_type": "stream",
     "text": [
      "                                             \r"
     ]
    },
    {
     "name": "stdout",
     "output_type": "stream",
     "text": [
      "Modèle n°71 : 49.688s | Précision : 89.36% | F1 : 0.887\n"
     ]
    },
    {
     "name": "stderr",
     "output_type": "stream",
     "text": [
      "                                             \r"
     ]
    },
    {
     "name": "stdout",
     "output_type": "stream",
     "text": [
      "Modèle n°72 : 48.927s | Précision : 89.36% | F1 : 0.887\n"
     ]
    },
    {
     "name": "stderr",
     "output_type": "stream",
     "text": [
      "                                             \r"
     ]
    },
    {
     "name": "stdout",
     "output_type": "stream",
     "text": [
      "Modèle n°73 : 48.826s | Précision : 89.36% | F1 : 0.887\n"
     ]
    },
    {
     "name": "stderr",
     "output_type": "stream",
     "text": [
      "                                             \r"
     ]
    },
    {
     "name": "stdout",
     "output_type": "stream",
     "text": [
      "Modèle n°74 : 49.121s | Précision : 89.41% | F1 : 0.888\n"
     ]
    },
    {
     "name": "stderr",
     "output_type": "stream",
     "text": [
      "                                             \r"
     ]
    },
    {
     "name": "stdout",
     "output_type": "stream",
     "text": [
      "Modèle n°75 : 48.982s | Précision : 89.41% | F1 : 0.888\n"
     ]
    },
    {
     "name": "stderr",
     "output_type": "stream",
     "text": [
      "                                             \r"
     ]
    },
    {
     "name": "stdout",
     "output_type": "stream",
     "text": [
      "Modèle n°76 : 48.844s | Précision : 89.41% | F1 : 0.888\n"
     ]
    },
    {
     "name": "stderr",
     "output_type": "stream",
     "text": [
      "                                             \r"
     ]
    },
    {
     "name": "stdout",
     "output_type": "stream",
     "text": [
      "Modèle n°77 : 48.782s | Précision : 89.41% | F1 : 0.888\n"
     ]
    },
    {
     "name": "stderr",
     "output_type": "stream",
     "text": [
      "                                             \r"
     ]
    },
    {
     "name": "stdout",
     "output_type": "stream",
     "text": [
      "Modèle n°78 : 48.711s | Précision : 89.41% | F1 : 0.888\n"
     ]
    },
    {
     "name": "stderr",
     "output_type": "stream",
     "text": [
      "                                             \r"
     ]
    },
    {
     "name": "stdout",
     "output_type": "stream",
     "text": [
      "Modèle n°79 : 48.703s | Précision : 89.41% | F1 : 0.888\n"
     ]
    },
    {
     "name": "stderr",
     "output_type": "stream",
     "text": [
      "                                             \r"
     ]
    },
    {
     "name": "stdout",
     "output_type": "stream",
     "text": [
      "Modèle n°80 : 48.711s | Précision : 89.41% | F1 : 0.888\n"
     ]
    },
    {
     "name": "stderr",
     "output_type": "stream",
     "text": [
      "                                             \r"
     ]
    },
    {
     "name": "stdout",
     "output_type": "stream",
     "text": [
      "Modèle n°81 : 56.15s | Précision : 89.41% | F1 : 0.888\n"
     ]
    },
    {
     "name": "stderr",
     "output_type": "stream",
     "text": [
      "                                             \r"
     ]
    },
    {
     "name": "stdout",
     "output_type": "stream",
     "text": [
      "Modèle n°82 : 55.552s | Précision : 89.41% | F1 : 0.888\n"
     ]
    },
    {
     "name": "stderr",
     "output_type": "stream",
     "text": [
      "                                             \r"
     ]
    },
    {
     "name": "stdout",
     "output_type": "stream",
     "text": [
      "Modèle n°83 : 55.514s | Précision : 89.41% | F1 : 0.888\n"
     ]
    },
    {
     "name": "stderr",
     "output_type": "stream",
     "text": [
      "                                             \r"
     ]
    },
    {
     "name": "stdout",
     "output_type": "stream",
     "text": [
      "Modèle n°84 : 55.511s | Précision : 89.41% | F1 : 0.888\n"
     ]
    },
    {
     "name": "stderr",
     "output_type": "stream",
     "text": [
      "                                             \r"
     ]
    },
    {
     "name": "stdout",
     "output_type": "stream",
     "text": [
      "Modèle n°85 : 55.513s | Précision : 89.41% | F1 : 0.888\n"
     ]
    },
    {
     "name": "stderr",
     "output_type": "stream",
     "text": [
      "                                             \r"
     ]
    },
    {
     "name": "stdout",
     "output_type": "stream",
     "text": [
      "Modèle n°86 : 55.492s | Précision : 89.41% | F1 : 0.888\n"
     ]
    },
    {
     "name": "stderr",
     "output_type": "stream",
     "text": [
      "                                             \r"
     ]
    },
    {
     "name": "stdout",
     "output_type": "stream",
     "text": [
      "Modèle n°87 : 55.516s | Précision : 89.41% | F1 : 0.888\n"
     ]
    },
    {
     "name": "stderr",
     "output_type": "stream",
     "text": [
      "                                             \r"
     ]
    },
    {
     "name": "stdout",
     "output_type": "stream",
     "text": [
      "Modèle n°88 : 55.547s | Précision : 89.41% | F1 : 0.888\n"
     ]
    },
    {
     "name": "stderr",
     "output_type": "stream",
     "text": [
      "                                             \r"
     ]
    },
    {
     "name": "stdout",
     "output_type": "stream",
     "text": [
      "Modèle n°89 : 55.487s | Précision : 89.41% | F1 : 0.888\n"
     ]
    },
    {
     "name": "stderr",
     "output_type": "stream",
     "text": [
      "                                             \r"
     ]
    },
    {
     "name": "stdout",
     "output_type": "stream",
     "text": [
      "Modèle n°90 : 56.154s | Précision : 89.41% | F1 : 0.888\n"
     ]
    },
    {
     "name": "stderr",
     "output_type": "stream",
     "text": [
      "                                             \r"
     ]
    },
    {
     "name": "stdout",
     "output_type": "stream",
     "text": [
      "Modèle n°91 : 1m3s | Précision : 89.41% | F1 : 0.888\n"
     ]
    },
    {
     "name": "stderr",
     "output_type": "stream",
     "text": [
      "                                             \r"
     ]
    },
    {
     "name": "stdout",
     "output_type": "stream",
     "text": [
      "Modèle n°92 : 1m3s | Précision : 89.41% | F1 : 0.888\n"
     ]
    },
    {
     "name": "stderr",
     "output_type": "stream",
     "text": [
      "                                             \r"
     ]
    },
    {
     "name": "stdout",
     "output_type": "stream",
     "text": [
      "Modèle n°93 : 1m3s | Précision : 89.41% | F1 : 0.888\n"
     ]
    },
    {
     "name": "stderr",
     "output_type": "stream",
     "text": [
      "                                             \r"
     ]
    },
    {
     "name": "stdout",
     "output_type": "stream",
     "text": [
      "Modèle n°94 : 1m2s | Précision : 89.41% | F1 : 0.888\n"
     ]
    },
    {
     "name": "stderr",
     "output_type": "stream",
     "text": [
      "                                             \r"
     ]
    },
    {
     "name": "stdout",
     "output_type": "stream",
     "text": [
      "Modèle n°95 : 1m3s | Précision : 89.41% | F1 : 0.888\n"
     ]
    },
    {
     "name": "stderr",
     "output_type": "stream",
     "text": [
      "                                             \r"
     ]
    },
    {
     "name": "stdout",
     "output_type": "stream",
     "text": [
      "Modèle n°96 : 1m2s | Précision : 89.41% | F1 : 0.888\n"
     ]
    },
    {
     "name": "stderr",
     "output_type": "stream",
     "text": [
      "                                             \r"
     ]
    },
    {
     "name": "stdout",
     "output_type": "stream",
     "text": [
      "Modèle n°97 : 1m3s | Précision : 89.41% | F1 : 0.888\n"
     ]
    },
    {
     "name": "stderr",
     "output_type": "stream",
     "text": [
      "                                             \r"
     ]
    },
    {
     "name": "stdout",
     "output_type": "stream",
     "text": [
      "Modèle n°98 : 1m3s | Précision : 89.41% | F1 : 0.888\n"
     ]
    },
    {
     "name": "stderr",
     "output_type": "stream",
     "text": [
      "                                             \r"
     ]
    },
    {
     "name": "stdout",
     "output_type": "stream",
     "text": [
      "Modèle n°99 : 1m3s | Précision : 89.41% | F1 : 0.888\n"
     ]
    },
    {
     "name": "stderr",
     "output_type": "stream",
     "text": [
      "                                             \r"
     ]
    },
    {
     "name": "stdout",
     "output_type": "stream",
     "text": [
      "Modèle n°100 : 1m2s | Précision : 89.41% | F1 : 0.888\n",
      "\n",
      "#######################################\n",
      "\n",
      "Processus terminé : 53m35s\n",
      "\n",
      "#######################################\n",
      "\n",
      "Le paramètre optimal est : {'trees': 200.0, 'learning_rate': 0.33340000000000003}\n",
      "Accuracy : 89.4% | F1 : 0.888\n",
      "\n",
      "#######################################\n",
      "\n"
     ]
    },
    {
     "data": {
      "image/png": "[encoded data removed]",
      "text/plain": [
       "<Figure size 1000x800 with 2 Axes>"
      ]
     },
     "metadata": {},
     "output_type": "display_data"
    }
   ],
   "source": [
    "optimise_model(\n",
    "    model_name='xgboost',\n",
    "    nbr_grid={'trees': 10, 'learning_rate': 10},\n",
    "    cv=5,\n",
    "    shuffle=True\n",
    ")"
   ]
  },
  {
   "cell_type": "markdown",
   "id": "8d55532f",
   "metadata": {},
   "source": [
    "On remarque que le modèle XGBoost présente de très bonnes performances après réentraînement du modèle. Il est très légèrement moins précis que le RandomForest, avec un taux de précision de 89.4% et un F1-score de 0.888. "
   ]
  },
  {
   "cell_type": "code",
   "execution_count": 38,
   "id": "07aaf984",
   "metadata": {},
   "outputs": [
    {
     "name": "stdout",
     "output_type": "stream",
     "text": [
      "#######################################\n",
      "\n"
     ]
    },
    {
     "name": "stderr",
     "output_type": "stream",
     "text": [
      "                                             \r"
     ]
    },
    {
     "name": "stdout",
     "output_type": "stream",
     "text": [
      "Modèle n°1 : 1.879s | Précision : 86.38% | F1 : 0.85\n"
     ]
    },
    {
     "name": "stderr",
     "output_type": "stream",
     "text": [
      "                                             \r"
     ]
    },
    {
     "name": "stdout",
     "output_type": "stream",
     "text": [
      "Modèle n°2 : 1.79s | Précision : 86.9% | F1 : 0.854\n"
     ]
    },
    {
     "name": "stderr",
     "output_type": "stream",
     "text": [
      "                                             \r"
     ]
    },
    {
     "name": "stdout",
     "output_type": "stream",
     "text": [
      "Modèle n°3 : 1.795s | Précision : 86.9% | F1 : 0.854\n"
     ]
    },
    {
     "name": "stderr",
     "output_type": "stream",
     "text": [
      "                                             \r"
     ]
    },
    {
     "name": "stdout",
     "output_type": "stream",
     "text": [
      "Modèle n°4 : 1.814s | Précision : 87.09% | F1 : 0.858\n"
     ]
    },
    {
     "name": "stderr",
     "output_type": "stream",
     "text": [
      "                                             \r"
     ]
    },
    {
     "name": "stdout",
     "output_type": "stream",
     "text": [
      "Modèle n°5 : 1.802s | Précision : 87.09% | F1 : 0.858\n"
     ]
    },
    {
     "name": "stderr",
     "output_type": "stream",
     "text": [
      "                                             \r"
     ]
    },
    {
     "name": "stdout",
     "output_type": "stream",
     "text": [
      "Modèle n°6 : 1.81s | Précision : 87.17% | F1 : 0.858\n"
     ]
    },
    {
     "name": "stderr",
     "output_type": "stream",
     "text": [
      "                                             \r"
     ]
    },
    {
     "name": "stdout",
     "output_type": "stream",
     "text": [
      "Modèle n°7 : 1.785s | Précision : 87.29% | F1 : 0.861\n"
     ]
    },
    {
     "name": "stderr",
     "output_type": "stream",
     "text": [
      "                                             \r"
     ]
    },
    {
     "name": "stdout",
     "output_type": "stream",
     "text": [
      "Modèle n°8 : 1.792s | Précision : 87.29% | F1 : 0.861\n"
     ]
    },
    {
     "name": "stderr",
     "output_type": "stream",
     "text": [
      "                                             \r"
     ]
    },
    {
     "name": "stdout",
     "output_type": "stream",
     "text": [
      "Modèle n°9 : 1.798s | Précision : 87.29% | F1 : 0.861\n"
     ]
    },
    {
     "name": "stderr",
     "output_type": "stream",
     "text": [
      "                                             \r"
     ]
    },
    {
     "name": "stdout",
     "output_type": "stream",
     "text": [
      "Modèle n°10 : 1.785s | Précision : 87.47% | F1 : 0.861\n"
     ]
    },
    {
     "name": "stderr",
     "output_type": "stream",
     "text": [
      "                                             \r"
     ]
    },
    {
     "name": "stdout",
     "output_type": "stream",
     "text": [
      "Modèle n°11 : 1.768s | Précision : 87.47% | F1 : 0.861\n"
     ]
    },
    {
     "name": "stderr",
     "output_type": "stream",
     "text": [
      "                                             \r"
     ]
    },
    {
     "name": "stdout",
     "output_type": "stream",
     "text": [
      "Modèle n°12 : 1.798s | Précision : 87.47% | F1 : 0.861\n"
     ]
    },
    {
     "name": "stderr",
     "output_type": "stream",
     "text": [
      "                                             \r"
     ]
    },
    {
     "name": "stdout",
     "output_type": "stream",
     "text": [
      "Modèle n°13 : 1.794s | Précision : 87.47% | F1 : 0.861\n"
     ]
    },
    {
     "name": "stderr",
     "output_type": "stream",
     "text": [
      "                                             \r"
     ]
    },
    {
     "name": "stdout",
     "output_type": "stream",
     "text": [
      "Modèle n°14 : 2.165s | Précision : 87.47% | F1 : 0.861\n"
     ]
    },
    {
     "name": "stderr",
     "output_type": "stream",
     "text": [
      "                                             \r"
     ]
    },
    {
     "name": "stdout",
     "output_type": "stream",
     "text": [
      "Modèle n°15 : 1.785s | Précision : 87.51% | F1 : 0.862\n"
     ]
    },
    {
     "name": "stderr",
     "output_type": "stream",
     "text": [
      "                                             \r"
     ]
    },
    {
     "name": "stdout",
     "output_type": "stream",
     "text": [
      "Modèle n°16 : 1.784s | Précision : 87.51% | F1 : 0.862\n"
     ]
    },
    {
     "name": "stderr",
     "output_type": "stream",
     "text": [
      "                                             \r"
     ]
    },
    {
     "name": "stdout",
     "output_type": "stream",
     "text": [
      "Modèle n°17 : 1.808s | Précision : 87.55% | F1 : 0.862\n"
     ]
    },
    {
     "name": "stderr",
     "output_type": "stream",
     "text": [
      "                                             \r"
     ]
    },
    {
     "name": "stdout",
     "output_type": "stream",
     "text": [
      "Modèle n°18 : 1.801s | Précision : 87.55% | F1 : 0.862\n"
     ]
    },
    {
     "name": "stderr",
     "output_type": "stream",
     "text": [
      "                                             \r"
     ]
    },
    {
     "name": "stdout",
     "output_type": "stream",
     "text": [
      "Modèle n°19 : 1.804s | Précision : 87.55% | F1 : 0.862\n"
     ]
    },
    {
     "name": "stderr",
     "output_type": "stream",
     "text": [
      "                                             \r"
     ]
    },
    {
     "name": "stdout",
     "output_type": "stream",
     "text": [
      "Modèle n°20 : 1.785s | Précision : 87.62% | F1 : 0.864\n"
     ]
    },
    {
     "name": "stderr",
     "output_type": "stream",
     "text": [
      "                                             \r"
     ]
    },
    {
     "name": "stdout",
     "output_type": "stream",
     "text": [
      "Modèle n°21 : 1.777s | Précision : 87.62% | F1 : 0.864\n"
     ]
    },
    {
     "name": "stderr",
     "output_type": "stream",
     "text": [
      "                                             \r"
     ]
    },
    {
     "name": "stdout",
     "output_type": "stream",
     "text": [
      "Modèle n°22 : 1.784s | Précision : 87.62% | F1 : 0.864\n"
     ]
    },
    {
     "name": "stderr",
     "output_type": "stream",
     "text": [
      "                                             \r"
     ]
    },
    {
     "name": "stdout",
     "output_type": "stream",
     "text": [
      "Modèle n°23 : 1.769s | Précision : 87.62% | F1 : 0.864\n"
     ]
    },
    {
     "name": "stderr",
     "output_type": "stream",
     "text": [
      "                                             \r"
     ]
    },
    {
     "name": "stdout",
     "output_type": "stream",
     "text": [
      "Modèle n°24 : 1.805s | Précision : 87.62% | F1 : 0.864\n"
     ]
    },
    {
     "name": "stderr",
     "output_type": "stream",
     "text": [
      "                                             \r"
     ]
    },
    {
     "name": "stdout",
     "output_type": "stream",
     "text": [
      "Modèle n°25 : 1.8s | Précision : 87.62% | F1 : 0.864\n"
     ]
    },
    {
     "name": "stderr",
     "output_type": "stream",
     "text": [
      "                                             \r"
     ]
    },
    {
     "name": "stdout",
     "output_type": "stream",
     "text": [
      "Modèle n°26 : 1.802s | Précision : 87.67% | F1 : 0.864\n"
     ]
    },
    {
     "name": "stderr",
     "output_type": "stream",
     "text": [
      "                                             \r"
     ]
    },
    {
     "name": "stdout",
     "output_type": "stream",
     "text": [
      "Modèle n°27 : 1.81s | Précision : 87.67% | F1 : 0.864\n"
     ]
    },
    {
     "name": "stderr",
     "output_type": "stream",
     "text": [
      "                                             \r"
     ]
    },
    {
     "name": "stdout",
     "output_type": "stream",
     "text": [
      "Modèle n°28 : 1.808s | Précision : 87.67% | F1 : 0.864\n"
     ]
    },
    {
     "name": "stderr",
     "output_type": "stream",
     "text": [
      "                                             \r"
     ]
    },
    {
     "name": "stdout",
     "output_type": "stream",
     "text": [
      "Modèle n°29 : 1.818s | Précision : 87.67% | F1 : 0.864\n"
     ]
    },
    {
     "name": "stderr",
     "output_type": "stream",
     "text": [
      "                                             \r"
     ]
    },
    {
     "name": "stdout",
     "output_type": "stream",
     "text": [
      "Modèle n°30 : 1.798s | Précision : 87.67% | F1 : 0.864\n"
     ]
    },
    {
     "name": "stderr",
     "output_type": "stream",
     "text": [
      "                                             \r"
     ]
    },
    {
     "name": "stdout",
     "output_type": "stream",
     "text": [
      "Modèle n°31 : 1.818s | Précision : 87.67% | F1 : 0.864\n"
     ]
    },
    {
     "name": "stderr",
     "output_type": "stream",
     "text": [
      "                                             \r"
     ]
    },
    {
     "name": "stdout",
     "output_type": "stream",
     "text": [
      "Modèle n°32 : 2.197s | Précision : 87.67% | F1 : 0.864\n"
     ]
    },
    {
     "name": "stderr",
     "output_type": "stream",
     "text": [
      "                                             \r"
     ]
    },
    {
     "name": "stdout",
     "output_type": "stream",
     "text": [
      "Modèle n°33 : 1.847s | Précision : 87.85% | F1 : 0.865\n"
     ]
    },
    {
     "name": "stderr",
     "output_type": "stream",
     "text": [
      "                                             \r"
     ]
    },
    {
     "name": "stdout",
     "output_type": "stream",
     "text": [
      "Modèle n°34 : 1.815s | Précision : 87.85% | F1 : 0.865\n"
     ]
    },
    {
     "name": "stderr",
     "output_type": "stream",
     "text": [
      "                                             \r"
     ]
    },
    {
     "name": "stdout",
     "output_type": "stream",
     "text": [
      "Modèle n°35 : 1.824s | Précision : 87.85% | F1 : 0.865\n"
     ]
    },
    {
     "name": "stderr",
     "output_type": "stream",
     "text": [
      "                                             \r"
     ]
    },
    {
     "name": "stdout",
     "output_type": "stream",
     "text": [
      "Modèle n°36 : 1.848s | Précision : 87.85% | F1 : 0.865\n"
     ]
    },
    {
     "name": "stderr",
     "output_type": "stream",
     "text": [
      "                                             \r"
     ]
    },
    {
     "name": "stdout",
     "output_type": "stream",
     "text": [
      "Modèle n°37 : 1.833s | Précision : 87.85% | F1 : 0.865\n"
     ]
    },
    {
     "name": "stderr",
     "output_type": "stream",
     "text": [
      "                                             \r"
     ]
    },
    {
     "name": "stdout",
     "output_type": "stream",
     "text": [
      "Modèle n°38 : 1.843s | Précision : 87.85% | F1 : 0.865\n"
     ]
    },
    {
     "name": "stderr",
     "output_type": "stream",
     "text": [
      "                                             \r"
     ]
    },
    {
     "name": "stdout",
     "output_type": "stream",
     "text": [
      "Modèle n°39 : 1.833s | Précision : 87.85% | F1 : 0.865\n"
     ]
    },
    {
     "name": "stderr",
     "output_type": "stream",
     "text": [
      "                                             \r"
     ]
    },
    {
     "name": "stdout",
     "output_type": "stream",
     "text": [
      "Modèle n°40 : 1.822s | Précision : 87.85% | F1 : 0.865\n"
     ]
    },
    {
     "name": "stderr",
     "output_type": "stream",
     "text": [
      "                                             \r"
     ]
    },
    {
     "name": "stdout",
     "output_type": "stream",
     "text": [
      "Modèle n°41 : 1.839s | Précision : 87.88% | F1 : 0.866\n"
     ]
    },
    {
     "name": "stderr",
     "output_type": "stream",
     "text": [
      "                                             \r"
     ]
    },
    {
     "name": "stdout",
     "output_type": "stream",
     "text": [
      "Modèle n°42 : 1.839s | Précision : 87.88% | F1 : 0.866\n"
     ]
    },
    {
     "name": "stderr",
     "output_type": "stream",
     "text": [
      "                                             \r"
     ]
    },
    {
     "name": "stdout",
     "output_type": "stream",
     "text": [
      "Modèle n°43 : 1.846s | Précision : 87.88% | F1 : 0.866\n"
     ]
    },
    {
     "name": "stderr",
     "output_type": "stream",
     "text": [
      "                                             \r"
     ]
    },
    {
     "name": "stdout",
     "output_type": "stream",
     "text": [
      "Modèle n°44 : 1.836s | Précision : 87.88% | F1 : 0.866\n"
     ]
    },
    {
     "name": "stderr",
     "output_type": "stream",
     "text": [
      "                                             \r"
     ]
    },
    {
     "name": "stdout",
     "output_type": "stream",
     "text": [
      "Modèle n°45 : 1.85s | Précision : 87.88% | F1 : 0.866\n"
     ]
    },
    {
     "name": "stderr",
     "output_type": "stream",
     "text": [
      "                                             \r"
     ]
    },
    {
     "name": "stdout",
     "output_type": "stream",
     "text": [
      "Modèle n°46 : 1.827s | Précision : 87.88% | F1 : 0.866\n"
     ]
    },
    {
     "name": "stderr",
     "output_type": "stream",
     "text": [
      "                                             \r"
     ]
    },
    {
     "name": "stdout",
     "output_type": "stream",
     "text": [
      "Modèle n°47 : 1.835s | Précision : 87.88% | F1 : 0.866\n"
     ]
    },
    {
     "name": "stderr",
     "output_type": "stream",
     "text": [
      "                                             \r"
     ]
    },
    {
     "name": "stdout",
     "output_type": "stream",
     "text": [
      "Modèle n°48 : 1.841s | Précision : 87.88% | F1 : 0.867\n"
     ]
    },
    {
     "name": "stderr",
     "output_type": "stream",
     "text": [
      "                                             \r"
     ]
    },
    {
     "name": "stdout",
     "output_type": "stream",
     "text": [
      "Modèle n°49 : 1.845s | Précision : 87.88% | F1 : 0.867\n"
     ]
    },
    {
     "name": "stderr",
     "output_type": "stream",
     "text": [
      "                                             \r"
     ]
    },
    {
     "name": "stdout",
     "output_type": "stream",
     "text": [
      "Modèle n°50 : 1.851s | Précision : 87.88% | F1 : 0.867\n"
     ]
    },
    {
     "name": "stderr",
     "output_type": "stream",
     "text": [
      "                                             \r"
     ]
    },
    {
     "name": "stdout",
     "output_type": "stream",
     "text": [
      "Modèle n°51 : 1.851s | Précision : 87.88% | F1 : 0.867\n"
     ]
    },
    {
     "name": "stderr",
     "output_type": "stream",
     "text": [
      "                                             \r"
     ]
    },
    {
     "name": "stdout",
     "output_type": "stream",
     "text": [
      "Modèle n°52 : 1.86s | Précision : 87.88% | F1 : 0.867\n"
     ]
    },
    {
     "name": "stderr",
     "output_type": "stream",
     "text": [
      "                                             \r"
     ]
    },
    {
     "name": "stdout",
     "output_type": "stream",
     "text": [
      "Modèle n°53 : 2.306s | Précision : 87.88% | F1 : 0.867\n"
     ]
    },
    {
     "name": "stderr",
     "output_type": "stream",
     "text": [
      "                                             \r"
     ]
    },
    {
     "name": "stdout",
     "output_type": "stream",
     "text": [
      "Modèle n°54 : 1.861s | Précision : 87.88% | F1 : 0.867\n"
     ]
    },
    {
     "name": "stderr",
     "output_type": "stream",
     "text": [
      "                                             \r"
     ]
    },
    {
     "name": "stdout",
     "output_type": "stream",
     "text": [
      "Modèle n°55 : 1.87s | Précision : 87.88% | F1 : 0.867\n"
     ]
    },
    {
     "name": "stderr",
     "output_type": "stream",
     "text": [
      "                                             \r"
     ]
    },
    {
     "name": "stdout",
     "output_type": "stream",
     "text": [
      "Modèle n°56 : 1.87s | Précision : 87.9% | F1 : 0.867\n"
     ]
    },
    {
     "name": "stderr",
     "output_type": "stream",
     "text": [
      "                                             \r"
     ]
    },
    {
     "name": "stdout",
     "output_type": "stream",
     "text": [
      "Modèle n°57 : 1.887s | Précision : 87.95% | F1 : 0.867\n"
     ]
    },
    {
     "name": "stderr",
     "output_type": "stream",
     "text": [
      "                                             \r"
     ]
    },
    {
     "name": "stdout",
     "output_type": "stream",
     "text": [
      "Modèle n°58 : 1.868s | Précision : 87.95% | F1 : 0.867\n"
     ]
    },
    {
     "name": "stderr",
     "output_type": "stream",
     "text": [
      "                                             \r"
     ]
    },
    {
     "name": "stdout",
     "output_type": "stream",
     "text": [
      "Modèle n°59 : 1.865s | Précision : 87.95% | F1 : 0.867\n"
     ]
    },
    {
     "name": "stderr",
     "output_type": "stream",
     "text": [
      "                                             \r"
     ]
    },
    {
     "name": "stdout",
     "output_type": "stream",
     "text": [
      "Modèle n°60 : 1.86s | Précision : 87.95% | F1 : 0.867\n"
     ]
    },
    {
     "name": "stderr",
     "output_type": "stream",
     "text": [
      "                                             \r"
     ]
    },
    {
     "name": "stdout",
     "output_type": "stream",
     "text": [
      "Modèle n°61 : 1.848s | Précision : 87.95% | F1 : 0.867\n"
     ]
    },
    {
     "name": "stderr",
     "output_type": "stream",
     "text": [
      "                                             \r"
     ]
    },
    {
     "name": "stdout",
     "output_type": "stream",
     "text": [
      "Modèle n°62 : 1.854s | Précision : 87.95% | F1 : 0.867\n"
     ]
    },
    {
     "name": "stderr",
     "output_type": "stream",
     "text": [
      "                                             \r"
     ]
    },
    {
     "name": "stdout",
     "output_type": "stream",
     "text": [
      "Modèle n°63 : 1.863s | Précision : 87.95% | F1 : 0.867\n"
     ]
    },
    {
     "name": "stderr",
     "output_type": "stream",
     "text": [
      "                                             \r"
     ]
    },
    {
     "name": "stdout",
     "output_type": "stream",
     "text": [
      "Modèle n°64 : 1.82s | Précision : 87.95% | F1 : 0.867\n"
     ]
    },
    {
     "name": "stderr",
     "output_type": "stream",
     "text": [
      "                                             \r"
     ]
    },
    {
     "name": "stdout",
     "output_type": "stream",
     "text": [
      "Modèle n°65 : 1.86s | Précision : 87.95% | F1 : 0.867\n"
     ]
    },
    {
     "name": "stderr",
     "output_type": "stream",
     "text": [
      "                                             \r"
     ]
    },
    {
     "name": "stdout",
     "output_type": "stream",
     "text": [
      "Modèle n°66 : 1.862s | Précision : 87.95% | F1 : 0.867\n"
     ]
    },
    {
     "name": "stderr",
     "output_type": "stream",
     "text": [
      "                                             \r"
     ]
    },
    {
     "name": "stdout",
     "output_type": "stream",
     "text": [
      "Modèle n°67 : 1.837s | Précision : 87.95% | F1 : 0.867\n"
     ]
    },
    {
     "name": "stderr",
     "output_type": "stream",
     "text": [
      "                                             \r"
     ]
    },
    {
     "name": "stdout",
     "output_type": "stream",
     "text": [
      "Modèle n°68 : 1.87s | Précision : 87.95% | F1 : 0.867\n"
     ]
    },
    {
     "name": "stderr",
     "output_type": "stream",
     "text": [
      "                                             \r"
     ]
    },
    {
     "name": "stdout",
     "output_type": "stream",
     "text": [
      "Modèle n°69 : 1.862s | Précision : 87.96% | F1 : 0.867\n"
     ]
    },
    {
     "name": "stderr",
     "output_type": "stream",
     "text": [
      "                                             \r"
     ]
    },
    {
     "name": "stdout",
     "output_type": "stream",
     "text": [
      "Modèle n°70 : 1.842s | Précision : 87.96% | F1 : 0.867\n"
     ]
    },
    {
     "name": "stderr",
     "output_type": "stream",
     "text": [
      "                                             \r"
     ]
    },
    {
     "name": "stdout",
     "output_type": "stream",
     "text": [
      "Modèle n°71 : 1.857s | Précision : 87.96% | F1 : 0.867\n"
     ]
    },
    {
     "name": "stderr",
     "output_type": "stream",
     "text": [
      "                                             \r"
     ]
    },
    {
     "name": "stdout",
     "output_type": "stream",
     "text": [
      "Modèle n°72 : 1.857s | Précision : 87.96% | F1 : 0.867\n"
     ]
    },
    {
     "name": "stderr",
     "output_type": "stream",
     "text": [
      "                                             \r"
     ]
    },
    {
     "name": "stdout",
     "output_type": "stream",
     "text": [
      "Modèle n°73 : 1.86s | Précision : 87.96% | F1 : 0.867\n"
     ]
    },
    {
     "name": "stderr",
     "output_type": "stream",
     "text": [
      "                                             \r"
     ]
    },
    {
     "name": "stdout",
     "output_type": "stream",
     "text": [
      "Modèle n°74 : 1.848s | Précision : 87.96% | F1 : 0.867\n"
     ]
    },
    {
     "name": "stderr",
     "output_type": "stream",
     "text": [
      "                                             \r"
     ]
    },
    {
     "name": "stdout",
     "output_type": "stream",
     "text": [
      "Modèle n°75 : 1.843s | Précision : 87.96% | F1 : 0.867\n"
     ]
    },
    {
     "name": "stderr",
     "output_type": "stream",
     "text": [
      "                                             \r"
     ]
    },
    {
     "name": "stdout",
     "output_type": "stream",
     "text": [
      "Modèle n°76 : 1.835s | Précision : 87.96% | F1 : 0.867\n"
     ]
    },
    {
     "name": "stderr",
     "output_type": "stream",
     "text": [
      "                                             \r"
     ]
    },
    {
     "name": "stdout",
     "output_type": "stream",
     "text": [
      "Modèle n°77 : 1.837s | Précision : 87.96% | F1 : 0.867\n"
     ]
    },
    {
     "name": "stderr",
     "output_type": "stream",
     "text": [
      "                                             \r"
     ]
    },
    {
     "name": "stdout",
     "output_type": "stream",
     "text": [
      "Modèle n°78 : 2.379s | Précision : 87.99% | F1 : 0.868\n"
     ]
    },
    {
     "name": "stderr",
     "output_type": "stream",
     "text": [
      "                                             \r"
     ]
    },
    {
     "name": "stdout",
     "output_type": "stream",
     "text": [
      "Modèle n°79 : 1.903s | Précision : 87.99% | F1 : 0.868\n"
     ]
    },
    {
     "name": "stderr",
     "output_type": "stream",
     "text": [
      "                                             \r"
     ]
    },
    {
     "name": "stdout",
     "output_type": "stream",
     "text": [
      "Modèle n°80 : 1.899s | Précision : 87.99% | F1 : 0.868\n"
     ]
    },
    {
     "name": "stderr",
     "output_type": "stream",
     "text": [
      "                                             \r"
     ]
    },
    {
     "name": "stdout",
     "output_type": "stream",
     "text": [
      "Modèle n°81 : 1.909s | Précision : 87.99% | F1 : 0.868\n"
     ]
    },
    {
     "name": "stderr",
     "output_type": "stream",
     "text": [
      "                                             \r"
     ]
    },
    {
     "name": "stdout",
     "output_type": "stream",
     "text": [
      "Modèle n°82 : 1.91s | Précision : 87.99% | F1 : 0.868\n"
     ]
    },
    {
     "name": "stderr",
     "output_type": "stream",
     "text": [
      "                                             \r"
     ]
    },
    {
     "name": "stdout",
     "output_type": "stream",
     "text": [
      "Modèle n°83 : 1.858s | Précision : 87.99% | F1 : 0.868\n"
     ]
    },
    {
     "name": "stderr",
     "output_type": "stream",
     "text": [
      "                                             \r"
     ]
    },
    {
     "name": "stdout",
     "output_type": "stream",
     "text": [
      "Modèle n°84 : 1.851s | Précision : 87.99% | F1 : 0.868\n"
     ]
    },
    {
     "name": "stderr",
     "output_type": "stream",
     "text": [
      "                                             \r"
     ]
    },
    {
     "name": "stdout",
     "output_type": "stream",
     "text": [
      "Modèle n°85 : 1.825s | Précision : 87.99% | F1 : 0.868\n"
     ]
    },
    {
     "name": "stderr",
     "output_type": "stream",
     "text": [
      "                                             \r"
     ]
    },
    {
     "name": "stdout",
     "output_type": "stream",
     "text": [
      "Modèle n°86 : 1.842s | Précision : 87.99% | F1 : 0.868\n"
     ]
    },
    {
     "name": "stderr",
     "output_type": "stream",
     "text": [
      "                                             \r"
     ]
    },
    {
     "name": "stdout",
     "output_type": "stream",
     "text": [
      "Modèle n°87 : 1.836s | Précision : 87.99% | F1 : 0.868\n"
     ]
    },
    {
     "name": "stderr",
     "output_type": "stream",
     "text": [
      "                                             \r"
     ]
    },
    {
     "name": "stdout",
     "output_type": "stream",
     "text": [
      "Modèle n°88 : 1.853s | Précision : 87.99% | F1 : 0.868\n"
     ]
    },
    {
     "name": "stderr",
     "output_type": "stream",
     "text": [
      "                                             \r"
     ]
    },
    {
     "name": "stdout",
     "output_type": "stream",
     "text": [
      "Modèle n°89 : 1.822s | Précision : 87.99% | F1 : 0.868\n"
     ]
    },
    {
     "name": "stderr",
     "output_type": "stream",
     "text": [
      "                                             \r"
     ]
    },
    {
     "name": "stdout",
     "output_type": "stream",
     "text": [
      "Modèle n°90 : 1.803s | Précision : 87.99% | F1 : 0.868\n"
     ]
    },
    {
     "name": "stderr",
     "output_type": "stream",
     "text": [
      "                                             \r"
     ]
    },
    {
     "name": "stdout",
     "output_type": "stream",
     "text": [
      "Modèle n°91 : 1.854s | Précision : 87.99% | F1 : 0.868\n"
     ]
    },
    {
     "name": "stderr",
     "output_type": "stream",
     "text": [
      "                                             \r"
     ]
    },
    {
     "name": "stdout",
     "output_type": "stream",
     "text": [
      "Modèle n°92 : 1.845s | Précision : 87.99% | F1 : 0.868\n"
     ]
    },
    {
     "name": "stderr",
     "output_type": "stream",
     "text": [
      "                                             \r"
     ]
    },
    {
     "name": "stdout",
     "output_type": "stream",
     "text": [
      "Modèle n°93 : 1.838s | Précision : 87.99% | F1 : 0.868\n"
     ]
    },
    {
     "name": "stderr",
     "output_type": "stream",
     "text": [
      "                                             \r"
     ]
    },
    {
     "name": "stdout",
     "output_type": "stream",
     "text": [
      "Modèle n°94 : 1.819s | Précision : 88.01% | F1 : 0.868\n"
     ]
    },
    {
     "name": "stderr",
     "output_type": "stream",
     "text": [
      "                                             \r"
     ]
    },
    {
     "name": "stdout",
     "output_type": "stream",
     "text": [
      "Modèle n°95 : 1.8s | Précision : 88.01% | F1 : 0.868\n"
     ]
    },
    {
     "name": "stderr",
     "output_type": "stream",
     "text": [
      "                                             \r"
     ]
    },
    {
     "name": "stdout",
     "output_type": "stream",
     "text": [
      "Modèle n°96 : 1.841s | Précision : 88.01% | F1 : 0.868\n"
     ]
    },
    {
     "name": "stderr",
     "output_type": "stream",
     "text": [
      "                                             \r"
     ]
    },
    {
     "name": "stdout",
     "output_type": "stream",
     "text": [
      "Modèle n°97 : 1.837s | Précision : 88.03% | F1 : 0.869\n"
     ]
    },
    {
     "name": "stderr",
     "output_type": "stream",
     "text": [
      "                                             \r"
     ]
    },
    {
     "name": "stdout",
     "output_type": "stream",
     "text": [
      "Modèle n°98 : 1.828s | Précision : 88.03% | F1 : 0.869\n"
     ]
    },
    {
     "name": "stderr",
     "output_type": "stream",
     "text": [
      "                                             \r"
     ]
    },
    {
     "name": "stdout",
     "output_type": "stream",
     "text": [
      "Modèle n°99 : 1.817s | Précision : 88.03% | F1 : 0.869\n"
     ]
    },
    {
     "name": "stderr",
     "output_type": "stream",
     "text": [
      "                                             \r"
     ]
    },
    {
     "name": "stdout",
     "output_type": "stream",
     "text": [
      "Modèle n°100 : 1.84s | Précision : 88.03% | F1 : 0.869\n",
      "\n",
      "#######################################\n",
      "\n",
      "Fin : 3m4s\n",
      "\n",
      "#######################################\n",
      "\n",
      "Le paramètre optimal est : {'couche1': 194.0909090909091}\n",
      "Accuracy : 88.0% | F1 : 0.869\n",
      "\n",
      "#######################################\n",
      "\n",
      "\u001b[1m688/688\u001b[0m \u001b[32m━━━━━━━━━━━━━━━━━━━━\u001b[0m\u001b[37m\u001b[0m \u001b[1m1s\u001b[0m 377us/step - accuracy: 0.8409 - loss: 0.3310\n",
      "\u001b[1m688/688\u001b[0m \u001b[32m━━━━━━━━━━━━━━━━━━━━\u001b[0m\u001b[37m\u001b[0m \u001b[1m0s\u001b[0m 298us/step\n"
     ]
    },
    {
     "data": {
      "image/png": "[encoded data removed]",
      "text/plain": [
       "<Figure size 1000x800 with 2 Axes>"
      ]
     },
     "metadata": {},
     "output_type": "display_data"
    }
   ],
   "source": [
    "# Plages['ml_dense1'] = {\"couche1\": (5, 200)}\n",
    "\n",
    "optimise_model(\n",
    "    model_name='ml_dense1',\n",
    "    nbr_grid={'couche1': 100},\n",
    "    cv=5,\n",
    "    shuffle=True\n",
    ")"
   ]
  },
  {
   "cell_type": "markdown",
   "id": "e6a05235",
   "metadata": {},
   "source": [
    "Le réseau de neurones avec une seule couche dense montre une précision plus faible par rapport aux modèles de RandomForest et de Gradient Boosting, avec 88% de précision et un F1-score de 0.869. \n",
    "Ce taux élevé de faux négatifs indique que ce modèle a des difficultés à capturer correctement les ignitions, ce qui est une limitation importante pour cette tâche. \n",
    "\n",
    "Ce modèle est moins robustes que les faux précédents d'un facteur 2 dans ces classifications."
   ]
  },
  {
   "cell_type": "code",
   "execution_count": 9,
   "id": "8785ebd3",
   "metadata": {},
   "outputs": [
    {
     "name": "stdout",
     "output_type": "stream",
     "text": [
      "#######################################\n",
      "\n"
     ]
    },
    {
     "name": "stderr",
     "output_type": "stream",
     "text": [
      "                                             \r"
     ]
    },
    {
     "name": "stdout",
     "output_type": "stream",
     "text": [
      "Modèle n°1 : 2.106s | Précision : 86.4% | F1 : 0.849\n"
     ]
    },
    {
     "name": "stderr",
     "output_type": "stream",
     "text": [
      "                                             \r"
     ]
    },
    {
     "name": "stdout",
     "output_type": "stream",
     "text": [
      "Modèle n°2 : 2.059s | Précision : 86.4% | F1 : 0.849\n"
     ]
    },
    {
     "name": "stderr",
     "output_type": "stream",
     "text": [
      "                                             \r"
     ]
    },
    {
     "name": "stdout",
     "output_type": "stream",
     "text": [
      "Modèle n°3 : 2.024s | Précision : 86.47% | F1 : 0.849\n"
     ]
    },
    {
     "name": "stderr",
     "output_type": "stream",
     "text": [
      "                                             \r"
     ]
    },
    {
     "name": "stdout",
     "output_type": "stream",
     "text": [
      "Modèle n°4 : 1.983s | Précision : 86.47% | F1 : 0.849\n"
     ]
    },
    {
     "name": "stderr",
     "output_type": "stream",
     "text": [
      "                                             \r"
     ]
    },
    {
     "name": "stdout",
     "output_type": "stream",
     "text": [
      "Modèle n°5 : 2.014s | Précision : 86.77% | F1 : 0.849\n"
     ]
    },
    {
     "name": "stderr",
     "output_type": "stream",
     "text": [
      "                                             \r"
     ]
    },
    {
     "name": "stdout",
     "output_type": "stream",
     "text": [
      "Modèle n°6 : 2.015s | Précision : 86.77% | F1 : 0.849\n"
     ]
    },
    {
     "name": "stderr",
     "output_type": "stream",
     "text": [
      "                                             \r"
     ]
    },
    {
     "name": "stdout",
     "output_type": "stream",
     "text": [
      "Modèle n°7 : 2.033s | Précision : 86.77% | F1 : 0.849\n"
     ]
    },
    {
     "name": "stderr",
     "output_type": "stream",
     "text": [
      "                                             \r"
     ]
    },
    {
     "name": "stdout",
     "output_type": "stream",
     "text": [
      "Modèle n°8 : 2.565s | Précision : 86.77% | F1 : 0.849\n"
     ]
    },
    {
     "name": "stderr",
     "output_type": "stream",
     "text": [
      "                                             \r"
     ]
    },
    {
     "name": "stdout",
     "output_type": "stream",
     "text": [
      "Modèle n°9 : 2.066s | Précision : 86.77% | F1 : 0.849\n"
     ]
    },
    {
     "name": "stderr",
     "output_type": "stream",
     "text": [
      "                                             \r"
     ]
    },
    {
     "name": "stdout",
     "output_type": "stream",
     "text": [
      "Modèle n°10 : 2.066s | Précision : 86.77% | F1 : 0.85\n"
     ]
    },
    {
     "name": "stderr",
     "output_type": "stream",
     "text": [
      "                                             \r"
     ]
    },
    {
     "name": "stdout",
     "output_type": "stream",
     "text": [
      "Modèle n°11 : 2.01s | Précision : 87.07% | F1 : 0.859\n"
     ]
    },
    {
     "name": "stderr",
     "output_type": "stream",
     "text": [
      "                                             \r"
     ]
    },
    {
     "name": "stdout",
     "output_type": "stream",
     "text": [
      "Modèle n°12 : 1.996s | Précision : 87.61% | F1 : 0.863\n"
     ]
    },
    {
     "name": "stderr",
     "output_type": "stream",
     "text": [
      "                                             \r"
     ]
    },
    {
     "name": "stdout",
     "output_type": "stream",
     "text": [
      "Modèle n°13 : 2.032s | Précision : 87.61% | F1 : 0.863\n"
     ]
    },
    {
     "name": "stderr",
     "output_type": "stream",
     "text": [
      "                                             \r"
     ]
    },
    {
     "name": "stdout",
     "output_type": "stream",
     "text": [
      "Modèle n°14 : 2.033s | Précision : 87.61% | F1 : 0.863\n"
     ]
    },
    {
     "name": "stderr",
     "output_type": "stream",
     "text": [
      "                                             \r"
     ]
    },
    {
     "name": "stdout",
     "output_type": "stream",
     "text": [
      "Modèle n°15 : 2.031s | Précision : 87.61% | F1 : 0.863\n"
     ]
    },
    {
     "name": "stderr",
     "output_type": "stream",
     "text": [
      "                                             \r"
     ]
    },
    {
     "name": "stdout",
     "output_type": "stream",
     "text": [
      "Modèle n°16 : 2.042s | Précision : 87.68% | F1 : 0.865\n"
     ]
    },
    {
     "name": "stderr",
     "output_type": "stream",
     "text": [
      "                                             \r"
     ]
    },
    {
     "name": "stdout",
     "output_type": "stream",
     "text": [
      "Modèle n°17 : 2.046s | Précision : 87.77% | F1 : 0.865\n"
     ]
    },
    {
     "name": "stderr",
     "output_type": "stream",
     "text": [
      "                                             \r"
     ]
    },
    {
     "name": "stdout",
     "output_type": "stream",
     "text": [
      "Modèle n°18 : 2.043s | Précision : 87.77% | F1 : 0.865\n"
     ]
    },
    {
     "name": "stderr",
     "output_type": "stream",
     "text": [
      "                                             \r"
     ]
    },
    {
     "name": "stdout",
     "output_type": "stream",
     "text": [
      "Modèle n°19 : 2.048s | Précision : 87.77% | F1 : 0.867\n"
     ]
    },
    {
     "name": "stderr",
     "output_type": "stream",
     "text": [
      "                                             \r"
     ]
    },
    {
     "name": "stdout",
     "output_type": "stream",
     "text": [
      "Modèle n°20 : 2.048s | Précision : 87.77% | F1 : 0.867\n"
     ]
    },
    {
     "name": "stderr",
     "output_type": "stream",
     "text": [
      "                                             \r"
     ]
    },
    {
     "name": "stdout",
     "output_type": "stream",
     "text": [
      "Modèle n°21 : 1.95s | Précision : 87.77% | F1 : 0.867\n"
     ]
    },
    {
     "name": "stderr",
     "output_type": "stream",
     "text": [
      "                                             \r"
     ]
    },
    {
     "name": "stdout",
     "output_type": "stream",
     "text": [
      "Modèle n°22 : 2.012s | Précision : 87.87% | F1 : 0.867\n"
     ]
    },
    {
     "name": "stderr",
     "output_type": "stream",
     "text": [
      "                                             \r"
     ]
    },
    {
     "name": "stdout",
     "output_type": "stream",
     "text": [
      "Modèle n°23 : 2.012s | Précision : 88.0% | F1 : 0.868\n"
     ]
    },
    {
     "name": "stderr",
     "output_type": "stream",
     "text": [
      "                                             \r"
     ]
    },
    {
     "name": "stdout",
     "output_type": "stream",
     "text": [
      "Modèle n°24 : 2.034s | Précision : 88.0% | F1 : 0.868\n"
     ]
    },
    {
     "name": "stderr",
     "output_type": "stream",
     "text": [
      "                                             \r"
     ]
    },
    {
     "name": "stdout",
     "output_type": "stream",
     "text": [
      "Modèle n°25 : 2.046s | Précision : 88.05% | F1 : 0.869\n"
     ]
    },
    {
     "name": "stderr",
     "output_type": "stream",
     "text": [
      "                                             \r"
     ]
    },
    {
     "name": "stdout",
     "output_type": "stream",
     "text": [
      "Modèle n°26 : 2.045s | Précision : 88.05% | F1 : 0.869\n"
     ]
    },
    {
     "name": "stderr",
     "output_type": "stream",
     "text": [
      "                                             \r"
     ]
    },
    {
     "name": "stdout",
     "output_type": "stream",
     "text": [
      "Modèle n°27 : 2.055s | Précision : 88.05% | F1 : 0.869\n"
     ]
    },
    {
     "name": "stderr",
     "output_type": "stream",
     "text": [
      "                                             \r"
     ]
    },
    {
     "name": "stdout",
     "output_type": "stream",
     "text": [
      "Modèle n°28 : 2.069s | Précision : 88.08% | F1 : 0.871\n"
     ]
    },
    {
     "name": "stderr",
     "output_type": "stream",
     "text": [
      "                                             \r"
     ]
    },
    {
     "name": "stdout",
     "output_type": "stream",
     "text": [
      "Modèle n°29 : 2.083s | Précision : 88.08% | F1 : 0.871\n"
     ]
    },
    {
     "name": "stderr",
     "output_type": "stream",
     "text": [
      "                                             \r"
     ]
    },
    {
     "name": "stdout",
     "output_type": "stream",
     "text": [
      "Modèle n°30 : 2.752s | Précision : 88.08% | F1 : 0.871\n"
     ]
    },
    {
     "name": "stderr",
     "output_type": "stream",
     "text": [
      "                                             \r"
     ]
    },
    {
     "name": "stdout",
     "output_type": "stream",
     "text": [
      "Modèle n°31 : 2.06s | Précision : 88.08% | F1 : 0.871\n"
     ]
    },
    {
     "name": "stderr",
     "output_type": "stream",
     "text": [
      "                                             \r"
     ]
    },
    {
     "name": "stdout",
     "output_type": "stream",
     "text": [
      "Modèle n°32 : 2.065s | Précision : 88.08% | F1 : 0.871\n"
     ]
    },
    {
     "name": "stderr",
     "output_type": "stream",
     "text": [
      "                                             \r"
     ]
    },
    {
     "name": "stdout",
     "output_type": "stream",
     "text": [
      "Modèle n°33 : 2.08s | Précision : 88.08% | F1 : 0.871\n"
     ]
    },
    {
     "name": "stderr",
     "output_type": "stream",
     "text": [
      "                                             \r"
     ]
    },
    {
     "name": "stdout",
     "output_type": "stream",
     "text": [
      "Modèle n°34 : 2.093s | Précision : 88.08% | F1 : 0.871\n"
     ]
    },
    {
     "name": "stderr",
     "output_type": "stream",
     "text": [
      "                                             \r"
     ]
    },
    {
     "name": "stdout",
     "output_type": "stream",
     "text": [
      "Modèle n°35 : 2.07s | Précision : 88.08% | F1 : 0.871\n"
     ]
    },
    {
     "name": "stderr",
     "output_type": "stream",
     "text": [
      "                                             \r"
     ]
    },
    {
     "name": "stdout",
     "output_type": "stream",
     "text": [
      "Modèle n°36 : 2.08s | Précision : 88.08% | F1 : 0.871\n"
     ]
    },
    {
     "name": "stderr",
     "output_type": "stream",
     "text": [
      "                                             \r"
     ]
    },
    {
     "name": "stdout",
     "output_type": "stream",
     "text": [
      "Modèle n°37 : 2.095s | Précision : 88.1% | F1 : 0.873\n"
     ]
    },
    {
     "name": "stderr",
     "output_type": "stream",
     "text": [
      "                                             \r"
     ]
    },
    {
     "name": "stdout",
     "output_type": "stream",
     "text": [
      "Modèle n°38 : 2.083s | Précision : 88.1% | F1 : 0.873\n"
     ]
    },
    {
     "name": "stderr",
     "output_type": "stream",
     "text": [
      "                                             \r"
     ]
    },
    {
     "name": "stdout",
     "output_type": "stream",
     "text": [
      "Modèle n°39 : 2.106s | Précision : 88.1% | F1 : 0.873\n"
     ]
    },
    {
     "name": "stderr",
     "output_type": "stream",
     "text": [
      "                                             \r"
     ]
    },
    {
     "name": "stdout",
     "output_type": "stream",
     "text": [
      "Modèle n°40 : 2.113s | Précision : 88.1% | F1 : 0.873\n"
     ]
    },
    {
     "name": "stderr",
     "output_type": "stream",
     "text": [
      "                                             \r"
     ]
    },
    {
     "name": "stdout",
     "output_type": "stream",
     "text": [
      "Modèle n°41 : 1.974s | Précision : 88.1% | F1 : 0.873\n"
     ]
    },
    {
     "name": "stderr",
     "output_type": "stream",
     "text": [
      "                                             \r"
     ]
    },
    {
     "name": "stdout",
     "output_type": "stream",
     "text": [
      "Modèle n°42 : 2.011s | Précision : 88.1% | F1 : 0.873\n"
     ]
    },
    {
     "name": "stderr",
     "output_type": "stream",
     "text": [
      "                                             \r"
     ]
    },
    {
     "name": "stdout",
     "output_type": "stream",
     "text": [
      "Modèle n°43 : 2.035s | Précision : 88.24% | F1 : 0.873\n"
     ]
    },
    {
     "name": "stderr",
     "output_type": "stream",
     "text": [
      "                                             \r"
     ]
    },
    {
     "name": "stdout",
     "output_type": "stream",
     "text": [
      "Modèle n°44 : 2.06s | Précision : 88.24% | F1 : 0.873\n"
     ]
    },
    {
     "name": "stderr",
     "output_type": "stream",
     "text": [
      "                                             \r"
     ]
    },
    {
     "name": "stdout",
     "output_type": "stream",
     "text": [
      "Modèle n°45 : 2.052s | Précision : 88.24% | F1 : 0.874\n"
     ]
    },
    {
     "name": "stderr",
     "output_type": "stream",
     "text": [
      "                                             \r"
     ]
    },
    {
     "name": "stdout",
     "output_type": "stream",
     "text": [
      "Modèle n°46 : 2.085s | Précision : 88.24% | F1 : 0.874\n"
     ]
    },
    {
     "name": "stderr",
     "output_type": "stream",
     "text": [
      "                                             \r"
     ]
    },
    {
     "name": "stdout",
     "output_type": "stream",
     "text": [
      "Modèle n°47 : 2.078s | Précision : 88.24% | F1 : 0.874\n"
     ]
    },
    {
     "name": "stderr",
     "output_type": "stream",
     "text": [
      "                                             \r"
     ]
    },
    {
     "name": "stdout",
     "output_type": "stream",
     "text": [
      "Modèle n°48 : 2.082s | Précision : 88.27% | F1 : 0.874\n"
     ]
    },
    {
     "name": "stderr",
     "output_type": "stream",
     "text": [
      "                                             \r"
     ]
    },
    {
     "name": "stdout",
     "output_type": "stream",
     "text": [
      "Modèle n°49 : 2.097s | Précision : 88.27% | F1 : 0.874\n"
     ]
    },
    {
     "name": "stderr",
     "output_type": "stream",
     "text": [
      "                                             \r"
     ]
    },
    {
     "name": "stdout",
     "output_type": "stream",
     "text": [
      "Modèle n°50 : 2.124s | Précision : 88.27% | F1 : 0.874\n"
     ]
    },
    {
     "name": "stderr",
     "output_type": "stream",
     "text": [
      "                                             \r"
     ]
    },
    {
     "name": "stdout",
     "output_type": "stream",
     "text": [
      "Modèle n°51 : 2.024s | Précision : 88.27% | F1 : 0.874\n"
     ]
    },
    {
     "name": "stderr",
     "output_type": "stream",
     "text": [
      "                                             \r"
     ]
    },
    {
     "name": "stdout",
     "output_type": "stream",
     "text": [
      "Modèle n°52 : 2.022s | Précision : 88.27% | F1 : 0.874\n"
     ]
    },
    {
     "name": "stderr",
     "output_type": "stream",
     "text": [
      "                                             \r"
     ]
    },
    {
     "name": "stdout",
     "output_type": "stream",
     "text": [
      "Modèle n°53 : 2.055s | Précision : 88.27% | F1 : 0.874\n"
     ]
    },
    {
     "name": "stderr",
     "output_type": "stream",
     "text": [
      "                                             \r"
     ]
    },
    {
     "name": "stdout",
     "output_type": "stream",
     "text": [
      "Modèle n°54 : 2.062s | Précision : 88.27% | F1 : 0.874\n"
     ]
    },
    {
     "name": "stderr",
     "output_type": "stream",
     "text": [
      "                                             \r"
     ]
    },
    {
     "name": "stdout",
     "output_type": "stream",
     "text": [
      "Modèle n°55 : 2.076s | Précision : 88.27% | F1 : 0.874\n"
     ]
    },
    {
     "name": "stderr",
     "output_type": "stream",
     "text": [
      "                                             \r"
     ]
    },
    {
     "name": "stdout",
     "output_type": "stream",
     "text": [
      "Modèle n°56 : 2.889s | Précision : 88.39% | F1 : 0.877\n"
     ]
    },
    {
     "name": "stderr",
     "output_type": "stream",
     "text": [
      "                                             \r"
     ]
    },
    {
     "name": "stdout",
     "output_type": "stream",
     "text": [
      "Modèle n°57 : 2.176s | Précision : 88.39% | F1 : 0.877\n"
     ]
    },
    {
     "name": "stderr",
     "output_type": "stream",
     "text": [
      "                                             \r"
     ]
    },
    {
     "name": "stdout",
     "output_type": "stream",
     "text": [
      "Modèle n°58 : 2.184s | Précision : 88.39% | F1 : 0.877\n"
     ]
    },
    {
     "name": "stderr",
     "output_type": "stream",
     "text": [
      "                                             \r"
     ]
    },
    {
     "name": "stdout",
     "output_type": "stream",
     "text": [
      "Modèle n°59 : 2.257s | Précision : 88.39% | F1 : 0.877\n"
     ]
    },
    {
     "name": "stderr",
     "output_type": "stream",
     "text": [
      "                                             \r"
     ]
    },
    {
     "name": "stdout",
     "output_type": "stream",
     "text": [
      "Modèle n°60 : 2.213s | Précision : 88.39% | F1 : 0.877\n"
     ]
    },
    {
     "name": "stderr",
     "output_type": "stream",
     "text": [
      "                                             \r"
     ]
    },
    {
     "name": "stdout",
     "output_type": "stream",
     "text": [
      "Modèle n°61 : 2.034s | Précision : 88.39% | F1 : 0.877\n"
     ]
    },
    {
     "name": "stderr",
     "output_type": "stream",
     "text": [
      "                                             \r"
     ]
    },
    {
     "name": "stdout",
     "output_type": "stream",
     "text": [
      "Modèle n°62 : 2.067s | Précision : 88.39% | F1 : 0.877\n"
     ]
    },
    {
     "name": "stderr",
     "output_type": "stream",
     "text": [
      "                                             \r"
     ]
    },
    {
     "name": "stdout",
     "output_type": "stream",
     "text": [
      "Modèle n°63 : 2.079s | Précision : 88.39% | F1 : 0.877\n"
     ]
    },
    {
     "name": "stderr",
     "output_type": "stream",
     "text": [
      "                                             \r"
     ]
    },
    {
     "name": "stdout",
     "output_type": "stream",
     "text": [
      "Modèle n°64 : 2.097s | Précision : 88.39% | F1 : 0.877\n"
     ]
    },
    {
     "name": "stderr",
     "output_type": "stream",
     "text": [
      "                                             \r"
     ]
    },
    {
     "name": "stdout",
     "output_type": "stream",
     "text": [
      "Modèle n°65 : 2.086s | Précision : 88.39% | F1 : 0.877\n"
     ]
    },
    {
     "name": "stderr",
     "output_type": "stream",
     "text": [
      "                                             \r"
     ]
    },
    {
     "name": "stdout",
     "output_type": "stream",
     "text": [
      "Modèle n°66 : 2.11s | Précision : 88.39% | F1 : 0.877\n"
     ]
    },
    {
     "name": "stderr",
     "output_type": "stream",
     "text": [
      "                                             \r"
     ]
    },
    {
     "name": "stdout",
     "output_type": "stream",
     "text": [
      "Modèle n°67 : 2.112s | Précision : 88.39% | F1 : 0.877\n"
     ]
    },
    {
     "name": "stderr",
     "output_type": "stream",
     "text": [
      "                                             \r"
     ]
    },
    {
     "name": "stdout",
     "output_type": "stream",
     "text": [
      "Modèle n°68 : 2.127s | Précision : 88.39% | F1 : 0.877\n"
     ]
    },
    {
     "name": "stderr",
     "output_type": "stream",
     "text": [
      "                                             \r"
     ]
    },
    {
     "name": "stdout",
     "output_type": "stream",
     "text": [
      "Modèle n°69 : 2.152s | Précision : 88.39% | F1 : 0.877\n"
     ]
    },
    {
     "name": "stderr",
     "output_type": "stream",
     "text": [
      "                                             \r"
     ]
    },
    {
     "name": "stdout",
     "output_type": "stream",
     "text": [
      "Modèle n°70 : 2.163s | Précision : 88.39% | F1 : 0.877\n"
     ]
    },
    {
     "name": "stderr",
     "output_type": "stream",
     "text": [
      "                                             \r"
     ]
    },
    {
     "name": "stdout",
     "output_type": "stream",
     "text": [
      "Modèle n°71 : 2.041s | Précision : 88.39% | F1 : 0.877\n"
     ]
    },
    {
     "name": "stderr",
     "output_type": "stream",
     "text": [
      "                                             \r"
     ]
    },
    {
     "name": "stdout",
     "output_type": "stream",
     "text": [
      "Modèle n°72 : 2.038s | Précision : 88.39% | F1 : 0.877\n"
     ]
    },
    {
     "name": "stderr",
     "output_type": "stream",
     "text": [
      "                                             \r"
     ]
    },
    {
     "name": "stdout",
     "output_type": "stream",
     "text": [
      "Modèle n°73 : 2.055s | Précision : 88.39% | F1 : 0.877\n"
     ]
    },
    {
     "name": "stderr",
     "output_type": "stream",
     "text": [
      "                                             \r"
     ]
    },
    {
     "name": "stdout",
     "output_type": "stream",
     "text": [
      "Modèle n°74 : 2.1s | Précision : 88.39% | F1 : 0.877\n"
     ]
    },
    {
     "name": "stderr",
     "output_type": "stream",
     "text": [
      "                                             \r"
     ]
    },
    {
     "name": "stdout",
     "output_type": "stream",
     "text": [
      "Modèle n°75 : 2.116s | Précision : 88.39% | F1 : 0.877\n"
     ]
    },
    {
     "name": "stderr",
     "output_type": "stream",
     "text": [
      "                                             \r"
     ]
    },
    {
     "name": "stdout",
     "output_type": "stream",
     "text": [
      "Modèle n°76 : 2.111s | Précision : 88.39% | F1 : 0.877\n"
     ]
    },
    {
     "name": "stderr",
     "output_type": "stream",
     "text": [
      "                                             \r"
     ]
    },
    {
     "name": "stdout",
     "output_type": "stream",
     "text": [
      "Modèle n°77 : 2.134s | Précision : 88.39% | F1 : 0.877\n"
     ]
    },
    {
     "name": "stderr",
     "output_type": "stream",
     "text": [
      "                                             \r"
     ]
    },
    {
     "name": "stdout",
     "output_type": "stream",
     "text": [
      "Modèle n°78 : 2.171s | Précision : 88.39% | F1 : 0.877\n"
     ]
    },
    {
     "name": "stderr",
     "output_type": "stream",
     "text": [
      "                                             \r"
     ]
    },
    {
     "name": "stdout",
     "output_type": "stream",
     "text": [
      "Modèle n°79 : 2.172s | Précision : 88.46% | F1 : 0.878\n"
     ]
    },
    {
     "name": "stderr",
     "output_type": "stream",
     "text": [
      "                                             \r"
     ]
    },
    {
     "name": "stdout",
     "output_type": "stream",
     "text": [
      "Modèle n°80 : 2.185s | Précision : 88.46% | F1 : 0.878\n"
     ]
    },
    {
     "name": "stderr",
     "output_type": "stream",
     "text": [
      "                                             \r"
     ]
    },
    {
     "name": "stdout",
     "output_type": "stream",
     "text": [
      "Modèle n°81 : 1.998s | Précision : 88.46% | F1 : 0.878\n"
     ]
    },
    {
     "name": "stderr",
     "output_type": "stream",
     "text": [
      "                                             \r"
     ]
    },
    {
     "name": "stdout",
     "output_type": "stream",
     "text": [
      "Modèle n°82 : 2.047s | Précision : 88.46% | F1 : 0.878\n"
     ]
    },
    {
     "name": "stderr",
     "output_type": "stream",
     "text": [
      "                                             \r"
     ]
    },
    {
     "name": "stdout",
     "output_type": "stream",
     "text": [
      "Modèle n°83 : 2.077s | Précision : 88.46% | F1 : 0.878\n"
     ]
    },
    {
     "name": "stderr",
     "output_type": "stream",
     "text": [
      "                                             \r"
     ]
    },
    {
     "name": "stdout",
     "output_type": "stream",
     "text": [
      "Modèle n°84 : 2.112s | Précision : 88.46% | F1 : 0.878\n"
     ]
    },
    {
     "name": "stderr",
     "output_type": "stream",
     "text": [
      "                                             \r"
     ]
    },
    {
     "name": "stdout",
     "output_type": "stream",
     "text": [
      "Modèle n°85 : 2.125s | Précision : 88.46% | F1 : 0.878\n"
     ]
    },
    {
     "name": "stderr",
     "output_type": "stream",
     "text": [
      "                                             \r"
     ]
    },
    {
     "name": "stdout",
     "output_type": "stream",
     "text": [
      "Modèle n°86 : 3.084s | Précision : 88.46% | F1 : 0.878\n"
     ]
    },
    {
     "name": "stderr",
     "output_type": "stream",
     "text": [
      "                                             \r"
     ]
    },
    {
     "name": "stdout",
     "output_type": "stream",
     "text": [
      "Modèle n°87 : 2.237s | Précision : 88.46% | F1 : 0.878\n"
     ]
    },
    {
     "name": "stderr",
     "output_type": "stream",
     "text": [
      "                                             \r"
     ]
    },
    {
     "name": "stdout",
     "output_type": "stream",
     "text": [
      "Modèle n°88 : 2.263s | Précision : 88.46% | F1 : 0.878\n"
     ]
    },
    {
     "name": "stderr",
     "output_type": "stream",
     "text": [
      "                                             \r"
     ]
    },
    {
     "name": "stdout",
     "output_type": "stream",
     "text": [
      "Modèle n°89 : 2.286s | Précision : 88.46% | F1 : 0.878\n"
     ]
    },
    {
     "name": "stderr",
     "output_type": "stream",
     "text": [
      "                                             \r"
     ]
    },
    {
     "name": "stdout",
     "output_type": "stream",
     "text": [
      "Modèle n°90 : 2.317s | Précision : 88.46% | F1 : 0.878\n"
     ]
    },
    {
     "name": "stderr",
     "output_type": "stream",
     "text": [
      "                                             \r"
     ]
    },
    {
     "name": "stdout",
     "output_type": "stream",
     "text": [
      "Modèle n°91 : 2.067s | Précision : 88.46% | F1 : 0.878\n"
     ]
    },
    {
     "name": "stderr",
     "output_type": "stream",
     "text": [
      "                                             \r"
     ]
    },
    {
     "name": "stdout",
     "output_type": "stream",
     "text": [
      "Modèle n°92 : 2.084s | Précision : 88.46% | F1 : 0.878\n"
     ]
    },
    {
     "name": "stderr",
     "output_type": "stream",
     "text": [
      "                                             \r"
     ]
    },
    {
     "name": "stdout",
     "output_type": "stream",
     "text": [
      "Modèle n°93 : 2.115s | Précision : 88.46% | F1 : 0.878\n"
     ]
    },
    {
     "name": "stderr",
     "output_type": "stream",
     "text": [
      "                                             \r"
     ]
    },
    {
     "name": "stdout",
     "output_type": "stream",
     "text": [
      "Modèle n°94 : 2.138s | Précision : 88.46% | F1 : 0.878\n"
     ]
    },
    {
     "name": "stderr",
     "output_type": "stream",
     "text": [
      "                                             \r"
     ]
    },
    {
     "name": "stdout",
     "output_type": "stream",
     "text": [
      "Modèle n°95 : 2.145s | Précision : 88.46% | F1 : 0.878\n"
     ]
    },
    {
     "name": "stderr",
     "output_type": "stream",
     "text": [
      "                                             \r"
     ]
    },
    {
     "name": "stdout",
     "output_type": "stream",
     "text": [
      "Modèle n°96 : 2.18s | Précision : 88.46% | F1 : 0.878\n"
     ]
    },
    {
     "name": "stderr",
     "output_type": "stream",
     "text": [
      "                                             \r"
     ]
    },
    {
     "name": "stdout",
     "output_type": "stream",
     "text": [
      "Modèle n°97 : 2.19s | Précision : 88.46% | F1 : 0.878\n"
     ]
    },
    {
     "name": "stderr",
     "output_type": "stream",
     "text": [
      "                                             \r"
     ]
    },
    {
     "name": "stdout",
     "output_type": "stream",
     "text": [
      "Modèle n°98 : 2.204s | Précision : 88.46% | F1 : 0.878\n"
     ]
    },
    {
     "name": "stderr",
     "output_type": "stream",
     "text": [
      "                                             \r"
     ]
    },
    {
     "name": "stdout",
     "output_type": "stream",
     "text": [
      "Modèle n°99 : 2.246s | Précision : 88.46% | F1 : 0.878\n"
     ]
    },
    {
     "name": "stderr",
     "output_type": "stream",
     "text": [
      "                                             \r"
     ]
    },
    {
     "name": "stdout",
     "output_type": "stream",
     "text": [
      "Modèle n°100 : 2.234s | Précision : 88.46% | F1 : 0.878\n",
      "\n",
      "#######################################\n",
      "\n",
      "Fin : 3m32s\n",
      "\n",
      "#######################################\n",
      "\n",
      "Le paramètre optimal est : {'couche1': 156.66666666666669, 'couche2': 178.33333333333334}\n",
      "Accuracy : 88.5% | F1 : 0.878\n",
      "\n",
      "#######################################\n",
      "\n",
      "\u001b[1m688/688\u001b[0m \u001b[32m━━━━━━━━━━━━━━━━━━━━\u001b[0m\u001b[37m\u001b[0m \u001b[1m1s\u001b[0m 453us/step - accuracy: 0.8642 - loss: 0.3034\n",
      "\u001b[1m688/688\u001b[0m \u001b[32m━━━━━━━━━━━━━━━━━━━━\u001b[0m\u001b[37m\u001b[0m \u001b[1m0s\u001b[0m 340us/step\n"
     ]
    },
    {
     "data": {
      "image/png": "[encoded data removed]",
      "text/plain": [
       "<Figure size 1000x800 with 2 Axes>"
      ]
     },
     "metadata": {},
     "output_type": "display_data"
    }
   ],
   "source": [
    "optimise_model(\n",
    "    model_name='ml_dense2',\n",
    "    nbr_grid={'couche1': 10, 'couche2': 10},\n",
    "    cv=5,\n",
    "    shuffle=True\n",
    ")\n"
   ]
  },
  {
   "cell_type": "markdown",
   "id": "818fd142",
   "metadata": {},
   "source": [
    "Pour terminer cette étude, nous avons une conclusion similaire qu'avec une couche dense. \n",
    "\n",
    "**Conclusion**\n",
    "\n",
    "Le modèle RandomForest est le modèle le plus performant en termes de précision et de F1-score, tout en maintenant un très faible taux d’erreurs. Ensuite, nous retrouvons le modèle XGBoost qui reste une option robuste si un compromis est acceptable entre faux positifs et faux négatifs. Enfin, nous avons les modèles de réseaux de neurones qui sont moins performants, particulièrement en raison de leur taux élevé de faux négatifs, ce qui pourrait être problématique si la détection des ignitions est importante."
   ]
  }
 ],
 "metadata": {
  "kernelspec": {
   "display_name": "Python 3",
   "language": "python",
   "name": "python3"
  },
  "language_info": {
   "codemirror_mode": {
    "name": "ipython",
    "version": 3
   },
   "file_extension": ".py",
   "mimetype": "text/x-python",
   "name": "python",
   "nbconvert_exporter": "python",
   "pygments_lexer": "ipython3",
   "version": "3.12.5"
  }
 },
 "nbformat": 4,
 "nbformat_minor": 5
}
